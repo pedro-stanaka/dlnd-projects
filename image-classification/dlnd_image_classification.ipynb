{
 "cells": [
  {
   "cell_type": "markdown",
   "metadata": {
    "collapsed": true,
    "deletable": true,
    "editable": true
   },
   "source": [
    "# Image Classification\n",
    "In this project, you'll classify images from the [CIFAR-10 dataset](https://www.cs.toronto.edu/~kriz/cifar.html).  The dataset consists of airplanes, dogs, cats, and other objects. You'll preprocess the images, then train a convolutional neural network on all the samples. The images need to be normalized and the labels need to be one-hot encoded.  You'll get to apply what you learned and build a convolutional, max pooling, dropout, and fully connected layers.  At the end, you'll get to see your neural network's predictions on the sample images.\n",
    "## Get the Data\n",
    "Run the following cell to download the [CIFAR-10 dataset for python](https://www.cs.toronto.edu/~kriz/cifar-10-python.tar.gz)."
   ]
  },
  {
   "cell_type": "code",
   "execution_count": 1,
   "metadata": {
    "collapsed": false,
    "deletable": true,
    "editable": true
   },
   "outputs": [
    {
     "name": "stdout",
     "output_type": "stream",
     "text": [
      "All files found!\n"
     ]
    }
   ],
   "source": [
    "\"\"\"\n",
    "DON'T MODIFY ANYTHING IN THIS CELL THAT IS BELOW THIS LINE\n",
    "\"\"\"\n",
    "from urllib.request import urlretrieve\n",
    "from os.path import isfile, isdir\n",
    "from tqdm import tqdm\n",
    "import problem_unittests as tests\n",
    "import tarfile\n",
    "\n",
    "cifar10_dataset_folder_path = 'cifar-10-batches-py'\n",
    "\n",
    "# Use Floyd's cifar-10 dataset if present\n",
    "floyd_cifar10_location = '/input/cifar-10/python.tar.gz'\n",
    "if isfile(floyd_cifar10_location):\n",
    "    tar_gz_path = floyd_cifar10_location\n",
    "else:\n",
    "    tar_gz_path = 'cifar-10-python.tar.gz'\n",
    "\n",
    "class DLProgress(tqdm):\n",
    "    last_block = 0\n",
    "\n",
    "    def hook(self, block_num=1, block_size=1, total_size=None):\n",
    "        self.total = total_size\n",
    "        self.update((block_num - self.last_block) * block_size)\n",
    "        self.last_block = block_num\n",
    "\n",
    "if not isfile(tar_gz_path):\n",
    "    with DLProgress(unit='B', unit_scale=True, miniters=1, desc='CIFAR-10 Dataset') as pbar:\n",
    "        urlretrieve(\n",
    "            'https://www.cs.toronto.edu/~kriz/cifar-10-python.tar.gz',\n",
    "            tar_gz_path,\n",
    "            pbar.hook)\n",
    "\n",
    "if not isdir(cifar10_dataset_folder_path):\n",
    "    with tarfile.open(tar_gz_path) as tar:\n",
    "        tar.extractall()\n",
    "        tar.close()\n",
    "\n",
    "\n",
    "tests.test_folder_path(cifar10_dataset_folder_path)"
   ]
  },
  {
   "cell_type": "markdown",
   "metadata": {
    "deletable": true,
    "editable": true
   },
   "source": [
    "## Explore the Data\n",
    "The dataset is broken into batches to prevent your machine from running out of memory.  The CIFAR-10 dataset consists of 5 batches, named `data_batch_1`, `data_batch_2`, etc.. Each batch contains the labels and images that are one of the following:\n",
    "* airplane\n",
    "* automobile\n",
    "* bird\n",
    "* cat\n",
    "* deer\n",
    "* dog\n",
    "* frog\n",
    "* horse\n",
    "* ship\n",
    "* truck\n",
    "\n",
    "Understanding a dataset is part of making predictions on the data.  Play around with the code cell below by changing the `batch_id` and `sample_id`. The `batch_id` is the id for a batch (1-5). The `sample_id` is the id for a image and label pair in the batch.\n",
    "\n",
    "Ask yourself \"What are all possible labels?\", \"What is the range of values for the image data?\", \"Are the labels in order or random?\".  Answers to questions like these will help you preprocess the data and end up with better predictions."
   ]
  },
  {
   "cell_type": "code",
   "execution_count": 2,
   "metadata": {
    "collapsed": false,
    "deletable": true,
    "editable": true
   },
   "outputs": [
    {
     "name": "stdout",
     "output_type": "stream",
     "text": [
      "\n",
      "Stats of batch 5:\n",
      "Samples: 10000\n",
      "Label Counts: {0: 1014, 1: 1014, 2: 952, 3: 1016, 4: 997, 5: 1025, 6: 980, 7: 977, 8: 1003, 9: 1022}\n",
      "First 20 Labels: [1, 8, 5, 1, 5, 7, 4, 3, 8, 2, 7, 2, 0, 1, 5, 9, 6, 2, 0, 8]\n",
      "\n",
      "Example of Image 10:\n",
      "Image - Min Value: 16 Max Value: 227\n",
      "Image - Shape: (32, 32, 3)\n",
      "Label - Label Id: 7 Name: horse\n"
     ]
    },
    {
     "data": {
      "image/png": "[encoded data removed]",
      "text/plain": [
       "<matplotlib.figure.Figure at 0x7efffd7bb550>"
      ]
     },
     "metadata": {
      "image/png": {
       "height": 250,
       "width": 253
      }
     },
     "output_type": "display_data"
    }
   ],
   "source": [
    "%matplotlib inline\n",
    "%config InlineBackend.figure_format = 'retina'\n",
    "\n",
    "import helper\n",
    "import numpy as np\n",
    "\n",
    "# Explore the dataset\n",
    "batch_id = 5\n",
    "sample_id = 10\n",
    "helper.display_stats(cifar10_dataset_folder_path, batch_id, sample_id)"
   ]
  },
  {
   "cell_type": "markdown",
   "metadata": {
    "deletable": true,
    "editable": true
   },
   "source": [
    "## Implement Preprocess Functions\n",
    "### Normalize\n",
    "In the cell below, implement the `normalize` function to take in image data, `x`, and return it as a normalized Numpy array. The values should be in the range of 0 to 1, inclusive.  The return object should be the same shape as `x`."
   ]
  },
  {
   "cell_type": "code",
   "execution_count": 3,
   "metadata": {
    "collapsed": false,
    "deletable": true,
    "editable": true
   },
   "outputs": [
    {
     "name": "stdout",
     "output_type": "stream",
     "text": [
      "Tests Passed\n"
     ]
    }
   ],
   "source": [
    "def normalize(x):\n",
    "    \"\"\"\n",
    "    Normalize a list of sample image data in the range of 0 to 1\n",
    "    : x: List of image data.  The image shape is (32, 32, 3)\n",
    "    : return: Numpy array of normalize data\n",
    "    \"\"\"\n",
    "    return (x - x.min())/(x.max() - x.min())\n",
    "\n",
    "\n",
    "\"\"\"\n",
    "DON'T MODIFY ANYTHING IN THIS CELL THAT IS BELOW THIS LINE\n",
    "\"\"\"\n",
    "tests.test_normalize(normalize)"
   ]
  },
  {
   "cell_type": "markdown",
   "metadata": {
    "deletable": true,
    "editable": true
   },
   "source": [
    "### One-hot encode\n",
    "Just like the previous code cell, you'll be implementing a function for preprocessing.  This time, you'll implement the `one_hot_encode` function. The input, `x`, are a list of labels.  Implement the function to return the list of labels as One-Hot encoded Numpy array.  The possible values for labels are 0 to 9. The one-hot encoding function should return the same encoding for each value between each call to `one_hot_encode`.  Make sure to save the map of encodings outside the function.\n",
    "\n",
    "Hint: Don't reinvent the wheel."
   ]
  },
  {
   "cell_type": "code",
   "execution_count": 4,
   "metadata": {
    "collapsed": false,
    "deletable": true,
    "editable": true
   },
   "outputs": [
    {
     "name": "stdout",
     "output_type": "stream",
     "text": [
      "Tests Passed\n"
     ]
    }
   ],
   "source": [
    "label_to_idx = {\n",
    "     0 :'airplane',\n",
    "     1 :'automobile',\n",
    "     2 :'bird',\n",
    "     3 :'cat',\n",
    "     4 :'deer',\n",
    "     5 :'dog',\n",
    "     6 :'frog',\n",
    "     7 :'horse',\n",
    "     8 :'ship',\n",
    "     9 :'truck'\n",
    "}\n",
    "\n",
    "def one_hot_encode(x):\n",
    "    \"\"\"\n",
    "    One hot encode a list of sample labels. Return a one-hot encoded vector for each label.\n",
    "    : x: List of sample Labels\n",
    "    : return: Numpy array of one-hot encoded labels\n",
    "    \"\"\"\n",
    "    encodes = np.zeros((len(x), 10))\n",
    "    \n",
    "    for i, label in enumerate(x):\n",
    "        encodes[i][label] = 1.0\n",
    "        \n",
    "    return encodes\n",
    "\n",
    "\n",
    "\"\"\"\n",
    "DON'T MODIFY ANYTHING IN THIS CELL THAT IS BELOW THIS LINE\n",
    "\"\"\"\n",
    "tests.test_one_hot_encode(one_hot_encode)"
   ]
  },
  {
   "cell_type": "markdown",
   "metadata": {
    "deletable": true,
    "editable": true
   },
   "source": [
    "### Randomize Data\n",
    "As you saw from exploring the data above, the order of the samples are randomized.  It doesn't hurt to randomize it again, but you don't need to for this dataset."
   ]
  },
  {
   "cell_type": "markdown",
   "metadata": {
    "deletable": true,
    "editable": true
   },
   "source": [
    "## Preprocess all the data and save it\n",
    "Running the code cell below will preprocess all the CIFAR-10 data and save it to file. The code below also uses 10% of the training data for validation."
   ]
  },
  {
   "cell_type": "code",
   "execution_count": 5,
   "metadata": {
    "collapsed": true,
    "deletable": true,
    "editable": true
   },
   "outputs": [],
   "source": [
    "\"\"\"\n",
    "DON'T MODIFY ANYTHING IN THIS CELL\n",
    "\"\"\"\n",
    "# Preprocess Training, Validation, and Testing Data\n",
    "helper.preprocess_and_save_data(cifar10_dataset_folder_path, normalize, one_hot_encode)"
   ]
  },
  {
   "cell_type": "markdown",
   "metadata": {
    "deletable": true,
    "editable": true
   },
   "source": [
    "# Check Point\n",
    "This is your first checkpoint.  If you ever decide to come back to this notebook or have to restart the notebook, you can start from here.  The preprocessed data has been saved to disk."
   ]
  },
  {
   "cell_type": "code",
   "execution_count": 6,
   "metadata": {
    "collapsed": true,
    "deletable": true,
    "editable": true
   },
   "outputs": [],
   "source": [
    "\"\"\"\n",
    "DON'T MODIFY ANYTHING IN THIS CELL\n",
    "\"\"\"\n",
    "import pickle\n",
    "import problem_unittests as tests\n",
    "import helper\n",
    "\n",
    "# Load the Preprocessed Validation data\n",
    "valid_features, valid_labels = pickle.load(open('preprocess_validation.p', mode='rb'))"
   ]
  },
  {
   "cell_type": "markdown",
   "metadata": {
    "deletable": true,
    "editable": true
   },
   "source": [
    "## Build the network\n",
    "For the neural network, you'll build each layer into a function.  Most of the code you've seen has been outside of functions. To test your code more thoroughly, we require that you put each layer in a function.  This allows us to give you better feedback and test for simple mistakes using our unittests before you submit your project.\n",
    "\n",
    ">**Note:** If you're finding it hard to dedicate enough time for this course each week, we've provided a small shortcut to this part of the project. In the next couple of problems, you'll have the option to use classes from the [TensorFlow Layers](https://www.tensorflow.org/api_docs/python/tf/layers) or [TensorFlow Layers (contrib)](https://www.tensorflow.org/api_guides/python/contrib.layers) packages to build each layer, except the layers you build in the \"Convolutional and Max Pooling Layer\" section.  TF Layers is similar to Keras's and TFLearn's abstraction to layers, so it's easy to pickup.\n",
    "\n",
    ">However, if you would like to get the most out of this course, try to solve all the problems _without_ using anything from the TF Layers packages. You **can** still use classes from other packages that happen to have the same name as ones you find in TF Layers! For example, instead of using the TF Layers version of the `conv2d` class, [tf.layers.conv2d](https://www.tensorflow.org/api_docs/python/tf/layers/conv2d), you would want to use the TF Neural Network version of `conv2d`, [tf.nn.conv2d](https://www.tensorflow.org/api_docs/python/tf/nn/conv2d). \n",
    "\n",
    "Let's begin!\n",
    "\n",
    "### Input\n",
    "The neural network needs to read the image data, one-hot encoded labels, and dropout keep probability. Implement the following functions\n",
    "* Implement `neural_net_image_input`\n",
    " * Return a [TF Placeholder](https://www.tensorflow.org/api_docs/python/tf/placeholder)\n",
    " * Set the shape using `image_shape` with batch size set to `None`.\n",
    " * Name the TensorFlow placeholder \"x\" using the TensorFlow `name` parameter in the [TF Placeholder](https://www.tensorflow.org/api_docs/python/tf/placeholder).\n",
    "* Implement `neural_net_label_input`\n",
    " * Return a [TF Placeholder](https://www.tensorflow.org/api_docs/python/tf/placeholder)\n",
    " * Set the shape using `n_classes` with batch size set to `None`.\n",
    " * Name the TensorFlow placeholder \"y\" using the TensorFlow `name` parameter in the [TF Placeholder](https://www.tensorflow.org/api_docs/python/tf/placeholder).\n",
    "* Implement `neural_net_keep_prob_input`\n",
    " * Return a [TF Placeholder](https://www.tensorflow.org/api_docs/python/tf/placeholder) for dropout keep probability.\n",
    " * Name the TensorFlow placeholder \"keep_prob\" using the TensorFlow `name` parameter in the [TF Placeholder](https://www.tensorflow.org/api_docs/python/tf/placeholder).\n",
    "\n",
    "These names will be used at the end of the project to load your saved model.\n",
    "\n",
    "Note: `None` for shapes in TensorFlow allow for a dynamic size."
   ]
  },
  {
   "cell_type": "code",
   "execution_count": 7,
   "metadata": {
    "collapsed": false,
    "deletable": true,
    "editable": true
   },
   "outputs": [
    {
     "name": "stdout",
     "output_type": "stream",
     "text": [
      "Image Input Tests Passed.\n",
      "Label Input Tests Passed.\n",
      "Keep Prob Tests Passed.\n"
     ]
    }
   ],
   "source": [
    "import tensorflow as tf\n",
    "\n",
    "def neural_net_image_input(image_shape):\n",
    "    \"\"\"\n",
    "    Return a Tensor for a batch of image input\n",
    "    : image_shape: Shape of the images\n",
    "    : return: Tensor for image input.\n",
    "    \"\"\"\n",
    "    shape = [None] + list(image_shape)\n",
    "    return tf.placeholder(tf.float32, shape=shape, name='x')\n",
    "\n",
    "\n",
    "def neural_net_label_input(n_classes):\n",
    "    \"\"\"\n",
    "    Return a Tensor for a batch of label input\n",
    "    : n_classes: Number of classes\n",
    "    : return: Tensor for label input.\n",
    "    \"\"\"\n",
    "    return tf.placeholder(tf.float32, shape=[None, n_classes], name='y')\n",
    "\n",
    "\n",
    "def neural_net_keep_prob_input():\n",
    "    \"\"\"\n",
    "    Return a Tensor for keep probability\n",
    "    : return: Tensor for keep probability.\n",
    "    \"\"\"\n",
    "    return tf.placeholder(tf.float32, name='keep_prob')\n",
    "\n",
    "\n",
    "\"\"\"\n",
    "DON'T MODIFY ANYTHING IN THIS CELL THAT IS BELOW THIS LINE\n",
    "\"\"\"\n",
    "tf.reset_default_graph()\n",
    "tests.test_nn_image_inputs(neural_net_image_input)\n",
    "tests.test_nn_label_inputs(neural_net_label_input)\n",
    "tests.test_nn_keep_prob_inputs(neural_net_keep_prob_input)"
   ]
  },
  {
   "cell_type": "markdown",
   "metadata": {
    "deletable": true,
    "editable": true
   },
   "source": [
    "### Convolution and Max Pooling Layer\n",
    "Convolution layers have a lot of success with images. For this code cell, you should implement the function `conv2d_maxpool` to apply convolution then max pooling:\n",
    "* Create the weight and bias using `conv_ksize`, `conv_num_outputs` and the shape of `x_tensor`.\n",
    "* Apply a convolution to `x_tensor` using weight and `conv_strides`.\n",
    " * We recommend you use same padding, but you're welcome to use any padding.\n",
    "* Add bias\n",
    "* Add a nonlinear activation to the convolution.\n",
    "* Apply Max Pooling using `pool_ksize` and `pool_strides`.\n",
    " * We recommend you use same padding, but you're welcome to use any padding.\n",
    "\n",
    "**Note:** You **can't** use [TensorFlow Layers](https://www.tensorflow.org/api_docs/python/tf/layers) or [TensorFlow Layers (contrib)](https://www.tensorflow.org/api_guides/python/contrib.layers) for **this** layer, but you can still use TensorFlow's [Neural Network](https://www.tensorflow.org/api_docs/python/tf/nn) package. You may still use the shortcut option for all the **other** layers."
   ]
  },
  {
   "cell_type": "code",
   "execution_count": 54,
   "metadata": {
    "collapsed": false,
    "deletable": true,
    "editable": true
   },
   "outputs": [
    {
     "name": "stdout",
     "output_type": "stream",
     "text": [
      "Tests Passed\n"
     ]
    }
   ],
   "source": [
    "def conv2d_maxpool(x_tensor, conv_num_outputs, conv_ksize, conv_strides, pool_ksize, pool_strides):\n",
    "    \"\"\"\n",
    "    Apply convolution then max pooling to x_tensor\n",
    "    :param x_tensor: TensorFlow Tensor\n",
    "    :param conv_num_outputs: Number of outputs for the convolutional layer\n",
    "    :param conv_ksize: kernal size 2-D Tuple for the convolutional layer\n",
    "    :param conv_strides: Stride 2-D Tuple for convolution\n",
    "    :param pool_ksize: kernal size 2-D Tuple for pool\n",
    "    :param pool_strides: Stride 2-D Tuple for pool\n",
    "    : return: A tensor that represents convolution and max pooling of x_tensor\n",
    "    \"\"\"\n",
    "    conv_shape = list(conv_ksize)\n",
    "    color_channels = x_tensor.get_shape().as_list()[3]\n",
    "    weights_shape = conv_shape + [color_channels, conv_num_outputs]\n",
    "    \n",
    "    # Define weight with normal distribution\n",
    "    weights = tf.Variable(tf.truncated_normal(weights_shape, stddev=.004))\n",
    "    # Define biases\n",
    "    bias = tf.Variable(tf.zeros(conv_num_outputs))\n",
    "    \n",
    "    # 2d Conv Layer\n",
    "    batch_size = 1\n",
    "    conv_out_size = 1\n",
    "    \n",
    "    strides = [batch_size, conv_strides[0], conv_strides[1], conv_out_size]\n",
    "    \n",
    "    output = tf.nn.conv2d(x_tensor, weights, strides=strides, padding='SAME')\n",
    "    output = tf.nn.bias_add(output, bias)\n",
    "    output = tf.nn.relu(output)\n",
    "    \n",
    "    # Pooling layer.\n",
    "    pool_shape = [batch_size, pool_ksize[0], pool_ksize[1], 1]\n",
    "    pool_stride = [batch_size, pool_strides[0], pool_strides[1], 1]\n",
    "    \n",
    "    return tf.nn.max_pool(output, ksize=pool_shape, strides=pool_stride, padding='SAME')                                  \n",
    "\n",
    "\n",
    "\"\"\"\n",
    "DON'T MODIFY ANYTHING IN THIS CELL THAT IS BELOW THIS LINE\n",
    "\"\"\"\n",
    "tests.test_con_pool(conv2d_maxpool)"
   ]
  },
  {
   "cell_type": "markdown",
   "metadata": {
    "deletable": true,
    "editable": true
   },
   "source": [
    "### Flatten Layer\n",
    "Implement the `flatten` function to change the dimension of `x_tensor` from a 4-D tensor to a 2-D tensor.  The output should be the shape (*Batch Size*, *Flattened Image Size*). Shortcut option: you can use classes from the [TensorFlow Layers](https://www.tensorflow.org/api_docs/python/tf/layers) or [TensorFlow Layers (contrib)](https://www.tensorflow.org/api_guides/python/contrib.layers) packages for this layer. For more of a challenge, only use other TensorFlow packages."
   ]
  },
  {
   "cell_type": "code",
   "execution_count": 55,
   "metadata": {
    "collapsed": false,
    "deletable": true,
    "editable": true
   },
   "outputs": [
    {
     "name": "stdout",
     "output_type": "stream",
     "text": [
      "Tests Passed\n"
     ]
    }
   ],
   "source": [
    "def flatten(x_tensor):\n",
    "    \"\"\"\n",
    "    Flatten x_tensor to (Batch Size, Flattened Image Size)\n",
    "    : x_tensor: A tensor of size (Batch Size, ...), where ... are the image dimensions.\n",
    "    : return: A tensor of size (Batch Size, Flattened Image Size).\n",
    "    \"\"\"\n",
    "    return tf.contrib.layers.flatten(x_tensor)\n",
    "\n",
    "\n",
    "\"\"\"\n",
    "DON'T MODIFY ANYTHING IN THIS CELL THAT IS BELOW THIS LINE\n",
    "\"\"\"\n",
    "tests.test_flatten(flatten)"
   ]
  },
  {
   "cell_type": "markdown",
   "metadata": {
    "deletable": true,
    "editable": true
   },
   "source": [
    "### Fully-Connected Layer\n",
    "Implement the `fully_conn` function to apply a fully connected layer to `x_tensor` with the shape (*Batch Size*, *num_outputs*). Shortcut option: you can use classes from the [TensorFlow Layers](https://www.tensorflow.org/api_docs/python/tf/layers) or [TensorFlow Layers (contrib)](https://www.tensorflow.org/api_guides/python/contrib.layers) packages for this layer. For more of a challenge, only use other TensorFlow packages."
   ]
  },
  {
   "cell_type": "code",
   "execution_count": 89,
   "metadata": {
    "collapsed": false,
    "deletable": true,
    "editable": true
   },
   "outputs": [
    {
     "name": "stdout",
     "output_type": "stream",
     "text": [
      "Tests Passed\n"
     ]
    }
   ],
   "source": [
    "def basic_layer(x_tensor, num_outputs):\n",
    "    \"\"\"\n",
    "    Apply a basic layer into x_tensor using a weight and a bias.\n",
    "    : x_tensor: A 2-D tensor where the first dimension is batch size.\n",
    "    : num_outputs: The number of output that the new tensor should be.\n",
    "    : return: A 2-D tensor where the second dimension is num_outputs.\n",
    "    \"\"\"\n",
    "    vector_lenght = np.array(x_tensor.get_shape().as_list()[1:]).prod()\n",
    "    \n",
    "    \n",
    "    weights = tf.Variable(tf.truncated_normal([vector_lenght, num_outputs], stddev=0.04))\n",
    "    bias = tf.Variable(tf.zeros([num_outputs]))\n",
    "    \n",
    "    return tf.add(tf.matmul(x_tensor, weights), bias)\n",
    "\n",
    "\n",
    "\n",
    "def fully_conn(x_tensor, num_outputs):\n",
    "    \"\"\"\n",
    "    Apply a fully connected layer to x_tensor using weight and bias\n",
    "    : x_tensor: A 2-D tensor where the first dimension is batch size.\n",
    "    : num_outputs: The number of output that the new tensor should be.\n",
    "    : return: A 2-D tensor where the second dimension is num_outputs.\n",
    "    \"\"\"\n",
    "    \n",
    "    logits = basic_layer(x_tensor, num_outputs)\n",
    "    \n",
    "    return tf.nn.relu(logits)\n",
    "\n",
    "\n",
    "\"\"\"\n",
    "DON'T MODIFY ANYTHING IN THIS CELL THAT IS BELOW THIS LINE\n",
    "\"\"\"\n",
    "tests.test_fully_conn(fully_conn)"
   ]
  },
  {
   "cell_type": "markdown",
   "metadata": {
    "deletable": true,
    "editable": true
   },
   "source": [
    "### Output Layer\n",
    "Implement the `output` function to apply a fully connected layer to `x_tensor` with the shape (*Batch Size*, *num_outputs*). Shortcut option: you can use classes from the [TensorFlow Layers](https://www.tensorflow.org/api_docs/python/tf/layers) or [TensorFlow Layers (contrib)](https://www.tensorflow.org/api_guides/python/contrib.layers) packages for this layer. For more of a challenge, only use other TensorFlow packages.\n",
    "\n",
    "**Note:** Activation, softmax, or cross entropy should **not** be applied to this."
   ]
  },
  {
   "cell_type": "code",
   "execution_count": 90,
   "metadata": {
    "collapsed": false,
    "deletable": true,
    "editable": true
   },
   "outputs": [
    {
     "name": "stdout",
     "output_type": "stream",
     "text": [
      "Tests Passed\n"
     ]
    }
   ],
   "source": [
    "def output(x_tensor, num_outputs):\n",
    "    \"\"\"\n",
    "    Apply a output layer to x_tensor using weight and bias\n",
    "    : x_tensor: A 2-D tensor where the first dimension is batch size.\n",
    "    : num_outputs: The number of output that the new tensor should be.\n",
    "    : return: A 2-D tensor where the second dimension is num_outputs.\n",
    "    \"\"\"\n",
    "    return basic_layer(x_tensor, num_outputs)\n",
    "\n",
    "\n",
    "\"\"\"\n",
    "DON'T MODIFY ANYTHING IN THIS CELL THAT IS BELOW THIS LINE\n",
    "\"\"\"\n",
    "tests.test_output(output)"
   ]
  },
  {
   "cell_type": "markdown",
   "metadata": {
    "deletable": true,
    "editable": true
   },
   "source": [
    "### Create Convolutional Model\n",
    "Implement the function `conv_net` to create a convolutional neural network model. The function takes in a batch of images, `x`, and outputs logits.  Use the layers you created above to create this model:\n",
    "\n",
    "* Apply 1, 2, or 3 Convolution and Max Pool layers\n",
    "* Apply a Flatten Layer\n",
    "* Apply 1, 2, or 3 Fully Connected Layers\n",
    "* Apply an Output Layer\n",
    "* Return the output\n",
    "* Apply [TensorFlow's Dropout](https://www.tensorflow.org/api_docs/python/tf/nn/dropout) to one or more layers in the model using `keep_prob`. "
   ]
  },
  {
   "cell_type": "code",
   "execution_count": 91,
   "metadata": {
    "collapsed": false,
    "deletable": true,
    "editable": true
   },
   "outputs": [
    {
     "name": "stdout",
     "output_type": "stream",
     "text": [
      "Neural Network Built!\n"
     ]
    }
   ],
   "source": [
    "def conv_net(x, keep_prob):\n",
    "    \"\"\"\n",
    "    Create a convolutional neural network model\n",
    "    : x: Placeholder tensor that holds image data.\n",
    "    : keep_prob: Placeholder tensor that hold dropout keep probability.\n",
    "    : return: Tensor that represents logits\n",
    "    \"\"\"\n",
    "    num_outputs = 32\n",
    "    conv_size = (4, 4)\n",
    "    conv_stride = (1, 1)\n",
    "    pool_size = (4, 4)\n",
    "    pool_stride = (2, 2)\n",
    "    \n",
    "    # TODO: Apply 1, 2, or 3 Convolution and Max Pool layers\n",
    "    #    Play around with different number of outputs, kernel size and stride\n",
    "    # Function Definition from Above:\n",
    "    #    conv2d_maxpool(x_tensor, conv_num_outputs, conv_ksize, conv_strides, pool_ksize, pool_strides)\n",
    "    conv_layer = conv2d_maxpool(x, num_outputs, conv_size, conv_stride, pool_size, pool_stride)\n",
    "    conv_layer = conv2d_maxpool(conv_layer, num_outputs, conv_size, conv_stride, pool_size, pool_stride)\n",
    "    \n",
    "\n",
    "    # TODO: Apply a Flatten Layer\n",
    "    # Function Definition from Above:\n",
    "    #   flatten(x_tensor)\n",
    "    flattened = flatten(conv_layer)\n",
    "\n",
    "    # Fully connected layer\n",
    "    fully = fully_conn(flattened, 384)\n",
    "    fully = fully_conn(fully, 192)\n",
    "    fully = fully_conn(fully, 192)\n",
    "    \n",
    "    dropout = tf.nn.dropout(fully, keep_prob)\n",
    "    \n",
    "    # Output layer\n",
    "    out = output(dropout, 10)\n",
    "    \n",
    "    # TODO: return output\n",
    "    return out\n",
    "\n",
    "\n",
    "\"\"\"\n",
    "DON'T MODIFY ANYTHING IN THIS CELL THAT IS BELOW THIS LINE\n",
    "\"\"\"\n",
    "\n",
    "##############################\n",
    "## Build the Neural Network ##\n",
    "##############################\n",
    "\n",
    "# Remove previous weights, bias, inputs, etc..\n",
    "tf.reset_default_graph()\n",
    "\n",
    "# Inputs\n",
    "x = neural_net_image_input((32, 32, 3))\n",
    "y = neural_net_label_input(10)\n",
    "keep_prob = neural_net_keep_prob_input()\n",
    "\n",
    "# Model\n",
    "logits = conv_net(x, keep_prob)\n",
    "\n",
    "# Name logits Tensor, so that is can be loaded from disk after training\n",
    "logits = tf.identity(logits, name='logits')\n",
    "\n",
    "# Loss and Optimizer\n",
    "cost = tf.reduce_mean(tf.nn.softmax_cross_entropy_with_logits(logits=logits, labels=y))\n",
    "optimizer = tf.train.AdamOptimizer().minimize(cost)\n",
    "\n",
    "# Accuracy\n",
    "correct_pred = tf.equal(tf.argmax(logits, 1), tf.argmax(y, 1))\n",
    "accuracy = tf.reduce_mean(tf.cast(correct_pred, tf.float32), name='accuracy')\n",
    "\n",
    "tests.test_conv_net(conv_net)"
   ]
  },
  {
   "cell_type": "markdown",
   "metadata": {
    "deletable": true,
    "editable": true
   },
   "source": [
    "## Train the Neural Network\n",
    "### Single Optimization\n",
    "Implement the function `train_neural_network` to do a single optimization.  The optimization should use `optimizer` to optimize in `session` with a `feed_dict` of the following:\n",
    "* `x` for image input\n",
    "* `y` for labels\n",
    "* `keep_prob` for keep probability for dropout\n",
    "\n",
    "This function will be called for each batch, so `tf.global_variables_initializer()` has already been called.\n",
    "\n",
    "Note: Nothing needs to be returned. This function is only optimizing the neural network."
   ]
  },
  {
   "cell_type": "code",
   "execution_count": 92,
   "metadata": {
    "collapsed": false,
    "deletable": true,
    "editable": true
   },
   "outputs": [
    {
     "name": "stdout",
     "output_type": "stream",
     "text": [
      "Tests Passed\n"
     ]
    }
   ],
   "source": [
    "def train_neural_network(session, optimizer, keep_probability, feature_batch, label_batch):\n",
    "    \"\"\"\n",
    "    Optimize the session on a batch of images and labels\n",
    "    : session: Current TensorFlow session\n",
    "    : optimizer: TensorFlow optimizer function\n",
    "    : keep_probability: keep probability\n",
    "    : feature_batch: Batch of Numpy image data\n",
    "    : label_batch: Batch of Numpy label data\n",
    "    \"\"\"\n",
    "    session.run(optimizer, feed_dict={\n",
    "        x: feature_batch,\n",
    "        y: label_batch,\n",
    "        keep_prob: keep_probability\n",
    "    })\n",
    "    \n",
    "\n",
    "\n",
    "\"\"\"\n",
    "DON'T MODIFY ANYTHING IN THIS CELL THAT IS BELOW THIS LINE\n",
    "\"\"\"\n",
    "tests.test_train_nn(train_neural_network)"
   ]
  },
  {
   "cell_type": "markdown",
   "metadata": {
    "deletable": true,
    "editable": true
   },
   "source": [
    "### Show Stats\n",
    "Implement the function `print_stats` to print loss and validation accuracy.  Use the global variables `valid_features` and `valid_labels` to calculate validation accuracy.  Use a keep probability of `1.0` to calculate the loss and validation accuracy."
   ]
  },
  {
   "cell_type": "code",
   "execution_count": 93,
   "metadata": {
    "collapsed": true,
    "deletable": true,
    "editable": true
   },
   "outputs": [],
   "source": [
    "def print_stats(session, feature_batch, label_batch, cost, accuracy):\n",
    "    \"\"\"\n",
    "    Print information about loss and validation accuracy\n",
    "    : session: Current TensorFlow session\n",
    "    : feature_batch: Batch of Numpy image data\n",
    "    : label_batch: Batch of Numpy label data\n",
    "    : cost: TensorFlow cost function\n",
    "    : accuracy: TensorFlow accuracy function\n",
    "    \"\"\"\n",
    "    loss = sess.run(cost, feed_dict={x: feature_batch,\n",
    "                                     y: label_batch,\n",
    "                                     keep_prob: 1.})\n",
    "    valid_acc = sess.run(accuracy, feed_dict={x: valid_features,\n",
    "                                              y: valid_labels,\n",
    "                                              keep_prob: 1.})\n",
    "    \n",
    "    print('Loss: %5.6f Validation Accuracy: %5.6f' % (loss, valid_acc))\n",
    "\n",
    "    "
   ]
  },
  {
   "cell_type": "markdown",
   "metadata": {
    "deletable": true,
    "editable": true
   },
   "source": [
    "### Hyperparameters\n",
    "Tune the following parameters:\n",
    "* Set `epochs` to the number of iterations until the network stops learning or start overfitting\n",
    "* Set `batch_size` to the highest number that your machine has memory for.  Most people set them to common sizes of memory:\n",
    " * 64\n",
    " * 128\n",
    " * 256\n",
    " * ...\n",
    "* Set `keep_probability` to the probability of keeping a node using dropout"
   ]
  },
  {
   "cell_type": "code",
   "execution_count": 95,
   "metadata": {
    "collapsed": true,
    "deletable": true,
    "editable": true
   },
   "outputs": [],
   "source": [
    "# TODO: Tune Parameters\n",
    "epochs = 40\n",
    "batch_size = 256\n",
    "keep_probability = .77"
   ]
  },
  {
   "cell_type": "markdown",
   "metadata": {
    "deletable": true,
    "editable": true
   },
   "source": [
    "### Train on a Single CIFAR-10 Batch\n",
    "Instead of training the neural network on all the CIFAR-10 batches of data, let's use a single batch. This should save time while you iterate on the model to get a better accuracy.  Once the final validation accuracy is 50% or greater, run the model on all the data in the next section."
   ]
  },
  {
   "cell_type": "code",
   "execution_count": 96,
   "metadata": {
    "collapsed": false,
    "deletable": true,
    "editable": true
   },
   "outputs": [
    {
     "name": "stdout",
     "output_type": "stream",
     "text": [
      "Checking the Training on a Single Batch...\n",
      "Epoch  1, CIFAR-10 Batch 1:  Loss: 2.233408 Validation Accuracy: 0.160800\n",
      "Epoch  2, CIFAR-10 Batch 1:  Loss: 2.179667 Validation Accuracy: 0.223200\n",
      "Epoch  3, CIFAR-10 Batch 1:  Loss: 2.220706 Validation Accuracy: 0.261800\n",
      "Epoch  4, CIFAR-10 Batch 1:  Loss: 2.225299 Validation Accuracy: 0.263600\n",
      "Epoch  5, CIFAR-10 Batch 1:  Loss: 2.117296 Validation Accuracy: 0.300800\n",
      "Epoch  6, CIFAR-10 Batch 1:  Loss: 1.995251 Validation Accuracy: 0.325000\n",
      "Epoch  7, CIFAR-10 Batch 1:  Loss: 1.917850 Validation Accuracy: 0.336200\n",
      "Epoch  8, CIFAR-10 Batch 1:  Loss: 1.827213 Validation Accuracy: 0.372800\n",
      "Epoch  9, CIFAR-10 Batch 1:  Loss: 1.790839 Validation Accuracy: 0.379000\n",
      "Epoch 10, CIFAR-10 Batch 1:  Loss: 1.712756 Validation Accuracy: 0.386800\n",
      "Epoch 11, CIFAR-10 Batch 1:  Loss: 1.627901 Validation Accuracy: 0.416400\n",
      "Epoch 12, CIFAR-10 Batch 1:  Loss: 1.568352 Validation Accuracy: 0.414000\n",
      "Epoch 13, CIFAR-10 Batch 1:  Loss: 1.512902 Validation Accuracy: 0.436000\n",
      "Epoch 14, CIFAR-10 Batch 1:  Loss: 1.527768 Validation Accuracy: 0.429800\n",
      "Epoch 15, CIFAR-10 Batch 1:  Loss: 1.408974 Validation Accuracy: 0.440600\n",
      "Epoch 16, CIFAR-10 Batch 1:  Loss: 1.369601 Validation Accuracy: 0.450800\n",
      "Epoch 17, CIFAR-10 Batch 1:  Loss: 1.288945 Validation Accuracy: 0.461400\n",
      "Epoch 18, CIFAR-10 Batch 1:  Loss: 1.233415 Validation Accuracy: 0.460000\n",
      "Epoch 19, CIFAR-10 Batch 1:  Loss: 1.191271 Validation Accuracy: 0.473200\n",
      "Epoch 20, CIFAR-10 Batch 1:  Loss: 1.102633 Validation Accuracy: 0.487600\n",
      "Epoch 21, CIFAR-10 Batch 1:  Loss: 1.034596 Validation Accuracy: 0.491600\n",
      "Epoch 22, CIFAR-10 Batch 1:  Loss: 0.987098 Validation Accuracy: 0.501000\n",
      "Epoch 23, CIFAR-10 Batch 1:  Loss: 0.978640 Validation Accuracy: 0.497600\n",
      "Epoch 24, CIFAR-10 Batch 1:  Loss: 0.896379 Validation Accuracy: 0.509200\n",
      "Epoch 25, CIFAR-10 Batch 1:  Loss: 0.945352 Validation Accuracy: 0.483400\n",
      "Epoch 26, CIFAR-10 Batch 1:  Loss: 0.894831 Validation Accuracy: 0.500600\n",
      "Epoch 27, CIFAR-10 Batch 1:  Loss: 0.809960 Validation Accuracy: 0.513000\n",
      "Epoch 28, CIFAR-10 Batch 1:  Loss: 0.792260 Validation Accuracy: 0.512400\n",
      "Epoch 29, CIFAR-10 Batch 1:  Loss: 0.776009 Validation Accuracy: 0.513800\n",
      "Epoch 30, CIFAR-10 Batch 1:  Loss: 0.730605 Validation Accuracy: 0.526000\n",
      "Epoch 31, CIFAR-10 Batch 1:  Loss: 0.661711 Validation Accuracy: 0.526000\n",
      "Epoch 32, CIFAR-10 Batch 1:  Loss: 0.679050 Validation Accuracy: 0.518200\n",
      "Epoch 33, CIFAR-10 Batch 1:  Loss: 0.629098 Validation Accuracy: 0.528400\n",
      "Epoch 34, CIFAR-10 Batch 1:  Loss: 0.592416 Validation Accuracy: 0.530800\n",
      "Epoch 35, CIFAR-10 Batch 1:  Loss: 0.525213 Validation Accuracy: 0.536200\n",
      "Epoch 36, CIFAR-10 Batch 1:  Loss: 0.494996 Validation Accuracy: 0.541000\n",
      "Epoch 37, CIFAR-10 Batch 1:  Loss: 0.470503 Validation Accuracy: 0.539800\n",
      "Epoch 38, CIFAR-10 Batch 1:  Loss: 0.433089 Validation Accuracy: 0.548800\n",
      "Epoch 39, CIFAR-10 Batch 1:  Loss: 0.422078 Validation Accuracy: 0.545800\n",
      "Epoch 40, CIFAR-10 Batch 1:  Loss: 0.396937 Validation Accuracy: 0.541000\n"
     ]
    }
   ],
   "source": [
    "\"\"\"\n",
    "DON'T MODIFY ANYTHING IN THIS CELL\n",
    "\"\"\"\n",
    "print('Checking the Training on a Single Batch...')\n",
    "config = tf.ConfigProto()\n",
    "# config.gpu_options.allow_growth = True\n",
    "with tf.Session(config=config) as sess:\n",
    "    # Initializing the variables\n",
    "    sess.run(tf.global_variables_initializer())\n",
    "    \n",
    "    # Training cycle\n",
    "    for epoch in range(epochs):\n",
    "        batch_i = 1\n",
    "        for batch_features, batch_labels in helper.load_preprocess_training_batch(batch_i, batch_size):\n",
    "            train_neural_network(sess, optimizer, keep_probability, batch_features, batch_labels)\n",
    "        print('Epoch {:>2}, CIFAR-10 Batch {}:  '.format(epoch + 1, batch_i), end='')\n",
    "        print_stats(sess, batch_features, batch_labels, cost, accuracy)"
   ]
  },
  {
   "cell_type": "markdown",
   "metadata": {
    "deletable": true,
    "editable": true
   },
   "source": [
    "### Fully Train the Model\n",
    "Now that you got a good accuracy with a single CIFAR-10 batch, try it with all five batches."
   ]
  },
  {
   "cell_type": "code",
   "execution_count": 97,
   "metadata": {
    "collapsed": false,
    "deletable": true,
    "editable": true
   },
   "outputs": [
    {
     "name": "stdout",
     "output_type": "stream",
     "text": [
      "Training...\n",
      "Epoch  1, CIFAR-10 Batch 1:  Loss: 2.237763 Validation Accuracy: 0.186600\n",
      "Epoch  1, CIFAR-10 Batch 2:  Loss: 2.123305 Validation Accuracy: 0.249200\n",
      "Epoch  1, CIFAR-10 Batch 3:  Loss: 1.797488 Validation Accuracy: 0.265600\n",
      "Epoch  1, CIFAR-10 Batch 4:  Loss: 1.806633 Validation Accuracy: 0.293200\n",
      "Epoch  1, CIFAR-10 Batch 5:  Loss: 1.823787 Validation Accuracy: 0.333600\n",
      "Epoch  2, CIFAR-10 Batch 1:  Loss: 2.021102 Validation Accuracy: 0.362400\n",
      "Epoch  2, CIFAR-10 Batch 2:  Loss: 1.722379 Validation Accuracy: 0.383600\n",
      "Epoch  2, CIFAR-10 Batch 3:  Loss: 1.414676 Validation Accuracy: 0.380800\n",
      "Epoch  2, CIFAR-10 Batch 4:  Loss: 1.588608 Validation Accuracy: 0.417600\n",
      "Epoch  2, CIFAR-10 Batch 5:  Loss: 1.559839 Validation Accuracy: 0.422000\n",
      "Epoch  3, CIFAR-10 Batch 1:  Loss: 1.853396 Validation Accuracy: 0.415200\n",
      "Epoch  3, CIFAR-10 Batch 2:  Loss: 1.584395 Validation Accuracy: 0.438400\n",
      "Epoch  3, CIFAR-10 Batch 3:  Loss: 1.185106 Validation Accuracy: 0.424400\n",
      "Epoch  3, CIFAR-10 Batch 4:  Loss: 1.488692 Validation Accuracy: 0.458200\n",
      "Epoch  3, CIFAR-10 Batch 5:  Loss: 1.387237 Validation Accuracy: 0.474600\n",
      "Epoch  4, CIFAR-10 Batch 1:  Loss: 1.676767 Validation Accuracy: 0.465200\n",
      "Epoch  4, CIFAR-10 Batch 2:  Loss: 1.361933 Validation Accuracy: 0.478000\n",
      "Epoch  4, CIFAR-10 Batch 3:  Loss: 1.083004 Validation Accuracy: 0.459600\n",
      "Epoch  4, CIFAR-10 Batch 4:  Loss: 1.381013 Validation Accuracy: 0.505600\n",
      "Epoch  4, CIFAR-10 Batch 5:  Loss: 1.256263 Validation Accuracy: 0.511000\n",
      "Epoch  5, CIFAR-10 Batch 1:  Loss: 1.440721 Validation Accuracy: 0.503200\n",
      "Epoch  5, CIFAR-10 Batch 2:  Loss: 1.208722 Validation Accuracy: 0.506800\n",
      "Epoch  5, CIFAR-10 Batch 3:  Loss: 0.950193 Validation Accuracy: 0.467800\n",
      "Epoch  5, CIFAR-10 Batch 4:  Loss: 1.293842 Validation Accuracy: 0.523800\n",
      "Epoch  5, CIFAR-10 Batch 5:  Loss: 1.143837 Validation Accuracy: 0.525800\n",
      "Epoch  6, CIFAR-10 Batch 1:  Loss: 1.313606 Validation Accuracy: 0.528400\n",
      "Epoch  6, CIFAR-10 Batch 2:  Loss: 1.014329 Validation Accuracy: 0.529400\n",
      "Epoch  6, CIFAR-10 Batch 3:  Loss: 0.844534 Validation Accuracy: 0.484200\n",
      "Epoch  6, CIFAR-10 Batch 4:  Loss: 1.159063 Validation Accuracy: 0.546200\n",
      "Epoch  6, CIFAR-10 Batch 5:  Loss: 1.042698 Validation Accuracy: 0.546200\n",
      "Epoch  7, CIFAR-10 Batch 1:  Loss: 1.131140 Validation Accuracy: 0.546200\n",
      "Epoch  7, CIFAR-10 Batch 2:  Loss: 0.861316 Validation Accuracy: 0.565600\n",
      "Epoch  7, CIFAR-10 Batch 3:  Loss: 0.772932 Validation Accuracy: 0.506600\n",
      "Epoch  7, CIFAR-10 Batch 4:  Loss: 1.031244 Validation Accuracy: 0.563000\n",
      "Epoch  7, CIFAR-10 Batch 5:  Loss: 0.888504 Validation Accuracy: 0.568800\n",
      "Epoch  8, CIFAR-10 Batch 1:  Loss: 1.013869 Validation Accuracy: 0.567400\n",
      "Epoch  8, CIFAR-10 Batch 2:  Loss: 0.771433 Validation Accuracy: 0.580200\n",
      "Epoch  8, CIFAR-10 Batch 3:  Loss: 0.633368 Validation Accuracy: 0.538200\n",
      "Epoch  8, CIFAR-10 Batch 4:  Loss: 0.918054 Validation Accuracy: 0.585400\n",
      "Epoch  8, CIFAR-10 Batch 5:  Loss: 0.741252 Validation Accuracy: 0.583800\n",
      "Epoch  9, CIFAR-10 Batch 1:  Loss: 0.916748 Validation Accuracy: 0.572200\n",
      "Epoch  9, CIFAR-10 Batch 2:  Loss: 0.731906 Validation Accuracy: 0.592200\n",
      "Epoch  9, CIFAR-10 Batch 3:  Loss: 0.551640 Validation Accuracy: 0.542000\n",
      "Epoch  9, CIFAR-10 Batch 4:  Loss: 0.794787 Validation Accuracy: 0.598600\n",
      "Epoch  9, CIFAR-10 Batch 5:  Loss: 0.638840 Validation Accuracy: 0.603000\n",
      "Epoch 10, CIFAR-10 Batch 1:  Loss: 0.784808 Validation Accuracy: 0.596600\n",
      "Epoch 10, CIFAR-10 Batch 2:  Loss: 0.644383 Validation Accuracy: 0.607200\n",
      "Epoch 10, CIFAR-10 Batch 3:  Loss: 0.486766 Validation Accuracy: 0.569400\n",
      "Epoch 10, CIFAR-10 Batch 4:  Loss: 0.729528 Validation Accuracy: 0.604600\n",
      "Epoch 10, CIFAR-10 Batch 5:  Loss: 0.590002 Validation Accuracy: 0.593400\n",
      "Epoch 11, CIFAR-10 Batch 1:  Loss: 0.742262 Validation Accuracy: 0.609200\n",
      "Epoch 11, CIFAR-10 Batch 2:  Loss: 0.577071 Validation Accuracy: 0.599000\n",
      "Epoch 11, CIFAR-10 Batch 3:  Loss: 0.451990 Validation Accuracy: 0.607800\n",
      "Epoch 11, CIFAR-10 Batch 4:  Loss: 0.612127 Validation Accuracy: 0.621600\n",
      "Epoch 11, CIFAR-10 Batch 5:  Loss: 0.472986 Validation Accuracy: 0.617600\n",
      "Epoch 12, CIFAR-10 Batch 1:  Loss: 0.670197 Validation Accuracy: 0.616400\n",
      "Epoch 12, CIFAR-10 Batch 2:  Loss: 0.490641 Validation Accuracy: 0.622800\n",
      "Epoch 12, CIFAR-10 Batch 3:  Loss: 0.404699 Validation Accuracy: 0.622800\n",
      "Epoch 12, CIFAR-10 Batch 4:  Loss: 0.507941 Validation Accuracy: 0.630400\n",
      "Epoch 12, CIFAR-10 Batch 5:  Loss: 0.409928 Validation Accuracy: 0.627600\n",
      "Epoch 13, CIFAR-10 Batch 1:  Loss: 0.574889 Validation Accuracy: 0.615400\n",
      "Epoch 13, CIFAR-10 Batch 2:  Loss: 0.406260 Validation Accuracy: 0.621200\n",
      "Epoch 13, CIFAR-10 Batch 3:  Loss: 0.337278 Validation Accuracy: 0.632600\n",
      "Epoch 13, CIFAR-10 Batch 4:  Loss: 0.453157 Validation Accuracy: 0.638200\n",
      "Epoch 13, CIFAR-10 Batch 5:  Loss: 0.364632 Validation Accuracy: 0.623400\n",
      "Epoch 14, CIFAR-10 Batch 1:  Loss: 0.498674 Validation Accuracy: 0.616400\n",
      "Epoch 14, CIFAR-10 Batch 2:  Loss: 0.356002 Validation Accuracy: 0.625200\n",
      "Epoch 14, CIFAR-10 Batch 3:  Loss: 0.331873 Validation Accuracy: 0.631400\n",
      "Epoch 14, CIFAR-10 Batch 4:  Loss: 0.402344 Validation Accuracy: 0.651800\n",
      "Epoch 14, CIFAR-10 Batch 5:  Loss: 0.313135 Validation Accuracy: 0.633600\n",
      "Epoch 15, CIFAR-10 Batch 1:  Loss: 0.450674 Validation Accuracy: 0.611600\n",
      "Epoch 15, CIFAR-10 Batch 2:  Loss: 0.351637 Validation Accuracy: 0.629200\n",
      "Epoch 15, CIFAR-10 Batch 3:  Loss: 0.292657 Validation Accuracy: 0.635000\n",
      "Epoch 15, CIFAR-10 Batch 4:  Loss: 0.360438 Validation Accuracy: 0.653600\n",
      "Epoch 15, CIFAR-10 Batch 5:  Loss: 0.272648 Validation Accuracy: 0.649800\n",
      "Epoch 16, CIFAR-10 Batch 1:  Loss: 0.384570 Validation Accuracy: 0.618200\n",
      "Epoch 16, CIFAR-10 Batch 2:  Loss: 0.301298 Validation Accuracy: 0.628200\n",
      "Epoch 16, CIFAR-10 Batch 3:  Loss: 0.271754 Validation Accuracy: 0.647400\n",
      "Epoch 16, CIFAR-10 Batch 4:  Loss: 0.321469 Validation Accuracy: 0.661400\n",
      "Epoch 16, CIFAR-10 Batch 5:  Loss: 0.248118 Validation Accuracy: 0.666800\n",
      "Epoch 17, CIFAR-10 Batch 1:  Loss: 0.331333 Validation Accuracy: 0.633000\n",
      "Epoch 17, CIFAR-10 Batch 2:  Loss: 0.258014 Validation Accuracy: 0.634800\n",
      "Epoch 17, CIFAR-10 Batch 3:  Loss: 0.223066 Validation Accuracy: 0.650000\n",
      "Epoch 17, CIFAR-10 Batch 4:  Loss: 0.271498 Validation Accuracy: 0.659600\n",
      "Epoch 17, CIFAR-10 Batch 5:  Loss: 0.234656 Validation Accuracy: 0.663000\n",
      "Epoch 18, CIFAR-10 Batch 1:  Loss: 0.260155 Validation Accuracy: 0.657400\n",
      "Epoch 18, CIFAR-10 Batch 2:  Loss: 0.232700 Validation Accuracy: 0.647200\n",
      "Epoch 18, CIFAR-10 Batch 3:  Loss: 0.159804 Validation Accuracy: 0.660600\n",
      "Epoch 18, CIFAR-10 Batch 4:  Loss: 0.236711 Validation Accuracy: 0.659600\n",
      "Epoch 18, CIFAR-10 Batch 5:  Loss: 0.221654 Validation Accuracy: 0.666400\n",
      "Epoch 19, CIFAR-10 Batch 1:  Loss: 0.208430 Validation Accuracy: 0.668600\n",
      "Epoch 19, CIFAR-10 Batch 2:  Loss: 0.221338 Validation Accuracy: 0.661400\n",
      "Epoch 19, CIFAR-10 Batch 3:  Loss: 0.207026 Validation Accuracy: 0.635200\n",
      "Epoch 19, CIFAR-10 Batch 4:  Loss: 0.219315 Validation Accuracy: 0.655400\n",
      "Epoch 19, CIFAR-10 Batch 5:  Loss: 0.188616 Validation Accuracy: 0.674400\n",
      "Epoch 20, CIFAR-10 Batch 1:  Loss: 0.194944 Validation Accuracy: 0.677600\n",
      "Epoch 20, CIFAR-10 Batch 2:  Loss: 0.224275 Validation Accuracy: 0.653800\n",
      "Epoch 20, CIFAR-10 Batch 3:  Loss: 0.168249 Validation Accuracy: 0.639200\n",
      "Epoch 20, CIFAR-10 Batch 4:  Loss: 0.177456 Validation Accuracy: 0.654400\n",
      "Epoch 20, CIFAR-10 Batch 5:  Loss: 0.167325 Validation Accuracy: 0.668800\n",
      "Epoch 21, CIFAR-10 Batch 1:  Loss: 0.173047 Validation Accuracy: 0.671600\n",
      "Epoch 21, CIFAR-10 Batch 2:  Loss: 0.177167 Validation Accuracy: 0.659200\n",
      "Epoch 21, CIFAR-10 Batch 3:  Loss: 0.131268 Validation Accuracy: 0.638200\n",
      "Epoch 21, CIFAR-10 Batch 4:  Loss: 0.146097 Validation Accuracy: 0.662800\n",
      "Epoch 21, CIFAR-10 Batch 5:  Loss: 0.154108 Validation Accuracy: 0.675000\n",
      "Epoch 22, CIFAR-10 Batch 1:  Loss: 0.168241 Validation Accuracy: 0.654000\n",
      "Epoch 22, CIFAR-10 Batch 2:  Loss: 0.193812 Validation Accuracy: 0.660800\n",
      "Epoch 22, CIFAR-10 Batch 3:  Loss: 0.119813 Validation Accuracy: 0.658400\n",
      "Epoch 22, CIFAR-10 Batch 4:  Loss: 0.137746 Validation Accuracy: 0.675600\n",
      "Epoch 22, CIFAR-10 Batch 5:  Loss: 0.135483 Validation Accuracy: 0.669600\n",
      "Epoch 23, CIFAR-10 Batch 1:  Loss: 0.137138 Validation Accuracy: 0.671800\n",
      "Epoch 23, CIFAR-10 Batch 2:  Loss: 0.155457 Validation Accuracy: 0.660000\n",
      "Epoch 23, CIFAR-10 Batch 3:  Loss: 0.114538 Validation Accuracy: 0.641000\n",
      "Epoch 23, CIFAR-10 Batch 4:  Loss: 0.137276 Validation Accuracy: 0.669800\n",
      "Epoch 23, CIFAR-10 Batch 5:  Loss: 0.146406 Validation Accuracy: 0.674000\n",
      "Epoch 24, CIFAR-10 Batch 1:  Loss: 0.165739 Validation Accuracy: 0.667200\n",
      "Epoch 24, CIFAR-10 Batch 2:  Loss: 0.138254 Validation Accuracy: 0.651800\n",
      "Epoch 24, CIFAR-10 Batch 3:  Loss: 0.102674 Validation Accuracy: 0.632800\n",
      "Epoch 24, CIFAR-10 Batch 4:  Loss: 0.146497 Validation Accuracy: 0.659800\n",
      "Epoch 24, CIFAR-10 Batch 5:  Loss: 0.114534 Validation Accuracy: 0.663800\n",
      "Epoch 25, CIFAR-10 Batch 1:  Loss: 0.161010 Validation Accuracy: 0.656000\n",
      "Epoch 25, CIFAR-10 Batch 2:  Loss: 0.170805 Validation Accuracy: 0.666000\n",
      "Epoch 25, CIFAR-10 Batch 3:  Loss: 0.125749 Validation Accuracy: 0.634200\n",
      "Epoch 25, CIFAR-10 Batch 4:  Loss: 0.153415 Validation Accuracy: 0.656200\n",
      "Epoch 25, CIFAR-10 Batch 5:  Loss: 0.122720 Validation Accuracy: 0.654600\n",
      "Epoch 26, CIFAR-10 Batch 1:  Loss: 0.135181 Validation Accuracy: 0.661600\n",
      "Epoch 26, CIFAR-10 Batch 2:  Loss: 0.137064 Validation Accuracy: 0.655600\n",
      "Epoch 26, CIFAR-10 Batch 3:  Loss: 0.105681 Validation Accuracy: 0.645400\n",
      "Epoch 26, CIFAR-10 Batch 4:  Loss: 0.121258 Validation Accuracy: 0.652200\n",
      "Epoch 26, CIFAR-10 Batch 5:  Loss: 0.107445 Validation Accuracy: 0.650000\n",
      "Epoch 27, CIFAR-10 Batch 1:  Loss: 0.142860 Validation Accuracy: 0.652000\n",
      "Epoch 27, CIFAR-10 Batch 2:  Loss: 0.143015 Validation Accuracy: 0.655600\n",
      "Epoch 27, CIFAR-10 Batch 3:  Loss: 0.059789 Validation Accuracy: 0.652600\n",
      "Epoch 27, CIFAR-10 Batch 4:  Loss: 0.105122 Validation Accuracy: 0.667800\n",
      "Epoch 27, CIFAR-10 Batch 5:  Loss: 0.099268 Validation Accuracy: 0.641200\n",
      "Epoch 28, CIFAR-10 Batch 1:  Loss: 0.113404 Validation Accuracy: 0.652800\n",
      "Epoch 28, CIFAR-10 Batch 2:  Loss: 0.108016 Validation Accuracy: 0.666200\n",
      "Epoch 28, CIFAR-10 Batch 3:  Loss: 0.045795 Validation Accuracy: 0.663400\n",
      "Epoch 28, CIFAR-10 Batch 4:  Loss: 0.086140 Validation Accuracy: 0.676400\n",
      "Epoch 28, CIFAR-10 Batch 5:  Loss: 0.071569 Validation Accuracy: 0.633800\n",
      "Epoch 29, CIFAR-10 Batch 1:  Loss: 0.095354 Validation Accuracy: 0.665600\n",
      "Epoch 29, CIFAR-10 Batch 2:  Loss: 0.078402 Validation Accuracy: 0.658600\n",
      "Epoch 29, CIFAR-10 Batch 3:  Loss: 0.049912 Validation Accuracy: 0.648600\n",
      "Epoch 29, CIFAR-10 Batch 4:  Loss: 0.073155 Validation Accuracy: 0.662200\n",
      "Epoch 29, CIFAR-10 Batch 5:  Loss: 0.040515 Validation Accuracy: 0.661000\n",
      "Epoch 30, CIFAR-10 Batch 1:  Loss: 0.082107 Validation Accuracy: 0.652200\n",
      "Epoch 30, CIFAR-10 Batch 2:  Loss: 0.068289 Validation Accuracy: 0.661600\n",
      "Epoch 30, CIFAR-10 Batch 3:  Loss: 0.047892 Validation Accuracy: 0.668600\n",
      "Epoch 30, CIFAR-10 Batch 4:  Loss: 0.087039 Validation Accuracy: 0.658200\n",
      "Epoch 30, CIFAR-10 Batch 5:  Loss: 0.040601 Validation Accuracy: 0.659200\n",
      "Epoch 31, CIFAR-10 Batch 1:  Loss: 0.068448 Validation Accuracy: 0.658600\n",
      "Epoch 31, CIFAR-10 Batch 2:  Loss: 0.052939 Validation Accuracy: 0.676400\n",
      "Epoch 31, CIFAR-10 Batch 3:  Loss: 0.051023 Validation Accuracy: 0.664200\n",
      "Epoch 31, CIFAR-10 Batch 4:  Loss: 0.080169 Validation Accuracy: 0.665200\n",
      "Epoch 31, CIFAR-10 Batch 5:  Loss: 0.044381 Validation Accuracy: 0.655800\n",
      "Epoch 32, CIFAR-10 Batch 1:  Loss: 0.070421 Validation Accuracy: 0.671000\n",
      "Epoch 32, CIFAR-10 Batch 2:  Loss: 0.047490 Validation Accuracy: 0.671200\n",
      "Epoch 32, CIFAR-10 Batch 3:  Loss: 0.036572 Validation Accuracy: 0.663800\n",
      "Epoch 32, CIFAR-10 Batch 4:  Loss: 0.081539 Validation Accuracy: 0.672200\n",
      "Epoch 32, CIFAR-10 Batch 5:  Loss: 0.043879 Validation Accuracy: 0.659600\n",
      "Epoch 33, CIFAR-10 Batch 1:  Loss: 0.075140 Validation Accuracy: 0.663400\n",
      "Epoch 33, CIFAR-10 Batch 2:  Loss: 0.067144 Validation Accuracy: 0.651200\n",
      "Epoch 33, CIFAR-10 Batch 3:  Loss: 0.034178 Validation Accuracy: 0.670800\n",
      "Epoch 33, CIFAR-10 Batch 4:  Loss: 0.057912 Validation Accuracy: 0.678400\n",
      "Epoch 33, CIFAR-10 Batch 5:  Loss: 0.031670 Validation Accuracy: 0.662600\n",
      "Epoch 34, CIFAR-10 Batch 1:  Loss: 0.082033 Validation Accuracy: 0.656800\n",
      "Epoch 34, CIFAR-10 Batch 2:  Loss: 0.057437 Validation Accuracy: 0.653200\n",
      "Epoch 34, CIFAR-10 Batch 3:  Loss: 0.029475 Validation Accuracy: 0.661800\n",
      "Epoch 34, CIFAR-10 Batch 4:  Loss: 0.067052 Validation Accuracy: 0.671000\n",
      "Epoch 34, CIFAR-10 Batch 5:  Loss: 0.035529 Validation Accuracy: 0.663200\n",
      "Epoch 35, CIFAR-10 Batch 1:  Loss: 0.076883 Validation Accuracy: 0.649000\n",
      "Epoch 35, CIFAR-10 Batch 2:  Loss: 0.051119 Validation Accuracy: 0.642600\n",
      "Epoch 35, CIFAR-10 Batch 3:  Loss: 0.039550 Validation Accuracy: 0.647800\n",
      "Epoch 35, CIFAR-10 Batch 4:  Loss: 0.061536 Validation Accuracy: 0.676400\n",
      "Epoch 35, CIFAR-10 Batch 5:  Loss: 0.055053 Validation Accuracy: 0.645200\n",
      "Epoch 36, CIFAR-10 Batch 1:  Loss: 0.061631 Validation Accuracy: 0.654800\n",
      "Epoch 36, CIFAR-10 Batch 2:  Loss: 0.052510 Validation Accuracy: 0.645600\n",
      "Epoch 36, CIFAR-10 Batch 3:  Loss: 0.026064 Validation Accuracy: 0.663400\n",
      "Epoch 36, CIFAR-10 Batch 4:  Loss: 0.080154 Validation Accuracy: 0.661200\n",
      "Epoch 36, CIFAR-10 Batch 5:  Loss: 0.029997 Validation Accuracy: 0.657200\n",
      "Epoch 37, CIFAR-10 Batch 1:  Loss: 0.065788 Validation Accuracy: 0.645600\n",
      "Epoch 37, CIFAR-10 Batch 2:  Loss: 0.037183 Validation Accuracy: 0.654200\n",
      "Epoch 37, CIFAR-10 Batch 3:  Loss: 0.033080 Validation Accuracy: 0.665200\n",
      "Epoch 37, CIFAR-10 Batch 4:  Loss: 0.051777 Validation Accuracy: 0.662000\n",
      "Epoch 37, CIFAR-10 Batch 5:  Loss: 0.016196 Validation Accuracy: 0.672000\n",
      "Epoch 38, CIFAR-10 Batch 1:  Loss: 0.057668 Validation Accuracy: 0.638400\n",
      "Epoch 38, CIFAR-10 Batch 2:  Loss: 0.049499 Validation Accuracy: 0.649200\n",
      "Epoch 38, CIFAR-10 Batch 3:  Loss: 0.027358 Validation Accuracy: 0.668800\n",
      "Epoch 38, CIFAR-10 Batch 4:  Loss: 0.050046 Validation Accuracy: 0.646400\n",
      "Epoch 38, CIFAR-10 Batch 5:  Loss: 0.018606 Validation Accuracy: 0.656200\n",
      "Epoch 39, CIFAR-10 Batch 1:  Loss: 0.074860 Validation Accuracy: 0.640800\n",
      "Epoch 39, CIFAR-10 Batch 2:  Loss: 0.046556 Validation Accuracy: 0.660600\n",
      "Epoch 39, CIFAR-10 Batch 3:  Loss: 0.017267 Validation Accuracy: 0.670800\n",
      "Epoch 39, CIFAR-10 Batch 4:  Loss: 0.042433 Validation Accuracy: 0.652600\n",
      "Epoch 39, CIFAR-10 Batch 5:  Loss: 0.015204 Validation Accuracy: 0.659800\n",
      "Epoch 40, CIFAR-10 Batch 1:  Loss: 0.043388 Validation Accuracy: 0.643400\n",
      "Epoch 40, CIFAR-10 Batch 2:  Loss: 0.044000 Validation Accuracy: 0.659200\n",
      "Epoch 40, CIFAR-10 Batch 3:  Loss: 0.023418 Validation Accuracy: 0.657000\n",
      "Epoch 40, CIFAR-10 Batch 4:  Loss: 0.026752 Validation Accuracy: 0.668200\n",
      "Epoch 40, CIFAR-10 Batch 5:  Loss: 0.010547 Validation Accuracy: 0.656000\n"
     ]
    }
   ],
   "source": [
    "\"\"\"\n",
    "DON'T MODIFY ANYTHING IN THIS CELL\n",
    "\"\"\"\n",
    "save_model_path = './image_classification'\n",
    "\n",
    "print('Training...')\n",
    "with tf.Session() as sess:\n",
    "    # Initializing the variables\n",
    "    sess.run(tf.global_variables_initializer())\n",
    "    \n",
    "    # Training cycle\n",
    "    for epoch in range(epochs):\n",
    "        # Loop over all batches\n",
    "        n_batches = 5\n",
    "        for batch_i in range(1, n_batches + 1):\n",
    "            for batch_features, batch_labels in helper.load_preprocess_training_batch(batch_i, batch_size):\n",
    "                train_neural_network(sess, optimizer, keep_probability, batch_features, batch_labels)\n",
    "            print('Epoch {:>2}, CIFAR-10 Batch {}:  '.format(epoch + 1, batch_i), end='')\n",
    "            print_stats(sess, batch_features, batch_labels, cost, accuracy)\n",
    "            \n",
    "    # Save Model\n",
    "    saver = tf.train.Saver()\n",
    "    save_path = saver.save(sess, save_model_path)"
   ]
  },
  {
   "cell_type": "markdown",
   "metadata": {
    "deletable": true,
    "editable": true
   },
   "source": [
    "# Checkpoint\n",
    "The model has been saved to disk.\n",
    "## Test Model\n",
    "Test your model against the test dataset.  This will be your final accuracy. You should have an accuracy greater than 50%. If you don't, keep tweaking the model architecture and parameters."
   ]
  },
  {
   "cell_type": "code",
   "execution_count": 101,
   "metadata": {
    "collapsed": false,
    "deletable": true,
    "editable": true
   },
   "outputs": [
    {
     "name": "stdout",
     "output_type": "stream",
     "text": [
      "Testing Accuracy: 0.6642578125\n",
      "\n"
     ]
    },
    {
     "data": {
      "image/png": "[encoded data removed]",
      "text/plain": [
       "<matplotlib.figure.Figure at 0x7effa7b12550>"
      ]
     },
     "metadata": {
      "image/png": {
       "height": 319,
       "width": 355
      }
     },
     "output_type": "display_data"
    }
   ],
   "source": [
    "\"\"\"\n",
    "DON'T MODIFY ANYTHING IN THIS CELL\n",
    "\"\"\"\n",
    "%matplotlib inline\n",
    "%config InlineBackend.figure_format = 'retina'\n",
    "\n",
    "import tensorflow as tf\n",
    "import pickle\n",
    "import helper\n",
    "import random\n",
    "\n",
    "# Set batch size if not already set\n",
    "try:\n",
    "    if batch_size:\n",
    "        pass\n",
    "except NameError:\n",
    "    batch_size = 64\n",
    "\n",
    "save_model_path = './image_classification'\n",
    "n_samples = 4\n",
    "top_n_predictions = 3\n",
    "\n",
    "def test_model():\n",
    "    \"\"\"\n",
    "    Test the saved model against the test dataset\n",
    "    \"\"\"\n",
    "\n",
    "    test_features, test_labels = pickle.load(open('preprocess_test.p', mode='rb'))\n",
    "    loaded_graph = tf.Graph()\n",
    "\n",
    "    with tf.Session(graph=loaded_graph) as sess:\n",
    "        # Load model\n",
    "        loader = tf.train.import_meta_graph(save_model_path + '.meta')\n",
    "        loader.restore(sess, save_model_path)\n",
    "\n",
    "        # Get Tensors from loaded model\n",
    "        loaded_x = loaded_graph.get_tensor_by_name('x:0')\n",
    "        loaded_y = loaded_graph.get_tensor_by_name('y:0')\n",
    "        loaded_keep_prob = loaded_graph.get_tensor_by_name('keep_prob:0')\n",
    "        loaded_logits = loaded_graph.get_tensor_by_name('logits:0')\n",
    "        loaded_acc = loaded_graph.get_tensor_by_name('accuracy:0')\n",
    "        \n",
    "        # Get accuracy in batches for memory limitations\n",
    "        test_batch_acc_total = 0\n",
    "        test_batch_count = 0\n",
    "        \n",
    "        for test_feature_batch, test_label_batch in helper.batch_features_labels(test_features, test_labels, batch_size):\n",
    "            test_batch_acc_total += sess.run(\n",
    "                loaded_acc,\n",
    "                feed_dict={loaded_x: test_feature_batch, loaded_y: test_label_batch, loaded_keep_prob: 1.0})\n",
    "            test_batch_count += 1\n",
    "\n",
    "        print('Testing Accuracy: {}\\n'.format(test_batch_acc_total/test_batch_count))\n",
    "\n",
    "        # Print Random Samples\n",
    "        random_test_features, random_test_labels = tuple(zip(*random.sample(list(zip(test_features, test_labels)), n_samples)))\n",
    "        random_test_predictions = sess.run(\n",
    "            tf.nn.top_k(tf.nn.softmax(loaded_logits), top_n_predictions),\n",
    "            feed_dict={loaded_x: random_test_features, loaded_y: random_test_labels, loaded_keep_prob: 1.0})\n",
    "        helper.display_image_predictions(random_test_features, random_test_labels, random_test_predictions)\n",
    "\n",
    "\n",
    "test_model()"
   ]
  },
  {
   "cell_type": "markdown",
   "metadata": {
    "deletable": true,
    "editable": true
   },
   "source": [
    "## Why 50-80% Accuracy?\n",
    "You might be wondering why you can't get an accuracy any higher. First things first, 50% isn't bad for a simple CNN.  Pure guessing would get you 10% accuracy. However, you might notice people are getting scores [well above 80%](http://rodrigob.github.io/are_we_there_yet/build/classification_datasets_results.html#43494641522d3130).  That's because we haven't taught you all there is to know about neural networks. We still need to cover a few more techniques.\n",
    "## Submitting This Project\n",
    "When submitting this project, make sure to run all the cells before saving the notebook.  Save the notebook file as \"dlnd_image_classification.ipynb\" and save it as a HTML file under \"File\" -> \"Download as\".  Include the \"helper.py\" and \"problem_unittests.py\" files in your submission."
   ]
  }
 ],
 "metadata": {
  "celltoolbar": "Raw Cell Format",
  "kernelspec": {
   "display_name": "Python 3",
   "language": "python",
   "name": "python3"
  },
  "language_info": {
   "codemirror_mode": {
    "name": "ipython",
    "version": 3
   },
   "file_extension": ".py",
   "mimetype": "text/x-python",
   "name": "python",
   "nbconvert_exporter": "python",
   "pygments_lexer": "ipython3",
   "version": "3.5.2"
  },
  "widgets": {
   "state": {},
   "version": "1.1.2"
  }
 },
 "nbformat": 4,
 "nbformat_minor": 1
}
