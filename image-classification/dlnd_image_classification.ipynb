{
 "cells": [
  {
   "cell_type": "markdown",
   "metadata": {
    "collapsed": true,
    "deletable": true,
    "editable": true
   },
   "source": [
    "# Image Classification\n",
    "In this project, you'll classify images from the [CIFAR-10 dataset](https://www.cs.toronto.edu/~kriz/cifar.html).  The dataset consists of airplanes, dogs, cats, and other objects. You'll preprocess the images, then train a convolutional neural network on all the samples. The images need to be normalized and the labels need to be one-hot encoded.  You'll get to apply what you learned and build a convolutional, max pooling, dropout, and fully connected layers.  At the end, you'll get to see your neural network's predictions on the sample images.\n",
    "## Get the Data\n",
    "Run the following cell to download the [CIFAR-10 dataset for python](https://www.cs.toronto.edu/~kriz/cifar-10-python.tar.gz)."
   ]
  },
  {
   "cell_type": "code",
   "execution_count": 101,
   "metadata": {
    "collapsed": false,
    "deletable": true,
    "editable": true
   },
   "outputs": [
    {
     "name": "stdout",
     "output_type": "stream",
     "text": [
      "All files found!\n"
     ]
    }
   ],
   "source": [
    "\"\"\"\n",
    "DON'T MODIFY ANYTHING IN THIS CELL THAT IS BELOW THIS LINE\n",
    "\"\"\"\n",
    "from urllib.request import urlretrieve\n",
    "from os.path import isfile, isdir\n",
    "from tqdm import tqdm\n",
    "import problem_unittests as tests\n",
    "import tarfile\n",
    "\n",
    "cifar10_dataset_folder_path = 'cifar-10-batches-py'\n",
    "\n",
    "# Use Floyd's cifar-10 dataset if present\n",
    "floyd_cifar10_location = '/input/cifar-10/python.tar.gz'\n",
    "if isfile(floyd_cifar10_location):\n",
    "    tar_gz_path = floyd_cifar10_location\n",
    "else:\n",
    "    tar_gz_path = 'cifar-10-python.tar.gz'\n",
    "\n",
    "class DLProgress(tqdm):\n",
    "    last_block = 0\n",
    "\n",
    "    def hook(self, block_num=1, block_size=1, total_size=None):\n",
    "        self.total = total_size\n",
    "        self.update((block_num - self.last_block) * block_size)\n",
    "        self.last_block = block_num\n",
    "\n",
    "if not isfile(tar_gz_path):\n",
    "    with DLProgress(unit='B', unit_scale=True, miniters=1, desc='CIFAR-10 Dataset') as pbar:\n",
    "        urlretrieve(\n",
    "            'https://www.cs.toronto.edu/~kriz/cifar-10-python.tar.gz',\n",
    "            tar_gz_path,\n",
    "            pbar.hook)\n",
    "\n",
    "if not isdir(cifar10_dataset_folder_path):\n",
    "    with tarfile.open(tar_gz_path) as tar:\n",
    "        tar.extractall()\n",
    "        tar.close()\n",
    "\n",
    "\n",
    "tests.test_folder_path(cifar10_dataset_folder_path)"
   ]
  },
  {
   "cell_type": "markdown",
   "metadata": {
    "deletable": true,
    "editable": true
   },
   "source": [
    "## Explore the Data\n",
    "The dataset is broken into batches to prevent your machine from running out of memory.  The CIFAR-10 dataset consists of 5 batches, named `data_batch_1`, `data_batch_2`, etc.. Each batch contains the labels and images that are one of the following:\n",
    "* airplane\n",
    "* automobile\n",
    "* bird\n",
    "* cat\n",
    "* deer\n",
    "* dog\n",
    "* frog\n",
    "* horse\n",
    "* ship\n",
    "* truck\n",
    "\n",
    "Understanding a dataset is part of making predictions on the data.  Play around with the code cell below by changing the `batch_id` and `sample_id`. The `batch_id` is the id for a batch (1-5). The `sample_id` is the id for a image and label pair in the batch.\n",
    "\n",
    "Ask yourself \"What are all possible labels?\", \"What is the range of values for the image data?\", \"Are the labels in order or random?\".  Answers to questions like these will help you preprocess the data and end up with better predictions."
   ]
  },
  {
   "cell_type": "code",
   "execution_count": 102,
   "metadata": {
    "collapsed": false,
    "deletable": true,
    "editable": true
   },
   "outputs": [
    {
     "name": "stdout",
     "output_type": "stream",
     "text": [
      "\n",
      "Stats of batch 5:\n",
      "Samples: 10000\n",
      "Label Counts: {0: 1014, 1: 1014, 2: 952, 3: 1016, 4: 997, 5: 1025, 6: 980, 7: 977, 8: 1003, 9: 1022}\n",
      "First 20 Labels: [1, 8, 5, 1, 5, 7, 4, 3, 8, 2, 7, 2, 0, 1, 5, 9, 6, 2, 0, 8]\n",
      "\n",
      "Example of Image 10:\n",
      "Image - Min Value: 16 Max Value: 227\n",
      "Image - Shape: (32, 32, 3)\n",
      "Label - Label Id: 7 Name: horse\n"
     ]
    },
    {
     "data": {
      "image/png": "[encoded data removed]",
      "text/plain": [
       "<matplotlib.figure.Figure at 0x7fa5b832a0b8>"
      ]
     },
     "metadata": {
      "image/png": {
       "height": 250,
       "width": 253
      }
     },
     "output_type": "display_data"
    }
   ],
   "source": [
    "%matplotlib inline\n",
    "%config InlineBackend.figure_format = 'retina'\n",
    "\n",
    "import helper\n",
    "import numpy as np\n",
    "\n",
    "# Explore the dataset\n",
    "batch_id = 5\n",
    "sample_id = 10\n",
    "helper.display_stats(cifar10_dataset_folder_path, batch_id, sample_id)"
   ]
  },
  {
   "cell_type": "markdown",
   "metadata": {
    "deletable": true,
    "editable": true
   },
   "source": [
    "## Implement Preprocess Functions\n",
    "### Normalize\n",
    "In the cell below, implement the `normalize` function to take in image data, `x`, and return it as a normalized Numpy array. The values should be in the range of 0 to 1, inclusive.  The return object should be the same shape as `x`."
   ]
  },
  {
   "cell_type": "code",
   "execution_count": 103,
   "metadata": {
    "collapsed": false,
    "deletable": true,
    "editable": true
   },
   "outputs": [
    {
     "name": "stdout",
     "output_type": "stream",
     "text": [
      "Tests Passed\n"
     ]
    }
   ],
   "source": [
    "def normalize(x):\n",
    "    \"\"\"\n",
    "    Normalize a list of sample image data in the range of 0 to 1\n",
    "    : x: List of image data.  The image shape is (32, 32, 3)\n",
    "    : return: Numpy array of normalize data\n",
    "    \"\"\"\n",
    "    return (x - x.min())/(x.max() - x.min())\n",
    "\n",
    "\n",
    "\"\"\"\n",
    "DON'T MODIFY ANYTHING IN THIS CELL THAT IS BELOW THIS LINE\n",
    "\"\"\"\n",
    "tests.test_normalize(normalize)"
   ]
  },
  {
   "cell_type": "markdown",
   "metadata": {
    "deletable": true,
    "editable": true
   },
   "source": [
    "### One-hot encode\n",
    "Just like the previous code cell, you'll be implementing a function for preprocessing.  This time, you'll implement the `one_hot_encode` function. The input, `x`, are a list of labels.  Implement the function to return the list of labels as One-Hot encoded Numpy array.  The possible values for labels are 0 to 9. The one-hot encoding function should return the same encoding for each value between each call to `one_hot_encode`.  Make sure to save the map of encodings outside the function.\n",
    "\n",
    "Hint: Don't reinvent the wheel."
   ]
  },
  {
   "cell_type": "code",
   "execution_count": 104,
   "metadata": {
    "collapsed": false,
    "deletable": true,
    "editable": true
   },
   "outputs": [
    {
     "name": "stdout",
     "output_type": "stream",
     "text": [
      "Tests Passed\n"
     ]
    }
   ],
   "source": [
    "label_to_idx = {\n",
    "     0 :'airplane',\n",
    "     1 :'automobile',\n",
    "     2 :'bird',\n",
    "     3 :'cat',\n",
    "     4 :'deer',\n",
    "     5 :'dog',\n",
    "     6 :'frog',\n",
    "     7 :'horse',\n",
    "     8 :'ship',\n",
    "     9 :'truck'\n",
    "}\n",
    "\n",
    "def one_hot_encode(x):\n",
    "    \"\"\"\n",
    "    One hot encode a list of sample labels. Return a one-hot encoded vector for each label.\n",
    "    : x: List of sample Labels\n",
    "    : return: Numpy array of one-hot encoded labels\n",
    "    \"\"\"\n",
    "    encodes = np.zeros((len(x), 10))\n",
    "    \n",
    "    for i, label in enumerate(x):\n",
    "        encodes[i][label] = 1.0\n",
    "        \n",
    "    return encodes\n",
    "\n",
    "\n",
    "\"\"\"\n",
    "DON'T MODIFY ANYTHING IN THIS CELL THAT IS BELOW THIS LINE\n",
    "\"\"\"\n",
    "tests.test_one_hot_encode(one_hot_encode)"
   ]
  },
  {
   "cell_type": "markdown",
   "metadata": {
    "deletable": true,
    "editable": true
   },
   "source": [
    "### Randomize Data\n",
    "As you saw from exploring the data above, the order of the samples are randomized.  It doesn't hurt to randomize it again, but you don't need to for this dataset."
   ]
  },
  {
   "cell_type": "markdown",
   "metadata": {
    "deletable": true,
    "editable": true
   },
   "source": [
    "## Preprocess all the data and save it\n",
    "Running the code cell below will preprocess all the CIFAR-10 data and save it to file. The code below also uses 10% of the training data for validation."
   ]
  },
  {
   "cell_type": "code",
   "execution_count": 105,
   "metadata": {
    "collapsed": true,
    "deletable": true,
    "editable": true
   },
   "outputs": [],
   "source": [
    "\"\"\"\n",
    "DON'T MODIFY ANYTHING IN THIS CELL\n",
    "\"\"\"\n",
    "# Preprocess Training, Validation, and Testing Data\n",
    "helper.preprocess_and_save_data(cifar10_dataset_folder_path, normalize, one_hot_encode)"
   ]
  },
  {
   "cell_type": "markdown",
   "metadata": {
    "deletable": true,
    "editable": true
   },
   "source": [
    "# Check Point\n",
    "This is your first checkpoint.  If you ever decide to come back to this notebook or have to restart the notebook, you can start from here.  The preprocessed data has been saved to disk."
   ]
  },
  {
   "cell_type": "code",
   "execution_count": 106,
   "metadata": {
    "collapsed": true,
    "deletable": true,
    "editable": true
   },
   "outputs": [],
   "source": [
    "\"\"\"\n",
    "DON'T MODIFY ANYTHING IN THIS CELL\n",
    "\"\"\"\n",
    "import pickle\n",
    "import problem_unittests as tests\n",
    "import helper\n",
    "\n",
    "# Load the Preprocessed Validation data\n",
    "valid_features, valid_labels = pickle.load(open('preprocess_validation.p', mode='rb'))"
   ]
  },
  {
   "cell_type": "markdown",
   "metadata": {
    "deletable": true,
    "editable": true
   },
   "source": [
    "## Build the network\n",
    "For the neural network, you'll build each layer into a function.  Most of the code you've seen has been outside of functions. To test your code more thoroughly, we require that you put each layer in a function.  This allows us to give you better feedback and test for simple mistakes using our unittests before you submit your project.\n",
    "\n",
    ">**Note:** If you're finding it hard to dedicate enough time for this course each week, we've provided a small shortcut to this part of the project. In the next couple of problems, you'll have the option to use classes from the [TensorFlow Layers](https://www.tensorflow.org/api_docs/python/tf/layers) or [TensorFlow Layers (contrib)](https://www.tensorflow.org/api_guides/python/contrib.layers) packages to build each layer, except the layers you build in the \"Convolutional and Max Pooling Layer\" section.  TF Layers is similar to Keras's and TFLearn's abstraction to layers, so it's easy to pickup.\n",
    "\n",
    ">However, if you would like to get the most out of this course, try to solve all the problems _without_ using anything from the TF Layers packages. You **can** still use classes from other packages that happen to have the same name as ones you find in TF Layers! For example, instead of using the TF Layers version of the `conv2d` class, [tf.layers.conv2d](https://www.tensorflow.org/api_docs/python/tf/layers/conv2d), you would want to use the TF Neural Network version of `conv2d`, [tf.nn.conv2d](https://www.tensorflow.org/api_docs/python/tf/nn/conv2d). \n",
    "\n",
    "Let's begin!\n",
    "\n",
    "### Input\n",
    "The neural network needs to read the image data, one-hot encoded labels, and dropout keep probability. Implement the following functions\n",
    "* Implement `neural_net_image_input`\n",
    " * Return a [TF Placeholder](https://www.tensorflow.org/api_docs/python/tf/placeholder)\n",
    " * Set the shape using `image_shape` with batch size set to `None`.\n",
    " * Name the TensorFlow placeholder \"x\" using the TensorFlow `name` parameter in the [TF Placeholder](https://www.tensorflow.org/api_docs/python/tf/placeholder).\n",
    "* Implement `neural_net_label_input`\n",
    " * Return a [TF Placeholder](https://www.tensorflow.org/api_docs/python/tf/placeholder)\n",
    " * Set the shape using `n_classes` with batch size set to `None`.\n",
    " * Name the TensorFlow placeholder \"y\" using the TensorFlow `name` parameter in the [TF Placeholder](https://www.tensorflow.org/api_docs/python/tf/placeholder).\n",
    "* Implement `neural_net_keep_prob_input`\n",
    " * Return a [TF Placeholder](https://www.tensorflow.org/api_docs/python/tf/placeholder) for dropout keep probability.\n",
    " * Name the TensorFlow placeholder \"keep_prob\" using the TensorFlow `name` parameter in the [TF Placeholder](https://www.tensorflow.org/api_docs/python/tf/placeholder).\n",
    "\n",
    "These names will be used at the end of the project to load your saved model.\n",
    "\n",
    "Note: `None` for shapes in TensorFlow allow for a dynamic size."
   ]
  },
  {
   "cell_type": "code",
   "execution_count": 107,
   "metadata": {
    "collapsed": false,
    "deletable": true,
    "editable": true
   },
   "outputs": [
    {
     "name": "stdout",
     "output_type": "stream",
     "text": [
      "Image Input Tests Passed.\n",
      "Label Input Tests Passed.\n",
      "Keep Prob Tests Passed.\n"
     ]
    }
   ],
   "source": [
    "import tensorflow as tf\n",
    "\n",
    "def neural_net_image_input(image_shape):\n",
    "    \"\"\"\n",
    "    Return a Tensor for a batch of image input\n",
    "    : image_shape: Shape of the images\n",
    "    : return: Tensor for image input.\n",
    "    \"\"\"\n",
    "    shape = [None] + list(image_shape)\n",
    "    return tf.placeholder(tf.float32, shape=shape, name='x')\n",
    "\n",
    "\n",
    "def neural_net_label_input(n_classes):\n",
    "    \"\"\"\n",
    "    Return a Tensor for a batch of label input\n",
    "    : n_classes: Number of classes\n",
    "    : return: Tensor for label input.\n",
    "    \"\"\"\n",
    "    return tf.placeholder(tf.float32, shape=[None, n_classes], name='y')\n",
    "\n",
    "\n",
    "def neural_net_keep_prob_input():\n",
    "    \"\"\"\n",
    "    Return a Tensor for keep probability\n",
    "    : return: Tensor for keep probability.\n",
    "    \"\"\"\n",
    "    return tf.placeholder(tf.float32, name='keep_prob')\n",
    "\n",
    "\n",
    "\"\"\"\n",
    "DON'T MODIFY ANYTHING IN THIS CELL THAT IS BELOW THIS LINE\n",
    "\"\"\"\n",
    "tf.reset_default_graph()\n",
    "tests.test_nn_image_inputs(neural_net_image_input)\n",
    "tests.test_nn_label_inputs(neural_net_label_input)\n",
    "tests.test_nn_keep_prob_inputs(neural_net_keep_prob_input)"
   ]
  },
  {
   "cell_type": "markdown",
   "metadata": {
    "deletable": true,
    "editable": true
   },
   "source": [
    "### Convolution and Max Pooling Layer\n",
    "Convolution layers have a lot of success with images. For this code cell, you should implement the function `conv2d_maxpool` to apply convolution then max pooling:\n",
    "* Create the weight and bias using `conv_ksize`, `conv_num_outputs` and the shape of `x_tensor`.\n",
    "* Apply a convolution to `x_tensor` using weight and `conv_strides`.\n",
    " * We recommend you use same padding, but you're welcome to use any padding.\n",
    "* Add bias\n",
    "* Add a nonlinear activation to the convolution.\n",
    "* Apply Max Pooling using `pool_ksize` and `pool_strides`.\n",
    " * We recommend you use same padding, but you're welcome to use any padding.\n",
    "\n",
    "**Note:** You **can't** use [TensorFlow Layers](https://www.tensorflow.org/api_docs/python/tf/layers) or [TensorFlow Layers (contrib)](https://www.tensorflow.org/api_guides/python/contrib.layers) for **this** layer, but you can still use TensorFlow's [Neural Network](https://www.tensorflow.org/api_docs/python/tf/nn) package. You may still use the shortcut option for all the **other** layers."
   ]
  },
  {
   "cell_type": "code",
   "execution_count": 108,
   "metadata": {
    "collapsed": false,
    "deletable": true,
    "editable": true
   },
   "outputs": [
    {
     "name": "stdout",
     "output_type": "stream",
     "text": [
      "Tests Passed\n"
     ]
    }
   ],
   "source": [
    "def conv2d_maxpool(x_tensor, conv_num_outputs, conv_ksize, conv_strides, pool_ksize, pool_strides):\n",
    "    \"\"\"\n",
    "    Apply convolution then max pooling to x_tensor\n",
    "    :param x_tensor: TensorFlow Tensor\n",
    "    :param conv_num_outputs: Number of outputs for the convolutional layer\n",
    "    :param conv_ksize: kernal size 2-D Tuple for the convolutional layer\n",
    "    :param conv_strides: Stride 2-D Tuple for convolution\n",
    "    :param pool_ksize: kernal size 2-D Tuple for pool\n",
    "    :param pool_strides: Stride 2-D Tuple for pool\n",
    "    : return: A tensor that represents convolution and max pooling of x_tensor\n",
    "    \"\"\"\n",
    "    conv_shape = list(conv_ksize)\n",
    "    color_channels = x_tensor.get_shape().as_list()[3]\n",
    "    weights_shape = conv_shape + [color_channels, conv_num_outputs]\n",
    "    \n",
    "    # Define weight with normal distribution\n",
    "    weights = tf.Variable(tf.truncated_normal(weights_shape, stddev=.006))\n",
    "    # Define biases\n",
    "    bias = tf.Variable(tf.zeros(conv_num_outputs))\n",
    "    \n",
    "    # 2d Conv Layer\n",
    "    batch_size = 1\n",
    "    conv_out_size = 1\n",
    "    \n",
    "    strides = [batch_size, conv_strides[0], conv_strides[1], conv_out_size]\n",
    "    \n",
    "    output = tf.nn.conv2d(x_tensor, weights, strides=strides, padding='SAME')\n",
    "    output = tf.nn.bias_add(output, bias)\n",
    "    output = tf.nn.relu(output)\n",
    "    \n",
    "    # Pooling layer.\n",
    "    pool_shape = [batch_size, pool_ksize[0], pool_ksize[1], 1]\n",
    "    pool_stride = [batch_size, pool_strides[0], pool_strides[1], 1]\n",
    "    \n",
    "    return tf.nn.max_pool(output, ksize=pool_shape, strides=pool_stride, padding='SAME')                                  \n",
    "\n",
    "\n",
    "\"\"\"\n",
    "DON'T MODIFY ANYTHING IN THIS CELL THAT IS BELOW THIS LINE\n",
    "\"\"\"\n",
    "tests.test_con_pool(conv2d_maxpool)"
   ]
  },
  {
   "cell_type": "markdown",
   "metadata": {
    "deletable": true,
    "editable": true
   },
   "source": [
    "### Flatten Layer\n",
    "Implement the `flatten` function to change the dimension of `x_tensor` from a 4-D tensor to a 2-D tensor.  The output should be the shape (*Batch Size*, *Flattened Image Size*). Shortcut option: you can use classes from the [TensorFlow Layers](https://www.tensorflow.org/api_docs/python/tf/layers) or [TensorFlow Layers (contrib)](https://www.tensorflow.org/api_guides/python/contrib.layers) packages for this layer. For more of a challenge, only use other TensorFlow packages."
   ]
  },
  {
   "cell_type": "code",
   "execution_count": 109,
   "metadata": {
    "collapsed": false,
    "deletable": true,
    "editable": true
   },
   "outputs": [
    {
     "name": "stdout",
     "output_type": "stream",
     "text": [
      "Tests Passed\n"
     ]
    }
   ],
   "source": [
    "def flatten(x_tensor):\n",
    "    \"\"\"\n",
    "    Flatten x_tensor to (Batch Size, Flattened Image Size)\n",
    "    : x_tensor: A tensor of size (Batch Size, ...), where ... are the image dimensions.\n",
    "    : return: A tensor of size (Batch Size, Flattened Image Size).\n",
    "    \"\"\"\n",
    "    return tf.contrib.layers.flatten(x_tensor)\n",
    "\n",
    "\n",
    "\"\"\"\n",
    "DON'T MODIFY ANYTHING IN THIS CELL THAT IS BELOW THIS LINE\n",
    "\"\"\"\n",
    "tests.test_flatten(flatten)"
   ]
  },
  {
   "cell_type": "markdown",
   "metadata": {
    "deletable": true,
    "editable": true
   },
   "source": [
    "### Fully-Connected Layer\n",
    "Implement the `fully_conn` function to apply a fully connected layer to `x_tensor` with the shape (*Batch Size*, *num_outputs*). Shortcut option: you can use classes from the [TensorFlow Layers](https://www.tensorflow.org/api_docs/python/tf/layers) or [TensorFlow Layers (contrib)](https://www.tensorflow.org/api_guides/python/contrib.layers) packages for this layer. For more of a challenge, only use other TensorFlow packages."
   ]
  },
  {
   "cell_type": "code",
   "execution_count": 110,
   "metadata": {
    "collapsed": false,
    "deletable": true,
    "editable": true
   },
   "outputs": [
    {
     "name": "stdout",
     "output_type": "stream",
     "text": [
      "Tests Passed\n"
     ]
    }
   ],
   "source": [
    "def basic_layer(x_tensor, num_outputs):\n",
    "    \"\"\"\n",
    "    Apply a basic layer into x_tensor using a weight and a bias.\n",
    "    : x_tensor: A 2-D tensor where the first dimension is batch size.\n",
    "    : num_outputs: The number of output that the new tensor should be.\n",
    "    : return: A 2-D tensor where the second dimension is num_outputs.\n",
    "    \"\"\"\n",
    "    vector_lenght = np.array(x_tensor.get_shape().as_list()[1:]).prod()\n",
    "    \n",
    "    \n",
    "    weights = tf.Variable(tf.truncated_normal([vector_lenght, num_outputs]))\n",
    "    bias = tf.Variable(tf.zeros([num_outputs]))\n",
    "    \n",
    "    return tf.add(tf.matmul(x_tensor, weights), bias)\n",
    "\n",
    "\n",
    "\n",
    "def fully_conn(x_tensor, num_outputs):\n",
    "    \"\"\"\n",
    "    Apply a fully connected layer to x_tensor using weight and bias\n",
    "    : x_tensor: A 2-D tensor where the first dimension is batch size.\n",
    "    : num_outputs: The number of output that the new tensor should be.\n",
    "    : return: A 2-D tensor where the second dimension is num_outputs.\n",
    "    \"\"\"\n",
    "    \n",
    "    logits = basic_layer(x_tensor, num_outputs)\n",
    "    \n",
    "    return tf.nn.softmax(logits)\n",
    "\n",
    "\n",
    "\"\"\"\n",
    "DON'T MODIFY ANYTHING IN THIS CELL THAT IS BELOW THIS LINE\n",
    "\"\"\"\n",
    "tests.test_fully_conn(fully_conn)"
   ]
  },
  {
   "cell_type": "markdown",
   "metadata": {
    "deletable": true,
    "editable": true
   },
   "source": [
    "### Output Layer\n",
    "Implement the `output` function to apply a fully connected layer to `x_tensor` with the shape (*Batch Size*, *num_outputs*). Shortcut option: you can use classes from the [TensorFlow Layers](https://www.tensorflow.org/api_docs/python/tf/layers) or [TensorFlow Layers (contrib)](https://www.tensorflow.org/api_guides/python/contrib.layers) packages for this layer. For more of a challenge, only use other TensorFlow packages.\n",
    "\n",
    "**Note:** Activation, softmax, or cross entropy should **not** be applied to this."
   ]
  },
  {
   "cell_type": "code",
   "execution_count": 111,
   "metadata": {
    "collapsed": false,
    "deletable": true,
    "editable": true
   },
   "outputs": [
    {
     "name": "stdout",
     "output_type": "stream",
     "text": [
      "Tests Passed\n"
     ]
    }
   ],
   "source": [
    "def output(x_tensor, num_outputs):\n",
    "    \"\"\"\n",
    "    Apply a output layer to x_tensor using weight and bias\n",
    "    : x_tensor: A 2-D tensor where the first dimension is batch size.\n",
    "    : num_outputs: The number of output that the new tensor should be.\n",
    "    : return: A 2-D tensor where the second dimension is num_outputs.\n",
    "    \"\"\"\n",
    "    return basic_layer(x_tensor, num_outputs)\n",
    "\n",
    "\n",
    "\"\"\"\n",
    "DON'T MODIFY ANYTHING IN THIS CELL THAT IS BELOW THIS LINE\n",
    "\"\"\"\n",
    "tests.test_output(output)"
   ]
  },
  {
   "cell_type": "markdown",
   "metadata": {
    "deletable": true,
    "editable": true
   },
   "source": [
    "### Create Convolutional Model\n",
    "Implement the function `conv_net` to create a convolutional neural network model. The function takes in a batch of images, `x`, and outputs logits.  Use the layers you created above to create this model:\n",
    "\n",
    "* Apply 1, 2, or 3 Convolution and Max Pool layers\n",
    "* Apply a Flatten Layer\n",
    "* Apply 1, 2, or 3 Fully Connected Layers\n",
    "* Apply an Output Layer\n",
    "* Return the output\n",
    "* Apply [TensorFlow's Dropout](https://www.tensorflow.org/api_docs/python/tf/nn/dropout) to one or more layers in the model using `keep_prob`. "
   ]
  },
  {
   "cell_type": "code",
   "execution_count": 112,
   "metadata": {
    "collapsed": false,
    "deletable": true,
    "editable": true
   },
   "outputs": [
    {
     "name": "stdout",
     "output_type": "stream",
     "text": [
      "Neural Network Built!\n"
     ]
    }
   ],
   "source": [
    "def conv_net(x, keep_prob):\n",
    "    \"\"\"\n",
    "    Create a convolutional neural network model\n",
    "    : x: Placeholder tensor that holds image data.\n",
    "    : keep_prob: Placeholder tensor that hold dropout keep probability.\n",
    "    : return: Tensor that represents logits\n",
    "    \"\"\"\n",
    "    num_outputs = 32\n",
    "    conv_size = (4, 4)\n",
    "    conv_stride = (1, 1)\n",
    "    pool_size = (4, 4)\n",
    "    pool_stride = (2, 2)\n",
    "    \n",
    "    # TODO: Apply 1, 2, or 3 Convolution and Max Pool layers\n",
    "    #    Play around with different number of outputs, kernel size and stride\n",
    "    # Function Definition from Above:\n",
    "    #    conv2d_maxpool(x_tensor, conv_num_outputs, conv_ksize, conv_strides, pool_ksize, pool_strides)\n",
    "    conv_layer = conv2d_maxpool(x, num_outputs, conv_size, conv_stride, pool_size, pool_stride)\n",
    "    conv_layer = conv2d_maxpool(conv_layer, num_outputs, conv_size, conv_stride, pool_size, pool_stride)\n",
    "    \n",
    "\n",
    "    # TODO: Apply a Flatten Layer\n",
    "    # Function Definition from Above:\n",
    "    #   flatten(x_tensor)\n",
    "    flattened = flatten(conv_layer)\n",
    "\n",
    "    # Fully connected layer\n",
    "    fully = fully_conn(flattened, 384)\n",
    "    fully = fully_conn(fully, 192)\n",
    "    \n",
    "    dropout = tf.nn.dropout(fully, keep_prob)\n",
    "    \n",
    "    # Output layer\n",
    "    out = output(dropout, 10)\n",
    "    \n",
    "    # TODO: return output\n",
    "    return out\n",
    "\n",
    "\n",
    "\"\"\"\n",
    "DON'T MODIFY ANYTHING IN THIS CELL THAT IS BELOW THIS LINE\n",
    "\"\"\"\n",
    "\n",
    "##############################\n",
    "## Build the Neural Network ##\n",
    "##############################\n",
    "\n",
    "# Remove previous weights, bias, inputs, etc..\n",
    "tf.reset_default_graph()\n",
    "\n",
    "# Inputs\n",
    "x = neural_net_image_input((32, 32, 3))\n",
    "y = neural_net_label_input(10)\n",
    "keep_prob = neural_net_keep_prob_input()\n",
    "\n",
    "# Model\n",
    "logits = conv_net(x, keep_prob)\n",
    "\n",
    "# Name logits Tensor, so that is can be loaded from disk after training\n",
    "logits = tf.identity(logits, name='logits')\n",
    "\n",
    "# Loss and Optimizer\n",
    "cost = tf.reduce_mean(tf.nn.softmax_cross_entropy_with_logits(logits=logits, labels=y))\n",
    "optimizer = tf.train.AdamOptimizer().minimize(cost)\n",
    "\n",
    "# Accuracy\n",
    "correct_pred = tf.equal(tf.argmax(logits, 1), tf.argmax(y, 1))\n",
    "accuracy = tf.reduce_mean(tf.cast(correct_pred, tf.float32), name='accuracy')\n",
    "\n",
    "tests.test_conv_net(conv_net)"
   ]
  },
  {
   "cell_type": "markdown",
   "metadata": {
    "deletable": true,
    "editable": true
   },
   "source": [
    "## Train the Neural Network\n",
    "### Single Optimization\n",
    "Implement the function `train_neural_network` to do a single optimization.  The optimization should use `optimizer` to optimize in `session` with a `feed_dict` of the following:\n",
    "* `x` for image input\n",
    "* `y` for labels\n",
    "* `keep_prob` for keep probability for dropout\n",
    "\n",
    "This function will be called for each batch, so `tf.global_variables_initializer()` has already been called.\n",
    "\n",
    "Note: Nothing needs to be returned. This function is only optimizing the neural network."
   ]
  },
  {
   "cell_type": "code",
   "execution_count": 113,
   "metadata": {
    "collapsed": false,
    "deletable": true,
    "editable": true
   },
   "outputs": [
    {
     "name": "stdout",
     "output_type": "stream",
     "text": [
      "Tests Passed\n"
     ]
    }
   ],
   "source": [
    "def train_neural_network(session, optimizer, keep_probability, feature_batch, label_batch):\n",
    "    \"\"\"\n",
    "    Optimize the session on a batch of images and labels\n",
    "    : session: Current TensorFlow session\n",
    "    : optimizer: TensorFlow optimizer function\n",
    "    : keep_probability: keep probability\n",
    "    : feature_batch: Batch of Numpy image data\n",
    "    : label_batch: Batch of Numpy label data\n",
    "    \"\"\"\n",
    "    session.run(optimizer, feed_dict={\n",
    "        x: feature_batch,\n",
    "        y: label_batch,\n",
    "        keep_prob: keep_probability\n",
    "    })\n",
    "    \n",
    "\n",
    "\n",
    "\"\"\"\n",
    "DON'T MODIFY ANYTHING IN THIS CELL THAT IS BELOW THIS LINE\n",
    "\"\"\"\n",
    "tests.test_train_nn(train_neural_network)"
   ]
  },
  {
   "cell_type": "markdown",
   "metadata": {
    "deletable": true,
    "editable": true
   },
   "source": [
    "### Show Stats\n",
    "Implement the function `print_stats` to print loss and validation accuracy.  Use the global variables `valid_features` and `valid_labels` to calculate validation accuracy.  Use a keep probability of `1.0` to calculate the loss and validation accuracy."
   ]
  },
  {
   "cell_type": "code",
   "execution_count": 114,
   "metadata": {
    "collapsed": true,
    "deletable": true,
    "editable": true
   },
   "outputs": [],
   "source": [
    "def print_stats(session, feature_batch, label_batch, cost, accuracy):\n",
    "    \"\"\"\n",
    "    Print information about loss and validation accuracy\n",
    "    : session: Current TensorFlow session\n",
    "    : feature_batch: Batch of Numpy image data\n",
    "    : label_batch: Batch of Numpy label data\n",
    "    : cost: TensorFlow cost function\n",
    "    : accuracy: TensorFlow accuracy function\n",
    "    \"\"\"\n",
    "    loss = sess.run(cost, feed_dict={x: feature_batch,\n",
    "                                     y: label_batch,\n",
    "                                     keep_prob: 1.})\n",
    "    valid_acc = sess.run(accuracy, feed_dict={x: valid_features,\n",
    "                                              y: valid_labels,\n",
    "                                              keep_prob: 1.})\n",
    "    \n",
    "    print('Loss: %5.6f Validation Accuracy: %5.6f' % (loss, valid_acc))\n",
    "\n",
    "    "
   ]
  },
  {
   "cell_type": "markdown",
   "metadata": {
    "deletable": true,
    "editable": true
   },
   "source": [
    "### Hyperparameters\n",
    "Tune the following parameters:\n",
    "* Set `epochs` to the number of iterations until the network stops learning or start overfitting\n",
    "* Set `batch_size` to the highest number that your machine has memory for.  Most people set them to common sizes of memory:\n",
    " * 64\n",
    " * 128\n",
    " * 256\n",
    " * ...\n",
    "* Set `keep_probability` to the probability of keeping a node using dropout"
   ]
  },
  {
   "cell_type": "code",
   "execution_count": 115,
   "metadata": {
    "collapsed": true,
    "deletable": true,
    "editable": true
   },
   "outputs": [],
   "source": [
    "# TODO: Tune Parameters\n",
    "epochs = 40\n",
    "batch_size = 256\n",
    "keep_probability = .77"
   ]
  },
  {
   "cell_type": "markdown",
   "metadata": {
    "deletable": true,
    "editable": true
   },
   "source": [
    "### Train on a Single CIFAR-10 Batch\n",
    "Instead of training the neural network on all the CIFAR-10 batches of data, let's use a single batch. This should save time while you iterate on the model to get a better accuracy.  Once the final validation accuracy is 50% or greater, run the model on all the data in the next section."
   ]
  },
  {
   "cell_type": "code",
   "execution_count": 116,
   "metadata": {
    "collapsed": false,
    "deletable": true,
    "editable": true
   },
   "outputs": [
    {
     "name": "stdout",
     "output_type": "stream",
     "text": [
      "Checking the Training on a Single Batch...\n",
      "Epoch  1, CIFAR-10 Batch 1:  Loss: 2.296251 Validation Accuracy: 0.169800\n",
      "Epoch  2, CIFAR-10 Batch 1:  Loss: 2.280597 Validation Accuracy: 0.176800\n",
      "Epoch  3, CIFAR-10 Batch 1:  Loss: 2.264802 Validation Accuracy: 0.200200\n",
      "Epoch  4, CIFAR-10 Batch 1:  Loss: 2.268441 Validation Accuracy: 0.220600\n",
      "Epoch  5, CIFAR-10 Batch 1:  Loss: 2.240580 Validation Accuracy: 0.200000\n",
      "Epoch  6, CIFAR-10 Batch 1:  Loss: 2.232452 Validation Accuracy: 0.211200\n",
      "Epoch  7, CIFAR-10 Batch 1:  Loss: 2.208473 Validation Accuracy: 0.195400\n",
      "Epoch  8, CIFAR-10 Batch 1:  Loss: 2.199662 Validation Accuracy: 0.215200\n",
      "Epoch  9, CIFAR-10 Batch 1:  Loss: 2.186628 Validation Accuracy: 0.219000\n",
      "Epoch 10, CIFAR-10 Batch 1:  Loss: 2.163540 Validation Accuracy: 0.201800\n",
      "Epoch 11, CIFAR-10 Batch 1:  Loss: 2.138825 Validation Accuracy: 0.231000\n",
      "Epoch 12, CIFAR-10 Batch 1:  Loss: 2.123772 Validation Accuracy: 0.203600\n",
      "Epoch 13, CIFAR-10 Batch 1:  Loss: 2.105565 Validation Accuracy: 0.202000\n",
      "Epoch 14, CIFAR-10 Batch 1:  Loss: 2.114244 Validation Accuracy: 0.212600\n",
      "Epoch 15, CIFAR-10 Batch 1:  Loss: 2.088237 Validation Accuracy: 0.210800\n",
      "Epoch 16, CIFAR-10 Batch 1:  Loss: 2.076770 Validation Accuracy: 0.219800\n",
      "Epoch 17, CIFAR-10 Batch 1:  Loss: 2.054188 Validation Accuracy: 0.227800\n",
      "Epoch 18, CIFAR-10 Batch 1:  Loss: 2.011145 Validation Accuracy: 0.246000\n",
      "Epoch 19, CIFAR-10 Batch 1:  Loss: 1.997885 Validation Accuracy: 0.231000\n",
      "Epoch 20, CIFAR-10 Batch 1:  Loss: 1.935837 Validation Accuracy: 0.247800\n",
      "Epoch 21, CIFAR-10 Batch 1:  Loss: 1.917447 Validation Accuracy: 0.261800\n",
      "Epoch 22, CIFAR-10 Batch 1:  Loss: 1.883103 Validation Accuracy: 0.256000\n",
      "Epoch 23, CIFAR-10 Batch 1:  Loss: 1.873439 Validation Accuracy: 0.254600\n",
      "Epoch 24, CIFAR-10 Batch 1:  Loss: 1.869030 Validation Accuracy: 0.252000\n",
      "Epoch 25, CIFAR-10 Batch 1:  Loss: 1.841595 Validation Accuracy: 0.254400\n",
      "Epoch 26, CIFAR-10 Batch 1:  Loss: 1.823694 Validation Accuracy: 0.254600\n",
      "Epoch 27, CIFAR-10 Batch 1:  Loss: 1.789402 Validation Accuracy: 0.265400\n",
      "Epoch 28, CIFAR-10 Batch 1:  Loss: 1.781929 Validation Accuracy: 0.256800\n",
      "Epoch 29, CIFAR-10 Batch 1:  Loss: 1.724084 Validation Accuracy: 0.278800\n",
      "Epoch 30, CIFAR-10 Batch 1:  Loss: 1.737539 Validation Accuracy: 0.283000\n",
      "Epoch 31, CIFAR-10 Batch 1:  Loss: 1.675432 Validation Accuracy: 0.284000\n",
      "Epoch 32, CIFAR-10 Batch 1:  Loss: 1.656549 Validation Accuracy: 0.290400\n",
      "Epoch 33, CIFAR-10 Batch 1:  Loss: 1.647633 Validation Accuracy: 0.286400\n",
      "Epoch 34, CIFAR-10 Batch 1:  Loss: 1.630139 Validation Accuracy: 0.290600\n",
      "Epoch 35, CIFAR-10 Batch 1:  Loss: 1.621763 Validation Accuracy: 0.293000\n",
      "Epoch 36, CIFAR-10 Batch 1:  Loss: 1.609731 Validation Accuracy: 0.294200\n",
      "Epoch 37, CIFAR-10 Batch 1:  Loss: 1.609793 Validation Accuracy: 0.290400\n",
      "Epoch 38, CIFAR-10 Batch 1:  Loss: 1.577576 Validation Accuracy: 0.298000\n",
      "Epoch 39, CIFAR-10 Batch 1:  Loss: 1.583869 Validation Accuracy: 0.293600\n",
      "Epoch 40, CIFAR-10 Batch 1:  Loss: 1.587266 Validation Accuracy: 0.296200\n"
     ]
    }
   ],
   "source": [
    "\"\"\"\n",
    "DON'T MODIFY ANYTHING IN THIS CELL\n",
    "\"\"\"\n",
    "print('Checking the Training on a Single Batch...')\n",
    "config = tf.ConfigProto()\n",
    "config.gpu_options.allow_growth = True\n",
    "with tf.Session(config=config) as sess:\n",
    "    # Initializing the variables\n",
    "    sess.run(tf.global_variables_initializer())\n",
    "    \n",
    "    # Training cycle\n",
    "    for epoch in range(epochs):\n",
    "        batch_i = 1\n",
    "        for batch_features, batch_labels in helper.load_preprocess_training_batch(batch_i, batch_size):\n",
    "            train_neural_network(sess, optimizer, keep_probability, batch_features, batch_labels)\n",
    "        print('Epoch {:>2}, CIFAR-10 Batch {}:  '.format(epoch + 1, batch_i), end='')\n",
    "        print_stats(sess, batch_features, batch_labels, cost, accuracy)"
   ]
  },
  {
   "cell_type": "markdown",
   "metadata": {
    "deletable": true,
    "editable": true
   },
   "source": [
    "### Fully Train the Model\n",
    "Now that you got a good accuracy with a single CIFAR-10 batch, try it with all five batches."
   ]
  },
  {
   "cell_type": "code",
   "execution_count": 117,
   "metadata": {
    "collapsed": false,
    "deletable": true,
    "editable": true
   },
   "outputs": [
    {
     "name": "stdout",
     "output_type": "stream",
     "text": [
      "Training...\n",
      "Epoch  1, CIFAR-10 Batch 1:  Loss: 2.287486 Validation Accuracy: 0.142800\n",
      "Epoch  1, CIFAR-10 Batch 2:  Loss: 2.269036 Validation Accuracy: 0.178000\n",
      "Epoch  1, CIFAR-10 Batch 3:  Loss: 2.227625 Validation Accuracy: 0.173000\n",
      "Epoch  1, CIFAR-10 Batch 4:  Loss: 2.221739 Validation Accuracy: 0.182000\n",
      "Epoch  1, CIFAR-10 Batch 5:  Loss: 2.204046 Validation Accuracy: 0.187600\n",
      "Epoch  2, CIFAR-10 Batch 1:  Loss: 2.224091 Validation Accuracy: 0.162600\n",
      "Epoch  2, CIFAR-10 Batch 2:  Loss: 2.173987 Validation Accuracy: 0.174600\n",
      "Epoch  2, CIFAR-10 Batch 3:  Loss: 2.097183 Validation Accuracy: 0.172200\n",
      "Epoch  2, CIFAR-10 Batch 4:  Loss: 2.109839 Validation Accuracy: 0.174400\n",
      "Epoch  2, CIFAR-10 Batch 5:  Loss: 2.096331 Validation Accuracy: 0.195000\n",
      "Epoch  3, CIFAR-10 Batch 1:  Loss: 2.178274 Validation Accuracy: 0.197600\n",
      "Epoch  3, CIFAR-10 Batch 2:  Loss: 2.096446 Validation Accuracy: 0.205600\n",
      "Epoch  3, CIFAR-10 Batch 3:  Loss: 1.970310 Validation Accuracy: 0.215400\n",
      "Epoch  3, CIFAR-10 Batch 4:  Loss: 2.010071 Validation Accuracy: 0.204400\n",
      "Epoch  3, CIFAR-10 Batch 5:  Loss: 1.983671 Validation Accuracy: 0.208400\n",
      "Epoch  4, CIFAR-10 Batch 1:  Loss: 2.083940 Validation Accuracy: 0.211800\n",
      "Epoch  4, CIFAR-10 Batch 2:  Loss: 2.038592 Validation Accuracy: 0.217200\n",
      "Epoch  4, CIFAR-10 Batch 3:  Loss: 1.848213 Validation Accuracy: 0.229000\n",
      "Epoch  4, CIFAR-10 Batch 4:  Loss: 1.935509 Validation Accuracy: 0.213800\n",
      "Epoch  4, CIFAR-10 Batch 5:  Loss: 1.916159 Validation Accuracy: 0.222400\n",
      "Epoch  5, CIFAR-10 Batch 1:  Loss: 1.996674 Validation Accuracy: 0.222200\n",
      "Epoch  5, CIFAR-10 Batch 2:  Loss: 2.002628 Validation Accuracy: 0.224400\n",
      "Epoch  5, CIFAR-10 Batch 3:  Loss: 1.736632 Validation Accuracy: 0.236200\n",
      "Epoch  5, CIFAR-10 Batch 4:  Loss: 1.890340 Validation Accuracy: 0.225400\n",
      "Epoch  5, CIFAR-10 Batch 5:  Loss: 1.924687 Validation Accuracy: 0.225600\n",
      "Epoch  6, CIFAR-10 Batch 1:  Loss: 2.047647 Validation Accuracy: 0.225800\n",
      "Epoch  6, CIFAR-10 Batch 2:  Loss: 1.916474 Validation Accuracy: 0.234600\n",
      "Epoch  6, CIFAR-10 Batch 3:  Loss: 1.650451 Validation Accuracy: 0.235200\n",
      "Epoch  6, CIFAR-10 Batch 4:  Loss: 1.840364 Validation Accuracy: 0.235600\n",
      "Epoch  6, CIFAR-10 Batch 5:  Loss: 1.848430 Validation Accuracy: 0.233000\n",
      "Epoch  7, CIFAR-10 Batch 1:  Loss: 1.894581 Validation Accuracy: 0.239600\n",
      "Epoch  7, CIFAR-10 Batch 2:  Loss: 1.864209 Validation Accuracy: 0.237400\n",
      "Epoch  7, CIFAR-10 Batch 3:  Loss: 1.591997 Validation Accuracy: 0.238600\n",
      "Epoch  7, CIFAR-10 Batch 4:  Loss: 1.818570 Validation Accuracy: 0.249400\n",
      "Epoch  7, CIFAR-10 Batch 5:  Loss: 1.800704 Validation Accuracy: 0.236400\n",
      "Epoch  8, CIFAR-10 Batch 1:  Loss: 1.892670 Validation Accuracy: 0.251600\n",
      "Epoch  8, CIFAR-10 Batch 2:  Loss: 1.827075 Validation Accuracy: 0.248400\n",
      "Epoch  8, CIFAR-10 Batch 3:  Loss: 1.549642 Validation Accuracy: 0.247400\n",
      "Epoch  8, CIFAR-10 Batch 4:  Loss: 1.790148 Validation Accuracy: 0.257400\n",
      "Epoch  8, CIFAR-10 Batch 5:  Loss: 1.768559 Validation Accuracy: 0.250200\n",
      "Epoch  9, CIFAR-10 Batch 1:  Loss: 1.941839 Validation Accuracy: 0.258200\n",
      "Epoch  9, CIFAR-10 Batch 2:  Loss: 1.732192 Validation Accuracy: 0.254400\n",
      "Epoch  9, CIFAR-10 Batch 3:  Loss: 1.553534 Validation Accuracy: 0.254400\n",
      "Epoch  9, CIFAR-10 Batch 4:  Loss: 1.741244 Validation Accuracy: 0.262600\n",
      "Epoch  9, CIFAR-10 Batch 5:  Loss: 1.793191 Validation Accuracy: 0.268200\n",
      "Epoch 10, CIFAR-10 Batch 1:  Loss: 1.881304 Validation Accuracy: 0.273200\n",
      "Epoch 10, CIFAR-10 Batch 2:  Loss: 1.691886 Validation Accuracy: 0.267000\n",
      "Epoch 10, CIFAR-10 Batch 3:  Loss: 1.506491 Validation Accuracy: 0.270800\n",
      "Epoch 10, CIFAR-10 Batch 4:  Loss: 1.716854 Validation Accuracy: 0.271000\n",
      "Epoch 10, CIFAR-10 Batch 5:  Loss: 1.767355 Validation Accuracy: 0.271000\n",
      "Epoch 11, CIFAR-10 Batch 1:  Loss: 1.861531 Validation Accuracy: 0.292800\n",
      "Epoch 11, CIFAR-10 Batch 2:  Loss: 1.648805 Validation Accuracy: 0.277800\n",
      "Epoch 11, CIFAR-10 Batch 3:  Loss: 1.473568 Validation Accuracy: 0.279800\n",
      "Epoch 11, CIFAR-10 Batch 4:  Loss: 1.699750 Validation Accuracy: 0.289000\n",
      "Epoch 11, CIFAR-10 Batch 5:  Loss: 1.743225 Validation Accuracy: 0.294400\n",
      "Epoch 12, CIFAR-10 Batch 1:  Loss: 1.822385 Validation Accuracy: 0.311600\n",
      "Epoch 12, CIFAR-10 Batch 2:  Loss: 1.679049 Validation Accuracy: 0.311000\n",
      "Epoch 12, CIFAR-10 Batch 3:  Loss: 1.441219 Validation Accuracy: 0.294600\n",
      "Epoch 12, CIFAR-10 Batch 4:  Loss: 1.683721 Validation Accuracy: 0.313200\n",
      "Epoch 12, CIFAR-10 Batch 5:  Loss: 1.730432 Validation Accuracy: 0.320400\n",
      "Epoch 13, CIFAR-10 Batch 1:  Loss: 1.810038 Validation Accuracy: 0.336400\n",
      "Epoch 13, CIFAR-10 Batch 2:  Loss: 1.587752 Validation Accuracy: 0.319800\n",
      "Epoch 13, CIFAR-10 Batch 3:  Loss: 1.414507 Validation Accuracy: 0.314800\n",
      "Epoch 13, CIFAR-10 Batch 4:  Loss: 1.647399 Validation Accuracy: 0.340600\n",
      "Epoch 13, CIFAR-10 Batch 5:  Loss: 1.707932 Validation Accuracy: 0.346400\n",
      "Epoch 14, CIFAR-10 Batch 1:  Loss: 1.762886 Validation Accuracy: 0.353200\n",
      "Epoch 14, CIFAR-10 Batch 2:  Loss: 1.561679 Validation Accuracy: 0.354600\n",
      "Epoch 14, CIFAR-10 Batch 3:  Loss: 1.368434 Validation Accuracy: 0.350400\n",
      "Epoch 14, CIFAR-10 Batch 4:  Loss: 1.597333 Validation Accuracy: 0.360400\n",
      "Epoch 14, CIFAR-10 Batch 5:  Loss: 1.656969 Validation Accuracy: 0.371200\n",
      "Epoch 15, CIFAR-10 Batch 1:  Loss: 1.746235 Validation Accuracy: 0.373200\n",
      "Epoch 15, CIFAR-10 Batch 2:  Loss: 1.561864 Validation Accuracy: 0.377600\n",
      "Epoch 15, CIFAR-10 Batch 3:  Loss: 1.333485 Validation Accuracy: 0.369000\n",
      "Epoch 15, CIFAR-10 Batch 4:  Loss: 1.557059 Validation Accuracy: 0.380200\n",
      "Epoch 15, CIFAR-10 Batch 5:  Loss: 1.627628 Validation Accuracy: 0.394400\n",
      "Epoch 16, CIFAR-10 Batch 1:  Loss: 1.624343 Validation Accuracy: 0.399400\n",
      "Epoch 16, CIFAR-10 Batch 2:  Loss: 1.557448 Validation Accuracy: 0.398400\n",
      "Epoch 16, CIFAR-10 Batch 3:  Loss: 1.287884 Validation Accuracy: 0.393800\n",
      "Epoch 16, CIFAR-10 Batch 4:  Loss: 1.526221 Validation Accuracy: 0.383600\n",
      "Epoch 16, CIFAR-10 Batch 5:  Loss: 1.527483 Validation Accuracy: 0.410000\n",
      "Epoch 17, CIFAR-10 Batch 1:  Loss: 1.566953 Validation Accuracy: 0.416000\n",
      "Epoch 17, CIFAR-10 Batch 2:  Loss: 1.511993 Validation Accuracy: 0.430400\n",
      "Epoch 17, CIFAR-10 Batch 3:  Loss: 1.233228 Validation Accuracy: 0.429000\n",
      "Epoch 17, CIFAR-10 Batch 4:  Loss: 1.432087 Validation Accuracy: 0.413600\n",
      "Epoch 17, CIFAR-10 Batch 5:  Loss: 1.483220 Validation Accuracy: 0.421800\n",
      "Epoch 18, CIFAR-10 Batch 1:  Loss: 1.522610 Validation Accuracy: 0.439600\n",
      "Epoch 18, CIFAR-10 Batch 2:  Loss: 1.430834 Validation Accuracy: 0.422000\n",
      "Epoch 18, CIFAR-10 Batch 3:  Loss: 1.191457 Validation Accuracy: 0.437600\n",
      "Epoch 18, CIFAR-10 Batch 4:  Loss: 1.408213 Validation Accuracy: 0.411400\n",
      "Epoch 18, CIFAR-10 Batch 5:  Loss: 1.422754 Validation Accuracy: 0.430200\n",
      "Epoch 19, CIFAR-10 Batch 1:  Loss: 1.482448 Validation Accuracy: 0.450600\n",
      "Epoch 19, CIFAR-10 Batch 2:  Loss: 1.395048 Validation Accuracy: 0.439200\n",
      "Epoch 19, CIFAR-10 Batch 3:  Loss: 1.142406 Validation Accuracy: 0.448200\n",
      "Epoch 19, CIFAR-10 Batch 4:  Loss: 1.360599 Validation Accuracy: 0.435200\n",
      "Epoch 19, CIFAR-10 Batch 5:  Loss: 1.337332 Validation Accuracy: 0.442800\n",
      "Epoch 20, CIFAR-10 Batch 1:  Loss: 1.444378 Validation Accuracy: 0.462200\n",
      "Epoch 20, CIFAR-10 Batch 2:  Loss: 1.337196 Validation Accuracy: 0.451200\n",
      "Epoch 20, CIFAR-10 Batch 3:  Loss: 1.088589 Validation Accuracy: 0.448200\n",
      "Epoch 20, CIFAR-10 Batch 4:  Loss: 1.296043 Validation Accuracy: 0.443000\n",
      "Epoch 20, CIFAR-10 Batch 5:  Loss: 1.267705 Validation Accuracy: 0.456800\n",
      "Epoch 21, CIFAR-10 Batch 1:  Loss: 1.404457 Validation Accuracy: 0.468200\n",
      "Epoch 21, CIFAR-10 Batch 2:  Loss: 1.283759 Validation Accuracy: 0.461000\n",
      "Epoch 21, CIFAR-10 Batch 3:  Loss: 1.092397 Validation Accuracy: 0.467400\n",
      "Epoch 21, CIFAR-10 Batch 4:  Loss: 1.293653 Validation Accuracy: 0.449400\n",
      "Epoch 21, CIFAR-10 Batch 5:  Loss: 1.204574 Validation Accuracy: 0.463000\n",
      "Epoch 22, CIFAR-10 Batch 1:  Loss: 1.345197 Validation Accuracy: 0.482200\n",
      "Epoch 22, CIFAR-10 Batch 2:  Loss: 1.210518 Validation Accuracy: 0.455600\n",
      "Epoch 22, CIFAR-10 Batch 3:  Loss: 1.083683 Validation Accuracy: 0.467600\n",
      "Epoch 22, CIFAR-10 Batch 4:  Loss: 1.310274 Validation Accuracy: 0.461400\n",
      "Epoch 22, CIFAR-10 Batch 5:  Loss: 1.198646 Validation Accuracy: 0.459400\n",
      "Epoch 23, CIFAR-10 Batch 1:  Loss: 1.317124 Validation Accuracy: 0.475000\n",
      "Epoch 23, CIFAR-10 Batch 2:  Loss: 1.193994 Validation Accuracy: 0.464200\n",
      "Epoch 23, CIFAR-10 Batch 3:  Loss: 0.996587 Validation Accuracy: 0.470800\n",
      "Epoch 23, CIFAR-10 Batch 4:  Loss: 1.313149 Validation Accuracy: 0.475200\n",
      "Epoch 23, CIFAR-10 Batch 5:  Loss: 1.184775 Validation Accuracy: 0.464600\n",
      "Epoch 24, CIFAR-10 Batch 1:  Loss: 1.279358 Validation Accuracy: 0.478000\n",
      "Epoch 24, CIFAR-10 Batch 2:  Loss: 1.182983 Validation Accuracy: 0.467400\n",
      "Epoch 24, CIFAR-10 Batch 3:  Loss: 1.073075 Validation Accuracy: 0.470800\n",
      "Epoch 24, CIFAR-10 Batch 4:  Loss: 1.267917 Validation Accuracy: 0.479800\n",
      "Epoch 24, CIFAR-10 Batch 5:  Loss: 1.136100 Validation Accuracy: 0.474800\n",
      "Epoch 25, CIFAR-10 Batch 1:  Loss: 1.232347 Validation Accuracy: 0.486600\n",
      "Epoch 25, CIFAR-10 Batch 2:  Loss: 1.108288 Validation Accuracy: 0.481200\n",
      "Epoch 25, CIFAR-10 Batch 3:  Loss: 1.044236 Validation Accuracy: 0.477600\n",
      "Epoch 25, CIFAR-10 Batch 4:  Loss: 1.219304 Validation Accuracy: 0.485800\n",
      "Epoch 25, CIFAR-10 Batch 5:  Loss: 1.089300 Validation Accuracy: 0.486400\n",
      "Epoch 26, CIFAR-10 Batch 1:  Loss: 1.202407 Validation Accuracy: 0.487200\n",
      "Epoch 26, CIFAR-10 Batch 2:  Loss: 1.109909 Validation Accuracy: 0.484400\n",
      "Epoch 26, CIFAR-10 Batch 3:  Loss: 0.952689 Validation Accuracy: 0.487200\n",
      "Epoch 26, CIFAR-10 Batch 4:  Loss: 1.150146 Validation Accuracy: 0.487800\n",
      "Epoch 26, CIFAR-10 Batch 5:  Loss: 1.050915 Validation Accuracy: 0.485200\n",
      "Epoch 27, CIFAR-10 Batch 1:  Loss: 1.182523 Validation Accuracy: 0.500000\n",
      "Epoch 27, CIFAR-10 Batch 2:  Loss: 1.048603 Validation Accuracy: 0.494400\n",
      "Epoch 27, CIFAR-10 Batch 3:  Loss: 0.959833 Validation Accuracy: 0.489400\n",
      "Epoch 27, CIFAR-10 Batch 4:  Loss: 1.107274 Validation Accuracy: 0.493600\n",
      "Epoch 27, CIFAR-10 Batch 5:  Loss: 1.009962 Validation Accuracy: 0.493200\n",
      "Epoch 28, CIFAR-10 Batch 1:  Loss: 1.174107 Validation Accuracy: 0.506400\n",
      "Epoch 28, CIFAR-10 Batch 2:  Loss: 1.022988 Validation Accuracy: 0.492400\n",
      "Epoch 28, CIFAR-10 Batch 3:  Loss: 0.993422 Validation Accuracy: 0.488600\n",
      "Epoch 28, CIFAR-10 Batch 4:  Loss: 1.067693 Validation Accuracy: 0.498200\n",
      "Epoch 28, CIFAR-10 Batch 5:  Loss: 0.997372 Validation Accuracy: 0.491800\n",
      "Epoch 29, CIFAR-10 Batch 1:  Loss: 1.102477 Validation Accuracy: 0.510800\n",
      "Epoch 29, CIFAR-10 Batch 2:  Loss: 0.945521 Validation Accuracy: 0.506600\n",
      "Epoch 29, CIFAR-10 Batch 3:  Loss: 0.976410 Validation Accuracy: 0.495600\n",
      "Epoch 29, CIFAR-10 Batch 4:  Loss: 1.072027 Validation Accuracy: 0.506600\n",
      "Epoch 29, CIFAR-10 Batch 5:  Loss: 0.933995 Validation Accuracy: 0.504400\n",
      "Epoch 30, CIFAR-10 Batch 1:  Loss: 1.122566 Validation Accuracy: 0.515000\n",
      "Epoch 30, CIFAR-10 Batch 2:  Loss: 0.952933 Validation Accuracy: 0.515200\n",
      "Epoch 30, CIFAR-10 Batch 3:  Loss: 0.930873 Validation Accuracy: 0.502800\n",
      "Epoch 30, CIFAR-10 Batch 4:  Loss: 1.037767 Validation Accuracy: 0.506800\n",
      "Epoch 30, CIFAR-10 Batch 5:  Loss: 0.955984 Validation Accuracy: 0.506400\n",
      "Epoch 31, CIFAR-10 Batch 1:  Loss: 1.063277 Validation Accuracy: 0.512800\n",
      "Epoch 31, CIFAR-10 Batch 2:  Loss: 0.924290 Validation Accuracy: 0.511200\n",
      "Epoch 31, CIFAR-10 Batch 3:  Loss: 0.918163 Validation Accuracy: 0.503400\n",
      "Epoch 31, CIFAR-10 Batch 4:  Loss: 1.017342 Validation Accuracy: 0.505600\n",
      "Epoch 31, CIFAR-10 Batch 5:  Loss: 0.947772 Validation Accuracy: 0.512600\n",
      "Epoch 32, CIFAR-10 Batch 1:  Loss: 1.046844 Validation Accuracy: 0.520600\n",
      "Epoch 32, CIFAR-10 Batch 2:  Loss: 0.904219 Validation Accuracy: 0.514400\n",
      "Epoch 32, CIFAR-10 Batch 3:  Loss: 0.882154 Validation Accuracy: 0.499600\n",
      "Epoch 32, CIFAR-10 Batch 4:  Loss: 0.971374 Validation Accuracy: 0.519200\n",
      "Epoch 32, CIFAR-10 Batch 5:  Loss: 0.888499 Validation Accuracy: 0.517400\n",
      "Epoch 33, CIFAR-10 Batch 1:  Loss: 1.023889 Validation Accuracy: 0.523800\n",
      "Epoch 33, CIFAR-10 Batch 2:  Loss: 0.908760 Validation Accuracy: 0.521800\n",
      "Epoch 33, CIFAR-10 Batch 3:  Loss: 0.876336 Validation Accuracy: 0.505400\n",
      "Epoch 33, CIFAR-10 Batch 4:  Loss: 0.983097 Validation Accuracy: 0.522200\n",
      "Epoch 33, CIFAR-10 Batch 5:  Loss: 0.876620 Validation Accuracy: 0.521400\n",
      "Epoch 34, CIFAR-10 Batch 1:  Loss: 1.025431 Validation Accuracy: 0.519800\n",
      "Epoch 34, CIFAR-10 Batch 2:  Loss: 0.888789 Validation Accuracy: 0.526200\n",
      "Epoch 34, CIFAR-10 Batch 3:  Loss: 0.857954 Validation Accuracy: 0.513000\n",
      "Epoch 34, CIFAR-10 Batch 4:  Loss: 0.981012 Validation Accuracy: 0.527200\n",
      "Epoch 34, CIFAR-10 Batch 5:  Loss: 0.863736 Validation Accuracy: 0.515000\n",
      "Epoch 35, CIFAR-10 Batch 1:  Loss: 0.986247 Validation Accuracy: 0.523000\n",
      "Epoch 35, CIFAR-10 Batch 2:  Loss: 0.872524 Validation Accuracy: 0.531400\n",
      "Epoch 35, CIFAR-10 Batch 3:  Loss: 0.857501 Validation Accuracy: 0.521400\n",
      "Epoch 35, CIFAR-10 Batch 4:  Loss: 0.942936 Validation Accuracy: 0.532400\n",
      "Epoch 35, CIFAR-10 Batch 5:  Loss: 0.857117 Validation Accuracy: 0.520200\n",
      "Epoch 36, CIFAR-10 Batch 1:  Loss: 0.950263 Validation Accuracy: 0.531800\n",
      "Epoch 36, CIFAR-10 Batch 2:  Loss: 0.878501 Validation Accuracy: 0.535800\n",
      "Epoch 36, CIFAR-10 Batch 3:  Loss: 0.874334 Validation Accuracy: 0.521000\n",
      "Epoch 36, CIFAR-10 Batch 4:  Loss: 0.954174 Validation Accuracy: 0.533200\n",
      "Epoch 36, CIFAR-10 Batch 5:  Loss: 0.823689 Validation Accuracy: 0.526000\n",
      "Epoch 37, CIFAR-10 Batch 1:  Loss: 0.964457 Validation Accuracy: 0.519200\n",
      "Epoch 37, CIFAR-10 Batch 2:  Loss: 0.858334 Validation Accuracy: 0.534600\n",
      "Epoch 37, CIFAR-10 Batch 3:  Loss: 0.867007 Validation Accuracy: 0.517200\n",
      "Epoch 37, CIFAR-10 Batch 4:  Loss: 0.913187 Validation Accuracy: 0.537800\n",
      "Epoch 37, CIFAR-10 Batch 5:  Loss: 0.837703 Validation Accuracy: 0.525200\n",
      "Epoch 38, CIFAR-10 Batch 1:  Loss: 0.885838 Validation Accuracy: 0.531000\n",
      "Epoch 38, CIFAR-10 Batch 2:  Loss: 0.859978 Validation Accuracy: 0.542400\n",
      "Epoch 38, CIFAR-10 Batch 3:  Loss: 0.866292 Validation Accuracy: 0.523800\n",
      "Epoch 38, CIFAR-10 Batch 4:  Loss: 0.895751 Validation Accuracy: 0.536000\n",
      "Epoch 38, CIFAR-10 Batch 5:  Loss: 0.796591 Validation Accuracy: 0.527200\n",
      "Epoch 39, CIFAR-10 Batch 1:  Loss: 0.849261 Validation Accuracy: 0.525800\n",
      "Epoch 39, CIFAR-10 Batch 2:  Loss: 0.825946 Validation Accuracy: 0.534400\n",
      "Epoch 39, CIFAR-10 Batch 3:  Loss: 0.870488 Validation Accuracy: 0.525200\n",
      "Epoch 39, CIFAR-10 Batch 4:  Loss: 0.903179 Validation Accuracy: 0.534400\n",
      "Epoch 39, CIFAR-10 Batch 5:  Loss: 0.802746 Validation Accuracy: 0.533200\n",
      "Epoch 40, CIFAR-10 Batch 1:  Loss: 0.830974 Validation Accuracy: 0.534000\n",
      "Epoch 40, CIFAR-10 Batch 2:  Loss: 0.835810 Validation Accuracy: 0.536400\n",
      "Epoch 40, CIFAR-10 Batch 3:  Loss: 0.854117 Validation Accuracy: 0.526600\n",
      "Epoch 40, CIFAR-10 Batch 4:  Loss: 0.875481 Validation Accuracy: 0.535800\n",
      "Epoch 40, CIFAR-10 Batch 5:  Loss: 0.792684 Validation Accuracy: 0.534000\n"
     ]
    }
   ],
   "source": [
    "\"\"\"\n",
    "DON'T MODIFY ANYTHING IN THIS CELL\n",
    "\"\"\"\n",
    "save_model_path = './image_classification'\n",
    "\n",
    "print('Training...')\n",
    "with tf.Session() as sess:\n",
    "    # Initializing the variables\n",
    "    sess.run(tf.global_variables_initializer())\n",
    "    \n",
    "    # Training cycle\n",
    "    for epoch in range(epochs):\n",
    "        # Loop over all batches\n",
    "        n_batches = 5\n",
    "        for batch_i in range(1, n_batches + 1):\n",
    "            for batch_features, batch_labels in helper.load_preprocess_training_batch(batch_i, batch_size):\n",
    "                train_neural_network(sess, optimizer, keep_probability, batch_features, batch_labels)\n",
    "            print('Epoch {:>2}, CIFAR-10 Batch {}:  '.format(epoch + 1, batch_i), end='')\n",
    "            print_stats(sess, batch_features, batch_labels, cost, accuracy)\n",
    "            \n",
    "    # Save Model\n",
    "    saver = tf.train.Saver()\n",
    "    save_path = saver.save(sess, save_model_path)"
   ]
  },
  {
   "cell_type": "markdown",
   "metadata": {
    "deletable": true,
    "editable": true
   },
   "source": [
    "# Checkpoint\n",
    "The model has been saved to disk.\n",
    "## Test Model\n",
    "Test your model against the test dataset.  This will be your final accuracy. You should have an accuracy greater than 50%. If you don't, keep tweaking the model architecture and parameters."
   ]
  },
  {
   "cell_type": "code",
   "execution_count": 118,
   "metadata": {
    "collapsed": false,
    "deletable": true,
    "editable": true
   },
   "outputs": [
    {
     "name": "stdout",
     "output_type": "stream",
     "text": [
      "Testing Accuracy: 0.53662109375\n",
      "\n"
     ]
    },
    {
     "data": {
      "image/png": "[encoded data removed]",
      "text/plain": [
       "<matplotlib.figure.Figure at 0x7fa575772fd0>"
      ]
     },
     "metadata": {
      "image/png": {
       "height": 319,
       "width": 355
      }
     },
     "output_type": "display_data"
    }
   ],
   "source": [
    "\"\"\"\n",
    "DON'T MODIFY ANYTHING IN THIS CELL\n",
    "\"\"\"\n",
    "%matplotlib inline\n",
    "%config InlineBackend.figure_format = 'retina'\n",
    "\n",
    "import tensorflow as tf\n",
    "import pickle\n",
    "import helper\n",
    "import random\n",
    "\n",
    "# Set batch size if not already set\n",
    "try:\n",
    "    if batch_size:\n",
    "        pass\n",
    "except NameError:\n",
    "    batch_size = 64\n",
    "\n",
    "save_model_path = './image_classification'\n",
    "n_samples = 4\n",
    "top_n_predictions = 3\n",
    "\n",
    "def test_model():\n",
    "    \"\"\"\n",
    "    Test the saved model against the test dataset\n",
    "    \"\"\"\n",
    "\n",
    "    test_features, test_labels = pickle.load(open('preprocess_test.p', mode='rb'))\n",
    "    loaded_graph = tf.Graph()\n",
    "\n",
    "    with tf.Session(graph=loaded_graph) as sess:\n",
    "        # Load model\n",
    "        loader = tf.train.import_meta_graph(save_model_path + '.meta')\n",
    "        loader.restore(sess, save_model_path)\n",
    "\n",
    "        # Get Tensors from loaded model\n",
    "        loaded_x = loaded_graph.get_tensor_by_name('x:0')\n",
    "        loaded_y = loaded_graph.get_tensor_by_name('y:0')\n",
    "        loaded_keep_prob = loaded_graph.get_tensor_by_name('keep_prob:0')\n",
    "        loaded_logits = loaded_graph.get_tensor_by_name('logits:0')\n",
    "        loaded_acc = loaded_graph.get_tensor_by_name('accuracy:0')\n",
    "        \n",
    "        # Get accuracy in batches for memory limitations\n",
    "        test_batch_acc_total = 0\n",
    "        test_batch_count = 0\n",
    "        \n",
    "        for test_feature_batch, test_label_batch in helper.batch_features_labels(test_features, test_labels, batch_size):\n",
    "            test_batch_acc_total += sess.run(\n",
    "                loaded_acc,\n",
    "                feed_dict={loaded_x: test_feature_batch, loaded_y: test_label_batch, loaded_keep_prob: 1.0})\n",
    "            test_batch_count += 1\n",
    "\n",
    "        print('Testing Accuracy: {}\\n'.format(test_batch_acc_total/test_batch_count))\n",
    "\n",
    "        # Print Random Samples\n",
    "        random_test_features, random_test_labels = tuple(zip(*random.sample(list(zip(test_features, test_labels)), n_samples)))\n",
    "        random_test_predictions = sess.run(\n",
    "            tf.nn.top_k(tf.nn.softmax(loaded_logits), top_n_predictions),\n",
    "            feed_dict={loaded_x: random_test_features, loaded_y: random_test_labels, loaded_keep_prob: 1.0})\n",
    "        helper.display_image_predictions(random_test_features, random_test_labels, random_test_predictions)\n",
    "\n",
    "\n",
    "test_model()"
   ]
  },
  {
   "cell_type": "markdown",
   "metadata": {
    "deletable": true,
    "editable": true
   },
   "source": [
    "## Why 50-80% Accuracy?\n",
    "You might be wondering why you can't get an accuracy any higher. First things first, 50% isn't bad for a simple CNN.  Pure guessing would get you 10% accuracy. However, you might notice people are getting scores [well above 80%](http://rodrigob.github.io/are_we_there_yet/build/classification_datasets_results.html#43494641522d3130).  That's because we haven't taught you all there is to know about neural networks. We still need to cover a few more techniques.\n",
    "## Submitting This Project\n",
    "When submitting this project, make sure to run all the cells before saving the notebook.  Save the notebook file as \"dlnd_image_classification.ipynb\" and save it as a HTML file under \"File\" -> \"Download as\".  Include the \"helper.py\" and \"problem_unittests.py\" files in your submission."
   ]
  }
 ],
 "metadata": {
  "celltoolbar": "Raw Cell Format",
  "kernelspec": {
   "display_name": "Python 3",
   "language": "python",
   "name": "python3"
  },
  "language_info": {
   "codemirror_mode": {
    "name": "ipython",
    "version": 3
   },
   "file_extension": ".py",
   "mimetype": "text/x-python",
   "name": "python",
   "nbconvert_exporter": "python",
   "pygments_lexer": "ipython3",
   "version": "3.5.2"
  },
  "widgets": {
   "state": {},
   "version": "1.1.2"
  }
 },
 "nbformat": 4,
 "nbformat_minor": 1
}
