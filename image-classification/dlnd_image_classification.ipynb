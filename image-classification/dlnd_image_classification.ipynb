{
 "cells": [
  {
   "cell_type": "markdown",
   "metadata": {
    "collapsed": true,
    "deletable": true,
    "editable": true
   },
   "source": [
    "# Image Classification\n",
    "In this project, you'll classify images from the [CIFAR-10 dataset](https://www.cs.toronto.edu/~kriz/cifar.html).  The dataset consists of airplanes, dogs, cats, and other objects. You'll preprocess the images, then train a convolutional neural network on all the samples. The images need to be normalized and the labels need to be one-hot encoded.  You'll get to apply what you learned and build a convolutional, max pooling, dropout, and fully connected layers.  At the end, you'll get to see your neural network's predictions on the sample images.\n",
    "## Get the Data\n",
    "Run the following cell to download the [CIFAR-10 dataset for python](https://www.cs.toronto.edu/~kriz/cifar-10-python.tar.gz)."
   ]
  },
  {
   "cell_type": "code",
   "execution_count": 1,
   "metadata": {
    "collapsed": false,
    "deletable": true,
    "editable": true
   },
   "outputs": [
    {
     "name": "stdout",
     "output_type": "stream",
     "text": [
      "All files found!\n"
     ]
    }
   ],
   "source": [
    "\"\"\"\n",
    "DON'T MODIFY ANYTHING IN THIS CELL THAT IS BELOW THIS LINE\n",
    "\"\"\"\n",
    "from urllib.request import urlretrieve\n",
    "from os.path import isfile, isdir\n",
    "from tqdm import tqdm\n",
    "import problem_unittests as tests\n",
    "import tarfile\n",
    "\n",
    "cifar10_dataset_folder_path = 'cifar-10-batches-py'\n",
    "\n",
    "# Use Floyd's cifar-10 dataset if present\n",
    "floyd_cifar10_location = '/input/cifar-10/python.tar.gz'\n",
    "if isfile(floyd_cifar10_location):\n",
    "    tar_gz_path = floyd_cifar10_location\n",
    "else:\n",
    "    tar_gz_path = 'cifar-10-python.tar.gz'\n",
    "\n",
    "class DLProgress(tqdm):\n",
    "    last_block = 0\n",
    "\n",
    "    def hook(self, block_num=1, block_size=1, total_size=None):\n",
    "        self.total = total_size\n",
    "        self.update((block_num - self.last_block) * block_size)\n",
    "        self.last_block = block_num\n",
    "\n",
    "if not isfile(tar_gz_path):\n",
    "    with DLProgress(unit='B', unit_scale=True, miniters=1, desc='CIFAR-10 Dataset') as pbar:\n",
    "        urlretrieve(\n",
    "            'https://www.cs.toronto.edu/~kriz/cifar-10-python.tar.gz',\n",
    "            tar_gz_path,\n",
    "            pbar.hook)\n",
    "\n",
    "if not isdir(cifar10_dataset_folder_path):\n",
    "    with tarfile.open(tar_gz_path) as tar:\n",
    "        tar.extractall()\n",
    "        tar.close()\n",
    "\n",
    "\n",
    "tests.test_folder_path(cifar10_dataset_folder_path)"
   ]
  },
  {
   "cell_type": "markdown",
   "metadata": {
    "deletable": true,
    "editable": true
   },
   "source": [
    "## Explore the Data\n",
    "The dataset is broken into batches to prevent your machine from running out of memory.  The CIFAR-10 dataset consists of 5 batches, named `data_batch_1`, `data_batch_2`, etc.. Each batch contains the labels and images that are one of the following:\n",
    "* airplane\n",
    "* automobile\n",
    "* bird\n",
    "* cat\n",
    "* deer\n",
    "* dog\n",
    "* frog\n",
    "* horse\n",
    "* ship\n",
    "* truck\n",
    "\n",
    "Understanding a dataset is part of making predictions on the data.  Play around with the code cell below by changing the `batch_id` and `sample_id`. The `batch_id` is the id for a batch (1-5). The `sample_id` is the id for a image and label pair in the batch.\n",
    "\n",
    "Ask yourself \"What are all possible labels?\", \"What is the range of values for the image data?\", \"Are the labels in order or random?\".  Answers to questions like these will help you preprocess the data and end up with better predictions."
   ]
  },
  {
   "cell_type": "code",
   "execution_count": 2,
   "metadata": {
    "collapsed": false,
    "deletable": true,
    "editable": true
   },
   "outputs": [
    {
     "name": "stdout",
     "output_type": "stream",
     "text": [
      "\n",
      "Stats of batch 5:\n",
      "Samples: 10000\n",
      "Label Counts: {0: 1014, 1: 1014, 2: 952, 3: 1016, 4: 997, 5: 1025, 6: 980, 7: 977, 8: 1003, 9: 1022}\n",
      "First 20 Labels: [1, 8, 5, 1, 5, 7, 4, 3, 8, 2, 7, 2, 0, 1, 5, 9, 6, 2, 0, 8]\n",
      "\n",
      "Example of Image 10:\n",
      "Image - Min Value: 16 Max Value: 227\n",
      "Image - Shape: (32, 32, 3)\n",
      "Label - Label Id: 7 Name: horse\n"
     ]
    },
    {
     "data": {
      "image/png": "[encoded data removed]",
      "text/plain": [
       "<matplotlib.figure.Figure at 0x7f9a94613208>"
      ]
     },
     "metadata": {
      "image/png": {
       "height": 250,
       "width": 253
      }
     },
     "output_type": "display_data"
    }
   ],
   "source": [
    "%matplotlib inline\n",
    "%config InlineBackend.figure_format = 'retina'\n",
    "\n",
    "import helper\n",
    "import numpy as np\n",
    "\n",
    "# Explore the dataset\n",
    "batch_id = 5\n",
    "sample_id = 10\n",
    "helper.display_stats(cifar10_dataset_folder_path, batch_id, sample_id)"
   ]
  },
  {
   "cell_type": "markdown",
   "metadata": {
    "deletable": true,
    "editable": true
   },
   "source": [
    "## Implement Preprocess Functions\n",
    "### Normalize\n",
    "In the cell below, implement the `normalize` function to take in image data, `x`, and return it as a normalized Numpy array. The values should be in the range of 0 to 1, inclusive.  The return object should be the same shape as `x`."
   ]
  },
  {
   "cell_type": "code",
   "execution_count": 3,
   "metadata": {
    "collapsed": false,
    "deletable": true,
    "editable": true
   },
   "outputs": [
    {
     "name": "stdout",
     "output_type": "stream",
     "text": [
      "Tests Passed\n"
     ]
    }
   ],
   "source": [
    "def normalize(x):\n",
    "    \"\"\"\n",
    "    Normalize a list of sample image data in the range of 0 to 1\n",
    "    : x: List of image data.  The image shape is (32, 32, 3)\n",
    "    : return: Numpy array of normalize data\n",
    "    \"\"\"\n",
    "    return (x - x.min())/(x.max() - x.min())\n",
    "\n",
    "\n",
    "\"\"\"\n",
    "DON'T MODIFY ANYTHING IN THIS CELL THAT IS BELOW THIS LINE\n",
    "\"\"\"\n",
    "tests.test_normalize(normalize)"
   ]
  },
  {
   "cell_type": "markdown",
   "metadata": {
    "deletable": true,
    "editable": true
   },
   "source": [
    "### One-hot encode\n",
    "Just like the previous code cell, you'll be implementing a function for preprocessing.  This time, you'll implement the `one_hot_encode` function. The input, `x`, are a list of labels.  Implement the function to return the list of labels as One-Hot encoded Numpy array.  The possible values for labels are 0 to 9. The one-hot encoding function should return the same encoding for each value between each call to `one_hot_encode`.  Make sure to save the map of encodings outside the function.\n",
    "\n",
    "Hint: Don't reinvent the wheel."
   ]
  },
  {
   "cell_type": "code",
   "execution_count": 4,
   "metadata": {
    "collapsed": false,
    "deletable": true,
    "editable": true
   },
   "outputs": [
    {
     "name": "stdout",
     "output_type": "stream",
     "text": [
      "Tests Passed\n"
     ]
    }
   ],
   "source": [
    "label_to_idx = {\n",
    "     0 :'airplane',\n",
    "     1 :'automobile',\n",
    "     2 :'bird',\n",
    "     3 :'cat',\n",
    "     4 :'deer',\n",
    "     5 :'dog',\n",
    "     6 :'frog',\n",
    "     7 :'horse',\n",
    "     8 :'ship',\n",
    "     9 :'truck'\n",
    "}\n",
    "\n",
    "def one_hot_encode(x):\n",
    "    \"\"\"\n",
    "    One hot encode a list of sample labels. Return a one-hot encoded vector for each label.\n",
    "    : x: List of sample Labels\n",
    "    : return: Numpy array of one-hot encoded labels\n",
    "    \"\"\"\n",
    "    encodes = np.zeros((len(x), 10))\n",
    "    \n",
    "    for i, label in enumerate(x):\n",
    "        encodes[i][label] = 1.0\n",
    "        \n",
    "    return encodes\n",
    "\n",
    "\n",
    "\"\"\"\n",
    "DON'T MODIFY ANYTHING IN THIS CELL THAT IS BELOW THIS LINE\n",
    "\"\"\"\n",
    "tests.test_one_hot_encode(one_hot_encode)"
   ]
  },
  {
   "cell_type": "markdown",
   "metadata": {
    "deletable": true,
    "editable": true
   },
   "source": [
    "### Randomize Data\n",
    "As you saw from exploring the data above, the order of the samples are randomized.  It doesn't hurt to randomize it again, but you don't need to for this dataset."
   ]
  },
  {
   "cell_type": "markdown",
   "metadata": {
    "deletable": true,
    "editable": true
   },
   "source": [
    "## Preprocess all the data and save it\n",
    "Running the code cell below will preprocess all the CIFAR-10 data and save it to file. The code below also uses 10% of the training data for validation."
   ]
  },
  {
   "cell_type": "code",
   "execution_count": 5,
   "metadata": {
    "collapsed": true,
    "deletable": true,
    "editable": true
   },
   "outputs": [],
   "source": [
    "\"\"\"\n",
    "DON'T MODIFY ANYTHING IN THIS CELL\n",
    "\"\"\"\n",
    "# Preprocess Training, Validation, and Testing Data\n",
    "helper.preprocess_and_save_data(cifar10_dataset_folder_path, normalize, one_hot_encode)"
   ]
  },
  {
   "cell_type": "markdown",
   "metadata": {
    "deletable": true,
    "editable": true
   },
   "source": [
    "# Check Point\n",
    "This is your first checkpoint.  If you ever decide to come back to this notebook or have to restart the notebook, you can start from here.  The preprocessed data has been saved to disk."
   ]
  },
  {
   "cell_type": "code",
   "execution_count": 6,
   "metadata": {
    "collapsed": true,
    "deletable": true,
    "editable": true
   },
   "outputs": [],
   "source": [
    "\"\"\"\n",
    "DON'T MODIFY ANYTHING IN THIS CELL\n",
    "\"\"\"\n",
    "import pickle\n",
    "import problem_unittests as tests\n",
    "import helper\n",
    "\n",
    "# Load the Preprocessed Validation data\n",
    "valid_features, valid_labels = pickle.load(open('preprocess_validation.p', mode='rb'))"
   ]
  },
  {
   "cell_type": "markdown",
   "metadata": {
    "deletable": true,
    "editable": true
   },
   "source": [
    "## Build the network\n",
    "For the neural network, you'll build each layer into a function.  Most of the code you've seen has been outside of functions. To test your code more thoroughly, we require that you put each layer in a function.  This allows us to give you better feedback and test for simple mistakes using our unittests before you submit your project.\n",
    "\n",
    ">**Note:** If you're finding it hard to dedicate enough time for this course each week, we've provided a small shortcut to this part of the project. In the next couple of problems, you'll have the option to use classes from the [TensorFlow Layers](https://www.tensorflow.org/api_docs/python/tf/layers) or [TensorFlow Layers (contrib)](https://www.tensorflow.org/api_guides/python/contrib.layers) packages to build each layer, except the layers you build in the \"Convolutional and Max Pooling Layer\" section.  TF Layers is similar to Keras's and TFLearn's abstraction to layers, so it's easy to pickup.\n",
    "\n",
    ">However, if you would like to get the most out of this course, try to solve all the problems _without_ using anything from the TF Layers packages. You **can** still use classes from other packages that happen to have the same name as ones you find in TF Layers! For example, instead of using the TF Layers version of the `conv2d` class, [tf.layers.conv2d](https://www.tensorflow.org/api_docs/python/tf/layers/conv2d), you would want to use the TF Neural Network version of `conv2d`, [tf.nn.conv2d](https://www.tensorflow.org/api_docs/python/tf/nn/conv2d). \n",
    "\n",
    "Let's begin!\n",
    "\n",
    "### Input\n",
    "The neural network needs to read the image data, one-hot encoded labels, and dropout keep probability. Implement the following functions\n",
    "* Implement `neural_net_image_input`\n",
    " * Return a [TF Placeholder](https://www.tensorflow.org/api_docs/python/tf/placeholder)\n",
    " * Set the shape using `image_shape` with batch size set to `None`.\n",
    " * Name the TensorFlow placeholder \"x\" using the TensorFlow `name` parameter in the [TF Placeholder](https://www.tensorflow.org/api_docs/python/tf/placeholder).\n",
    "* Implement `neural_net_label_input`\n",
    " * Return a [TF Placeholder](https://www.tensorflow.org/api_docs/python/tf/placeholder)\n",
    " * Set the shape using `n_classes` with batch size set to `None`.\n",
    " * Name the TensorFlow placeholder \"y\" using the TensorFlow `name` parameter in the [TF Placeholder](https://www.tensorflow.org/api_docs/python/tf/placeholder).\n",
    "* Implement `neural_net_keep_prob_input`\n",
    " * Return a [TF Placeholder](https://www.tensorflow.org/api_docs/python/tf/placeholder) for dropout keep probability.\n",
    " * Name the TensorFlow placeholder \"keep_prob\" using the TensorFlow `name` parameter in the [TF Placeholder](https://www.tensorflow.org/api_docs/python/tf/placeholder).\n",
    "\n",
    "These names will be used at the end of the project to load your saved model.\n",
    "\n",
    "Note: `None` for shapes in TensorFlow allow for a dynamic size."
   ]
  },
  {
   "cell_type": "code",
   "execution_count": 7,
   "metadata": {
    "collapsed": false,
    "deletable": true,
    "editable": true
   },
   "outputs": [
    {
     "name": "stdout",
     "output_type": "stream",
     "text": [
      "Image Input Tests Passed.\n",
      "Label Input Tests Passed.\n",
      "Keep Prob Tests Passed.\n"
     ]
    }
   ],
   "source": [
    "import tensorflow as tf\n",
    "\n",
    "def neural_net_image_input(image_shape):\n",
    "    \"\"\"\n",
    "    Return a Tensor for a batch of image input\n",
    "    : image_shape: Shape of the images\n",
    "    : return: Tensor for image input.\n",
    "    \"\"\"\n",
    "    shape = [None] + list(image_shape)\n",
    "    return tf.placeholder(tf.float32, shape=shape, name='x')\n",
    "\n",
    "\n",
    "def neural_net_label_input(n_classes):\n",
    "    \"\"\"\n",
    "    Return a Tensor for a batch of label input\n",
    "    : n_classes: Number of classes\n",
    "    : return: Tensor for label input.\n",
    "    \"\"\"\n",
    "    return tf.placeholder(tf.float32, shape=[None, n_classes], name='y')\n",
    "\n",
    "\n",
    "def neural_net_keep_prob_input():\n",
    "    \"\"\"\n",
    "    Return a Tensor for keep probability\n",
    "    : return: Tensor for keep probability.\n",
    "    \"\"\"\n",
    "    return tf.placeholder(tf.float32, name='keep_prob')\n",
    "\n",
    "\n",
    "\"\"\"\n",
    "DON'T MODIFY ANYTHING IN THIS CELL THAT IS BELOW THIS LINE\n",
    "\"\"\"\n",
    "tf.reset_default_graph()\n",
    "tests.test_nn_image_inputs(neural_net_image_input)\n",
    "tests.test_nn_label_inputs(neural_net_label_input)\n",
    "tests.test_nn_keep_prob_inputs(neural_net_keep_prob_input)"
   ]
  },
  {
   "cell_type": "markdown",
   "metadata": {
    "deletable": true,
    "editable": true
   },
   "source": [
    "### Convolution and Max Pooling Layer\n",
    "Convolution layers have a lot of success with images. For this code cell, you should implement the function `conv2d_maxpool` to apply convolution then max pooling:\n",
    "* Create the weight and bias using `conv_ksize`, `conv_num_outputs` and the shape of `x_tensor`.\n",
    "* Apply a convolution to `x_tensor` using weight and `conv_strides`.\n",
    " * We recommend you use same padding, but you're welcome to use any padding.\n",
    "* Add bias\n",
    "* Add a nonlinear activation to the convolution.\n",
    "* Apply Max Pooling using `pool_ksize` and `pool_strides`.\n",
    " * We recommend you use same padding, but you're welcome to use any padding.\n",
    "\n",
    "**Note:** You **can't** use [TensorFlow Layers](https://www.tensorflow.org/api_docs/python/tf/layers) or [TensorFlow Layers (contrib)](https://www.tensorflow.org/api_guides/python/contrib.layers) for **this** layer, but you can still use TensorFlow's [Neural Network](https://www.tensorflow.org/api_docs/python/tf/nn) package. You may still use the shortcut option for all the **other** layers."
   ]
  },
  {
   "cell_type": "code",
   "execution_count": 8,
   "metadata": {
    "collapsed": false,
    "deletable": true,
    "editable": true
   },
   "outputs": [
    {
     "name": "stdout",
     "output_type": "stream",
     "text": [
      "Tests Passed\n"
     ]
    }
   ],
   "source": [
    "def conv2d_maxpool(x_tensor, conv_num_outputs, conv_ksize, conv_strides, pool_ksize, pool_strides):\n",
    "    \"\"\"\n",
    "    Apply convolution then max pooling to x_tensor\n",
    "    :param x_tensor: TensorFlow Tensor\n",
    "    :param conv_num_outputs: Number of outputs for the convolutional layer\n",
    "    :param conv_ksize: kernal size 2-D Tuple for the convolutional layer\n",
    "    :param conv_strides: Stride 2-D Tuple for convolution\n",
    "    :param pool_ksize: kernal size 2-D Tuple for pool\n",
    "    :param pool_strides: Stride 2-D Tuple for pool\n",
    "    : return: A tensor that represents convolution and max pooling of x_tensor\n",
    "    \"\"\"\n",
    "    conv_shape = list(conv_ksize)\n",
    "    color_channels = x_tensor.get_shape().as_list()[3]\n",
    "    weights_shape = conv_shape + [color_channels, conv_num_outputs]\n",
    "    \n",
    "    # Define weight with normal distribution\n",
    "    weights = tf.Variable(tf.truncated_normal(weights_shape, stddev=.04))\n",
    "    # Define biases\n",
    "    bias = tf.Variable(tf.zeros(conv_num_outputs))\n",
    "    \n",
    "    # 2d Conv Layer\n",
    "    batch_size = 1\n",
    "    conv_out_size = 1\n",
    "    \n",
    "    strides = [batch_size, conv_strides[0], conv_strides[1], conv_out_size]\n",
    "    \n",
    "    output = tf.nn.conv2d(x_tensor, weights, strides=strides, padding='SAME')\n",
    "    output = tf.nn.bias_add(output, bias)\n",
    "    output = tf.nn.relu(output)\n",
    "    \n",
    "    # Pooling layer.\n",
    "    pool_shape = [batch_size, pool_ksize[0], pool_ksize[1], 1]\n",
    "    pool_stride = [batch_size, pool_strides[0], pool_strides[1], 1]\n",
    "    \n",
    "    return tf.nn.max_pool(output, ksize=pool_shape, strides=pool_stride, padding='SAME')                                  \n",
    "\n",
    "\n",
    "\"\"\"\n",
    "DON'T MODIFY ANYTHING IN THIS CELL THAT IS BELOW THIS LINE\n",
    "\"\"\"\n",
    "tests.test_con_pool(conv2d_maxpool)"
   ]
  },
  {
   "cell_type": "markdown",
   "metadata": {
    "deletable": true,
    "editable": true
   },
   "source": [
    "### Flatten Layer\n",
    "Implement the `flatten` function to change the dimension of `x_tensor` from a 4-D tensor to a 2-D tensor.  The output should be the shape (*Batch Size*, *Flattened Image Size*). Shortcut option: you can use classes from the [TensorFlow Layers](https://www.tensorflow.org/api_docs/python/tf/layers) or [TensorFlow Layers (contrib)](https://www.tensorflow.org/api_guides/python/contrib.layers) packages for this layer. For more of a challenge, only use other TensorFlow packages."
   ]
  },
  {
   "cell_type": "code",
   "execution_count": 9,
   "metadata": {
    "collapsed": false,
    "deletable": true,
    "editable": true
   },
   "outputs": [
    {
     "name": "stdout",
     "output_type": "stream",
     "text": [
      "Tests Passed\n"
     ]
    }
   ],
   "source": [
    "def flatten(x_tensor):\n",
    "    \"\"\"\n",
    "    Flatten x_tensor to (Batch Size, Flattened Image Size)\n",
    "    : x_tensor: A tensor of size (Batch Size, ...), where ... are the image dimensions.\n",
    "    : return: A tensor of size (Batch Size, Flattened Image Size).\n",
    "    \"\"\"\n",
    "    return tf.contrib.layers.flatten(x_tensor)\n",
    "\n",
    "\n",
    "\"\"\"\n",
    "DON'T MODIFY ANYTHING IN THIS CELL THAT IS BELOW THIS LINE\n",
    "\"\"\"\n",
    "tests.test_flatten(flatten)"
   ]
  },
  {
   "cell_type": "markdown",
   "metadata": {
    "deletable": true,
    "editable": true
   },
   "source": [
    "### Fully-Connected Layer\n",
    "Implement the `fully_conn` function to apply a fully connected layer to `x_tensor` with the shape (*Batch Size*, *num_outputs*). Shortcut option: you can use classes from the [TensorFlow Layers](https://www.tensorflow.org/api_docs/python/tf/layers) or [TensorFlow Layers (contrib)](https://www.tensorflow.org/api_guides/python/contrib.layers) packages for this layer. For more of a challenge, only use other TensorFlow packages."
   ]
  },
  {
   "cell_type": "code",
   "execution_count": 10,
   "metadata": {
    "collapsed": false,
    "deletable": true,
    "editable": true
   },
   "outputs": [
    {
     "name": "stdout",
     "output_type": "stream",
     "text": [
      "Tests Passed\n"
     ]
    }
   ],
   "source": [
    "def basic_layer(x_tensor, num_outputs):\n",
    "    \"\"\"\n",
    "    Apply a basic layer into x_tensor using a weight and a bias.\n",
    "    : x_tensor: A 2-D tensor where the first dimension is batch size.\n",
    "    : num_outputs: The number of output that the new tensor should be.\n",
    "    : return: A 2-D tensor where the second dimension is num_outputs.\n",
    "    \"\"\"\n",
    "    vector_lenght = np.array(x_tensor.get_shape().as_list()[1:]).prod()\n",
    "    \n",
    "    \n",
    "    weights = tf.Variable(tf.truncated_normal([vector_lenght, num_outputs]))\n",
    "    bias = tf.Variable(tf.zeros([num_outputs]))\n",
    "    \n",
    "    return tf.add(tf.matmul(x_tensor, weights), bias)\n",
    "\n",
    "\n",
    "\n",
    "def fully_conn(x_tensor, num_outputs):\n",
    "    \"\"\"\n",
    "    Apply a fully connected layer to x_tensor using weight and bias\n",
    "    : x_tensor: A 2-D tensor where the first dimension is batch size.\n",
    "    : num_outputs: The number of output that the new tensor should be.\n",
    "    : return: A 2-D tensor where the second dimension is num_outputs.\n",
    "    \"\"\"\n",
    "    \n",
    "    logits = basic_layer(x_tensor, num_outputs)\n",
    "    \n",
    "    return tf.nn.softmax(logits)\n",
    "\n",
    "\n",
    "\"\"\"\n",
    "DON'T MODIFY ANYTHING IN THIS CELL THAT IS BELOW THIS LINE\n",
    "\"\"\"\n",
    "tests.test_fully_conn(fully_conn)"
   ]
  },
  {
   "cell_type": "markdown",
   "metadata": {
    "deletable": true,
    "editable": true
   },
   "source": [
    "### Output Layer\n",
    "Implement the `output` function to apply a fully connected layer to `x_tensor` with the shape (*Batch Size*, *num_outputs*). Shortcut option: you can use classes from the [TensorFlow Layers](https://www.tensorflow.org/api_docs/python/tf/layers) or [TensorFlow Layers (contrib)](https://www.tensorflow.org/api_guides/python/contrib.layers) packages for this layer. For more of a challenge, only use other TensorFlow packages.\n",
    "\n",
    "**Note:** Activation, softmax, or cross entropy should **not** be applied to this."
   ]
  },
  {
   "cell_type": "code",
   "execution_count": 11,
   "metadata": {
    "collapsed": false,
    "deletable": true,
    "editable": true
   },
   "outputs": [
    {
     "name": "stdout",
     "output_type": "stream",
     "text": [
      "Tests Passed\n"
     ]
    }
   ],
   "source": [
    "def output(x_tensor, num_outputs):\n",
    "    \"\"\"\n",
    "    Apply a output layer to x_tensor using weight and bias\n",
    "    : x_tensor: A 2-D tensor where the first dimension is batch size.\n",
    "    : num_outputs: The number of output that the new tensor should be.\n",
    "    : return: A 2-D tensor where the second dimension is num_outputs.\n",
    "    \"\"\"\n",
    "    return basic_layer(x_tensor, num_outputs)\n",
    "\n",
    "\n",
    "\"\"\"\n",
    "DON'T MODIFY ANYTHING IN THIS CELL THAT IS BELOW THIS LINE\n",
    "\"\"\"\n",
    "tests.test_output(output)"
   ]
  },
  {
   "cell_type": "markdown",
   "metadata": {
    "deletable": true,
    "editable": true
   },
   "source": [
    "### Create Convolutional Model\n",
    "Implement the function `conv_net` to create a convolutional neural network model. The function takes in a batch of images, `x`, and outputs logits.  Use the layers you created above to create this model:\n",
    "\n",
    "* Apply 1, 2, or 3 Convolution and Max Pool layers\n",
    "* Apply a Flatten Layer\n",
    "* Apply 1, 2, or 3 Fully Connected Layers\n",
    "* Apply an Output Layer\n",
    "* Return the output\n",
    "* Apply [TensorFlow's Dropout](https://www.tensorflow.org/api_docs/python/tf/nn/dropout) to one or more layers in the model using `keep_prob`. "
   ]
  },
  {
   "cell_type": "code",
   "execution_count": 12,
   "metadata": {
    "collapsed": false,
    "deletable": true,
    "editable": true
   },
   "outputs": [
    {
     "name": "stdout",
     "output_type": "stream",
     "text": [
      "Neural Network Built!\n"
     ]
    }
   ],
   "source": [
    "def conv_net(x, keep_prob):\n",
    "    \"\"\"\n",
    "    Create a convolutional neural network model\n",
    "    : x: Placeholder tensor that holds image data.\n",
    "    : keep_prob: Placeholder tensor that hold dropout keep probability.\n",
    "    : return: Tensor that represents logits\n",
    "    \"\"\"\n",
    "    num_outputs = 64\n",
    "    conv_size = (4, 4)\n",
    "    conv_stride = (1, 1)\n",
    "    pool_size = (4, 4)\n",
    "    pool_stride = (2, 2)\n",
    "    \n",
    "    # TODO: Apply 1, 2, or 3 Convolution and Max Pool layers\n",
    "    #    Play around with different number of outputs, kernel size and stride\n",
    "    # Function Definition from Above:\n",
    "    #    conv2d_maxpool(x_tensor, conv_num_outputs, conv_ksize, conv_strides, pool_ksize, pool_strides)\n",
    "    conv_layer = conv2d_maxpool(x, 10, conv_size, conv_stride, pool_size, pool_stride)\n",
    "    conv_layer = conv2d_maxpool(conv_layer, 10, conv_size, conv_stride, pool_size, pool_stride)\n",
    "    \n",
    "\n",
    "    # TODO: Apply a Flatten Layer\n",
    "    # Function Definition from Above:\n",
    "    #   flatten(x_tensor)\n",
    "    flattened = flatten(conv_layer)\n",
    "\n",
    "    # TODO: Apply 1, 2, or 3 Fully Connected Layers\n",
    "    #    Play around with different number of outputs\n",
    "    # Function Definition from Above:\n",
    "    #   fully_conn(x_tensor, num_outputs)\n",
    "    fully = fully_conn(flattened, 420)\n",
    "    fully = fully_conn(flattened, 210)\n",
    "    \n",
    "    # TODO: Apply an Output Layer\n",
    "    #    Set this to the number of classes\n",
    "    # Function Definition from Above:\n",
    "    #   output(x_tensor, num_outputs)\n",
    "    out = output(fully, 10)\n",
    "    \n",
    "    # TODO: return output\n",
    "    return out\n",
    "\n",
    "\n",
    "\"\"\"\n",
    "DON'T MODIFY ANYTHING IN THIS CELL THAT IS BELOW THIS LINE\n",
    "\"\"\"\n",
    "\n",
    "##############################\n",
    "## Build the Neural Network ##\n",
    "##############################\n",
    "\n",
    "# Remove previous weights, bias, inputs, etc..\n",
    "tf.reset_default_graph()\n",
    "\n",
    "# Inputs\n",
    "x = neural_net_image_input((32, 32, 3))\n",
    "y = neural_net_label_input(10)\n",
    "keep_prob = neural_net_keep_prob_input()\n",
    "\n",
    "# Model\n",
    "logits = conv_net(x, keep_prob)\n",
    "\n",
    "# Name logits Tensor, so that is can be loaded from disk after training\n",
    "logits = tf.identity(logits, name='logits')\n",
    "\n",
    "# Loss and Optimizer\n",
    "cost = tf.reduce_mean(tf.nn.softmax_cross_entropy_with_logits(logits=logits, labels=y))\n",
    "optimizer = tf.train.AdamOptimizer().minimize(cost)\n",
    "\n",
    "# Accuracy\n",
    "correct_pred = tf.equal(tf.argmax(logits, 1), tf.argmax(y, 1))\n",
    "accuracy = tf.reduce_mean(tf.cast(correct_pred, tf.float32), name='accuracy')\n",
    "\n",
    "tests.test_conv_net(conv_net)"
   ]
  },
  {
   "cell_type": "markdown",
   "metadata": {
    "deletable": true,
    "editable": true
   },
   "source": [
    "## Train the Neural Network\n",
    "### Single Optimization\n",
    "Implement the function `train_neural_network` to do a single optimization.  The optimization should use `optimizer` to optimize in `session` with a `feed_dict` of the following:\n",
    "* `x` for image input\n",
    "* `y` for labels\n",
    "* `keep_prob` for keep probability for dropout\n",
    "\n",
    "This function will be called for each batch, so `tf.global_variables_initializer()` has already been called.\n",
    "\n",
    "Note: Nothing needs to be returned. This function is only optimizing the neural network."
   ]
  },
  {
   "cell_type": "code",
   "execution_count": 13,
   "metadata": {
    "collapsed": false,
    "deletable": true,
    "editable": true
   },
   "outputs": [
    {
     "name": "stdout",
     "output_type": "stream",
     "text": [
      "Tests Passed\n"
     ]
    }
   ],
   "source": [
    "def train_neural_network(session, optimizer, keep_probability, feature_batch, label_batch):\n",
    "    \"\"\"\n",
    "    Optimize the session on a batch of images and labels\n",
    "    : session: Current TensorFlow session\n",
    "    : optimizer: TensorFlow optimizer function\n",
    "    : keep_probability: keep probability\n",
    "    : feature_batch: Batch of Numpy image data\n",
    "    : label_batch: Batch of Numpy label data\n",
    "    \"\"\"\n",
    "    session.run(optimizer, feed_dict={\n",
    "        x: feature_batch,\n",
    "        y: label_batch,\n",
    "        keep_prob: keep_probability\n",
    "    })\n",
    "    \n",
    "\n",
    "\n",
    "\"\"\"\n",
    "DON'T MODIFY ANYTHING IN THIS CELL THAT IS BELOW THIS LINE\n",
    "\"\"\"\n",
    "tests.test_train_nn(train_neural_network)"
   ]
  },
  {
   "cell_type": "markdown",
   "metadata": {
    "deletable": true,
    "editable": true
   },
   "source": [
    "### Show Stats\n",
    "Implement the function `print_stats` to print loss and validation accuracy.  Use the global variables `valid_features` and `valid_labels` to calculate validation accuracy.  Use a keep probability of `1.0` to calculate the loss and validation accuracy."
   ]
  },
  {
   "cell_type": "code",
   "execution_count": 14,
   "metadata": {
    "collapsed": true,
    "deletable": true,
    "editable": true
   },
   "outputs": [],
   "source": [
    "def print_stats(session, feature_batch, label_batch, cost, accuracy):\n",
    "    \"\"\"\n",
    "    Print information about loss and validation accuracy\n",
    "    : session: Current TensorFlow session\n",
    "    : feature_batch: Batch of Numpy image data\n",
    "    : label_batch: Batch of Numpy label data\n",
    "    : cost: TensorFlow cost function\n",
    "    : accuracy: TensorFlow accuracy function\n",
    "    \"\"\"\n",
    "    loss = sess.run(cost, feed_dict={x: feature_batch,\n",
    "                                     y: label_batch,\n",
    "                                     keep_prob: 1.})\n",
    "    valid_acc = sess.run(accuracy, feed_dict={x: valid_features,\n",
    "                                              y: valid_labels,\n",
    "                                              keep_prob: 1.})\n",
    "    \n",
    "    print('Loss: %5.6f Validation Accuracy: %5.6f' % (loss, valid_acc))\n",
    "\n",
    "    "
   ]
  },
  {
   "cell_type": "markdown",
   "metadata": {
    "deletable": true,
    "editable": true
   },
   "source": [
    "### Hyperparameters\n",
    "Tune the following parameters:\n",
    "* Set `epochs` to the number of iterations until the network stops learning or start overfitting\n",
    "* Set `batch_size` to the highest number that your machine has memory for.  Most people set them to common sizes of memory:\n",
    " * 64\n",
    " * 128\n",
    " * 256\n",
    " * ...\n",
    "* Set `keep_probability` to the probability of keeping a node using dropout"
   ]
  },
  {
   "cell_type": "code",
   "execution_count": 15,
   "metadata": {
    "collapsed": true,
    "deletable": true,
    "editable": true
   },
   "outputs": [],
   "source": [
    "# TODO: Tune Parameters\n",
    "epochs = 60\n",
    "batch_size = 256\n",
    "keep_probability = .7"
   ]
  },
  {
   "cell_type": "markdown",
   "metadata": {
    "deletable": true,
    "editable": true
   },
   "source": [
    "### Train on a Single CIFAR-10 Batch\n",
    "Instead of training the neural network on all the CIFAR-10 batches of data, let's use a single batch. This should save time while you iterate on the model to get a better accuracy.  Once the final validation accuracy is 50% or greater, run the model on all the data in the next section."
   ]
  },
  {
   "cell_type": "code",
   "execution_count": 16,
   "metadata": {
    "collapsed": false,
    "deletable": true,
    "editable": true
   },
   "outputs": [
    {
     "name": "stdout",
     "output_type": "stream",
     "text": [
      "Checking the Training on a Single Batch...\n",
      "Epoch  1, CIFAR-10 Batch 1:  Loss: 2.235426 Validation Accuracy: 0.162600\n",
      "Epoch  2, CIFAR-10 Batch 1:  Loss: 2.179685 Validation Accuracy: 0.262600\n",
      "Epoch  3, CIFAR-10 Batch 1:  Loss: 2.155315 Validation Accuracy: 0.293200\n",
      "Epoch  4, CIFAR-10 Batch 1:  Loss: 2.105341 Validation Accuracy: 0.303800\n",
      "Epoch  5, CIFAR-10 Batch 1:  Loss: 2.035354 Validation Accuracy: 0.305600\n",
      "Epoch  6, CIFAR-10 Batch 1:  Loss: 1.963624 Validation Accuracy: 0.308000\n",
      "Epoch  7, CIFAR-10 Batch 1:  Loss: 1.891299 Validation Accuracy: 0.318800\n",
      "Epoch  8, CIFAR-10 Batch 1:  Loss: 1.841895 Validation Accuracy: 0.339600\n",
      "Epoch  9, CIFAR-10 Batch 1:  Loss: 1.777177 Validation Accuracy: 0.352800\n",
      "Epoch 10, CIFAR-10 Batch 1:  Loss: 1.720601 Validation Accuracy: 0.367000\n",
      "Epoch 11, CIFAR-10 Batch 1:  Loss: 1.679370 Validation Accuracy: 0.375400\n",
      "Epoch 12, CIFAR-10 Batch 1:  Loss: 1.643742 Validation Accuracy: 0.377600\n",
      "Epoch 13, CIFAR-10 Batch 1:  Loss: 1.622813 Validation Accuracy: 0.382400\n",
      "Epoch 14, CIFAR-10 Batch 1:  Loss: 1.599818 Validation Accuracy: 0.385400\n",
      "Epoch 15, CIFAR-10 Batch 1:  Loss: 1.569407 Validation Accuracy: 0.382600\n",
      "Epoch 16, CIFAR-10 Batch 1:  Loss: 1.539865 Validation Accuracy: 0.387200\n",
      "Epoch 17, CIFAR-10 Batch 1:  Loss: 1.515458 Validation Accuracy: 0.390600\n",
      "Epoch 18, CIFAR-10 Batch 1:  Loss: 1.493985 Validation Accuracy: 0.392400\n",
      "Epoch 19, CIFAR-10 Batch 1:  Loss: 1.473591 Validation Accuracy: 0.395800\n",
      "Epoch 20, CIFAR-10 Batch 1:  Loss: 1.455273 Validation Accuracy: 0.398000\n",
      "Epoch 21, CIFAR-10 Batch 1:  Loss: 1.437027 Validation Accuracy: 0.400800\n",
      "Epoch 22, CIFAR-10 Batch 1:  Loss: 1.416731 Validation Accuracy: 0.406800\n",
      "Epoch 23, CIFAR-10 Batch 1:  Loss: 1.394027 Validation Accuracy: 0.408400\n",
      "Epoch 24, CIFAR-10 Batch 1:  Loss: 1.373036 Validation Accuracy: 0.411200\n",
      "Epoch 25, CIFAR-10 Batch 1:  Loss: 1.361062 Validation Accuracy: 0.413400\n",
      "Epoch 26, CIFAR-10 Batch 1:  Loss: 1.349365 Validation Accuracy: 0.414400\n",
      "Epoch 27, CIFAR-10 Batch 1:  Loss: 1.338713 Validation Accuracy: 0.410600\n",
      "Epoch 28, CIFAR-10 Batch 1:  Loss: 1.339703 Validation Accuracy: 0.406000\n",
      "Epoch 29, CIFAR-10 Batch 1:  Loss: 1.338843 Validation Accuracy: 0.404200\n",
      "Epoch 30, CIFAR-10 Batch 1:  Loss: 1.322144 Validation Accuracy: 0.407400\n",
      "Epoch 31, CIFAR-10 Batch 1:  Loss: 1.297730 Validation Accuracy: 0.410000\n",
      "Epoch 32, CIFAR-10 Batch 1:  Loss: 1.288447 Validation Accuracy: 0.413800\n",
      "Epoch 33, CIFAR-10 Batch 1:  Loss: 1.284732 Validation Accuracy: 0.412600\n",
      "Epoch 34, CIFAR-10 Batch 1:  Loss: 1.273782 Validation Accuracy: 0.414200\n",
      "Epoch 35, CIFAR-10 Batch 1:  Loss: 1.264867 Validation Accuracy: 0.416200\n",
      "Epoch 36, CIFAR-10 Batch 1:  Loss: 1.254880 Validation Accuracy: 0.418200\n",
      "Epoch 37, CIFAR-10 Batch 1:  Loss: 1.245137 Validation Accuracy: 0.422400\n",
      "Epoch 38, CIFAR-10 Batch 1:  Loss: 1.235532 Validation Accuracy: 0.424000\n",
      "Epoch 39, CIFAR-10 Batch 1:  Loss: 1.228217 Validation Accuracy: 0.425000\n",
      "Epoch 40, CIFAR-10 Batch 1:  Loss: 1.217554 Validation Accuracy: 0.424400\n",
      "Epoch 41, CIFAR-10 Batch 1:  Loss: 1.190871 Validation Accuracy: 0.430600\n",
      "Epoch 42, CIFAR-10 Batch 1:  Loss: 1.147793 Validation Accuracy: 0.441200\n",
      "Epoch 43, CIFAR-10 Batch 1:  Loss: 1.164670 Validation Accuracy: 0.439400\n",
      "Epoch 44, CIFAR-10 Batch 1:  Loss: 1.163339 Validation Accuracy: 0.437200\n",
      "Epoch 45, CIFAR-10 Batch 1:  Loss: 1.147810 Validation Accuracy: 0.436200\n",
      "Epoch 46, CIFAR-10 Batch 1:  Loss: 1.143559 Validation Accuracy: 0.438200\n",
      "Epoch 47, CIFAR-10 Batch 1:  Loss: 1.133139 Validation Accuracy: 0.438600\n",
      "Epoch 48, CIFAR-10 Batch 1:  Loss: 1.131489 Validation Accuracy: 0.441400\n",
      "Epoch 49, CIFAR-10 Batch 1:  Loss: 1.123344 Validation Accuracy: 0.446000\n",
      "Epoch 50, CIFAR-10 Batch 1:  Loss: 1.119940 Validation Accuracy: 0.447800\n",
      "Epoch 51, CIFAR-10 Batch 1:  Loss: 1.119064 Validation Accuracy: 0.449800\n",
      "Epoch 52, CIFAR-10 Batch 1:  Loss: 1.122544 Validation Accuracy: 0.451600\n",
      "Epoch 53, CIFAR-10 Batch 1:  Loss: 1.117293 Validation Accuracy: 0.452400\n",
      "Epoch 54, CIFAR-10 Batch 1:  Loss: 1.109980 Validation Accuracy: 0.450400\n",
      "Epoch 55, CIFAR-10 Batch 1:  Loss: 1.105365 Validation Accuracy: 0.448000\n",
      "Epoch 56, CIFAR-10 Batch 1:  Loss: 1.102875 Validation Accuracy: 0.443800\n",
      "Epoch 57, CIFAR-10 Batch 1:  Loss: 1.099214 Validation Accuracy: 0.444600\n",
      "Epoch 58, CIFAR-10 Batch 1:  Loss: 1.085542 Validation Accuracy: 0.447200\n",
      "Epoch 59, CIFAR-10 Batch 1:  Loss: 1.070621 Validation Accuracy: 0.453200\n",
      "Epoch 60, CIFAR-10 Batch 1:  Loss: 1.049222 Validation Accuracy: 0.456400\n"
     ]
    }
   ],
   "source": [
    "\"\"\"\n",
    "DON'T MODIFY ANYTHING IN THIS CELL\n",
    "\"\"\"\n",
    "print('Checking the Training on a Single Batch...')\n",
    "config = tf.ConfigProto()\n",
    "config.gpu_options.allow_growth = True\n",
    "with tf.Session(config=config) as sess:\n",
    "    # Initializing the variables\n",
    "    sess.run(tf.global_variables_initializer())\n",
    "    \n",
    "    # Training cycle\n",
    "    for epoch in range(epochs):\n",
    "        batch_i = 1\n",
    "        for batch_features, batch_labels in helper.load_preprocess_training_batch(batch_i, batch_size):\n",
    "            train_neural_network(sess, optimizer, keep_probability, batch_features, batch_labels)\n",
    "        print('Epoch {:>2}, CIFAR-10 Batch {}:  '.format(epoch + 1, batch_i), end='')\n",
    "        print_stats(sess, batch_features, batch_labels, cost, accuracy)"
   ]
  },
  {
   "cell_type": "markdown",
   "metadata": {
    "deletable": true,
    "editable": true
   },
   "source": [
    "### Fully Train the Model\n",
    "Now that you got a good accuracy with a single CIFAR-10 batch, try it with all five batches."
   ]
  },
  {
   "cell_type": "code",
   "execution_count": 17,
   "metadata": {
    "collapsed": false,
    "deletable": true,
    "editable": true
   },
   "outputs": [
    {
     "name": "stdout",
     "output_type": "stream",
     "text": [
      "Training...\n",
      "Epoch  1, CIFAR-10 Batch 1:  Loss: 2.231312 Validation Accuracy: 0.190000\n",
      "Epoch  1, CIFAR-10 Batch 2:  Loss: 2.153763 Validation Accuracy: 0.226000\n",
      "Epoch  1, CIFAR-10 Batch 3:  Loss: 1.927814 Validation Accuracy: 0.258800\n",
      "Epoch  1, CIFAR-10 Batch 4:  Loss: 1.991711 Validation Accuracy: 0.273200\n",
      "Epoch  1, CIFAR-10 Batch 5:  Loss: 1.976113 Validation Accuracy: 0.287400\n",
      "Epoch  2, CIFAR-10 Batch 1:  Loss: 2.055686 Validation Accuracy: 0.296800\n",
      "Epoch  2, CIFAR-10 Batch 2:  Loss: 1.997304 Validation Accuracy: 0.305200\n",
      "Epoch  2, CIFAR-10 Batch 3:  Loss: 1.764388 Validation Accuracy: 0.307600\n",
      "Epoch  2, CIFAR-10 Batch 4:  Loss: 1.886015 Validation Accuracy: 0.306400\n",
      "Epoch  2, CIFAR-10 Batch 5:  Loss: 1.956411 Validation Accuracy: 0.309000\n",
      "Epoch  3, CIFAR-10 Batch 1:  Loss: 1.924179 Validation Accuracy: 0.320200\n",
      "Epoch  3, CIFAR-10 Batch 2:  Loss: 1.919549 Validation Accuracy: 0.324200\n",
      "Epoch  3, CIFAR-10 Batch 3:  Loss: 1.677776 Validation Accuracy: 0.326200\n",
      "Epoch  3, CIFAR-10 Batch 4:  Loss: 1.826488 Validation Accuracy: 0.335000\n",
      "Epoch  3, CIFAR-10 Batch 5:  Loss: 1.873632 Validation Accuracy: 0.339200\n",
      "Epoch  4, CIFAR-10 Batch 1:  Loss: 1.803468 Validation Accuracy: 0.346000\n",
      "Epoch  4, CIFAR-10 Batch 2:  Loss: 1.872244 Validation Accuracy: 0.350000\n",
      "Epoch  4, CIFAR-10 Batch 3:  Loss: 1.618784 Validation Accuracy: 0.352400\n",
      "Epoch  4, CIFAR-10 Batch 4:  Loss: 1.791656 Validation Accuracy: 0.362800\n",
      "Epoch  4, CIFAR-10 Batch 5:  Loss: 1.832450 Validation Accuracy: 0.354000\n",
      "Epoch  5, CIFAR-10 Batch 1:  Loss: 1.745404 Validation Accuracy: 0.363200\n",
      "Epoch  5, CIFAR-10 Batch 2:  Loss: 1.774189 Validation Accuracy: 0.363400\n",
      "Epoch  5, CIFAR-10 Batch 3:  Loss: 1.556575 Validation Accuracy: 0.366200\n",
      "Epoch  5, CIFAR-10 Batch 4:  Loss: 1.730052 Validation Accuracy: 0.373000\n",
      "Epoch  5, CIFAR-10 Batch 5:  Loss: 1.783574 Validation Accuracy: 0.363600\n",
      "Epoch  6, CIFAR-10 Batch 1:  Loss: 1.726031 Validation Accuracy: 0.383000\n",
      "Epoch  6, CIFAR-10 Batch 2:  Loss: 1.704395 Validation Accuracy: 0.376600\n",
      "Epoch  6, CIFAR-10 Batch 3:  Loss: 1.494670 Validation Accuracy: 0.384600\n",
      "Epoch  6, CIFAR-10 Batch 4:  Loss: 1.670882 Validation Accuracy: 0.382400\n",
      "Epoch  6, CIFAR-10 Batch 5:  Loss: 1.713045 Validation Accuracy: 0.375800\n",
      "Epoch  7, CIFAR-10 Batch 1:  Loss: 1.678854 Validation Accuracy: 0.400600\n",
      "Epoch  7, CIFAR-10 Batch 2:  Loss: 1.659650 Validation Accuracy: 0.389400\n",
      "Epoch  7, CIFAR-10 Batch 3:  Loss: 1.438901 Validation Accuracy: 0.398200\n",
      "Epoch  7, CIFAR-10 Batch 4:  Loss: 1.603396 Validation Accuracy: 0.387200\n",
      "Epoch  7, CIFAR-10 Batch 5:  Loss: 1.664167 Validation Accuracy: 0.389400\n",
      "Epoch  8, CIFAR-10 Batch 1:  Loss: 1.618269 Validation Accuracy: 0.412400\n",
      "Epoch  8, CIFAR-10 Batch 2:  Loss: 1.613873 Validation Accuracy: 0.407000\n",
      "Epoch  8, CIFAR-10 Batch 3:  Loss: 1.381577 Validation Accuracy: 0.410000\n",
      "Epoch  8, CIFAR-10 Batch 4:  Loss: 1.519468 Validation Accuracy: 0.401400\n",
      "Epoch  8, CIFAR-10 Batch 5:  Loss: 1.635218 Validation Accuracy: 0.403200\n",
      "Epoch  9, CIFAR-10 Batch 1:  Loss: 1.572743 Validation Accuracy: 0.423000\n",
      "Epoch  9, CIFAR-10 Batch 2:  Loss: 1.554616 Validation Accuracy: 0.418200\n",
      "Epoch  9, CIFAR-10 Batch 3:  Loss: 1.341504 Validation Accuracy: 0.419800\n",
      "Epoch  9, CIFAR-10 Batch 4:  Loss: 1.472628 Validation Accuracy: 0.413200\n",
      "Epoch  9, CIFAR-10 Batch 5:  Loss: 1.613054 Validation Accuracy: 0.414200\n",
      "Epoch 10, CIFAR-10 Batch 1:  Loss: 1.542096 Validation Accuracy: 0.435800\n",
      "Epoch 10, CIFAR-10 Batch 2:  Loss: 1.533935 Validation Accuracy: 0.431000\n",
      "Epoch 10, CIFAR-10 Batch 3:  Loss: 1.321325 Validation Accuracy: 0.429800\n",
      "Epoch 10, CIFAR-10 Batch 4:  Loss: 1.451032 Validation Accuracy: 0.433400\n",
      "Epoch 10, CIFAR-10 Batch 5:  Loss: 1.573556 Validation Accuracy: 0.422400\n",
      "Epoch 11, CIFAR-10 Batch 1:  Loss: 1.506688 Validation Accuracy: 0.441200\n",
      "Epoch 11, CIFAR-10 Batch 2:  Loss: 1.480679 Validation Accuracy: 0.446800\n",
      "Epoch 11, CIFAR-10 Batch 3:  Loss: 1.281802 Validation Accuracy: 0.450800\n",
      "Epoch 11, CIFAR-10 Batch 4:  Loss: 1.438075 Validation Accuracy: 0.455000\n",
      "Epoch 11, CIFAR-10 Batch 5:  Loss: 1.530160 Validation Accuracy: 0.442600\n",
      "Epoch 12, CIFAR-10 Batch 1:  Loss: 1.437730 Validation Accuracy: 0.460200\n",
      "Epoch 12, CIFAR-10 Batch 2:  Loss: 1.426677 Validation Accuracy: 0.464400\n",
      "Epoch 12, CIFAR-10 Batch 3:  Loss: 1.256840 Validation Accuracy: 0.463600\n",
      "Epoch 12, CIFAR-10 Batch 4:  Loss: 1.427903 Validation Accuracy: 0.473200\n",
      "Epoch 12, CIFAR-10 Batch 5:  Loss: 1.503166 Validation Accuracy: 0.461000\n",
      "Epoch 13, CIFAR-10 Batch 1:  Loss: 1.388960 Validation Accuracy: 0.467400\n",
      "Epoch 13, CIFAR-10 Batch 2:  Loss: 1.382153 Validation Accuracy: 0.464600\n",
      "Epoch 13, CIFAR-10 Batch 3:  Loss: 1.215057 Validation Accuracy: 0.467800\n",
      "Epoch 13, CIFAR-10 Batch 4:  Loss: 1.411680 Validation Accuracy: 0.481200\n",
      "Epoch 13, CIFAR-10 Batch 5:  Loss: 1.484261 Validation Accuracy: 0.471800\n",
      "Epoch 14, CIFAR-10 Batch 1:  Loss: 1.358517 Validation Accuracy: 0.473400\n",
      "Epoch 14, CIFAR-10 Batch 2:  Loss: 1.338650 Validation Accuracy: 0.468600\n",
      "Epoch 14, CIFAR-10 Batch 3:  Loss: 1.176716 Validation Accuracy: 0.480000\n",
      "Epoch 14, CIFAR-10 Batch 4:  Loss: 1.382863 Validation Accuracy: 0.489600\n",
      "Epoch 14, CIFAR-10 Batch 5:  Loss: 1.475996 Validation Accuracy: 0.478800\n",
      "Epoch 15, CIFAR-10 Batch 1:  Loss: 1.341441 Validation Accuracy: 0.483200\n",
      "Epoch 15, CIFAR-10 Batch 2:  Loss: 1.315071 Validation Accuracy: 0.472400\n",
      "Epoch 15, CIFAR-10 Batch 3:  Loss: 1.139854 Validation Accuracy: 0.490200\n",
      "Epoch 15, CIFAR-10 Batch 4:  Loss: 1.358812 Validation Accuracy: 0.495000\n",
      "Epoch 15, CIFAR-10 Batch 5:  Loss: 1.470161 Validation Accuracy: 0.490400\n",
      "Epoch 16, CIFAR-10 Batch 1:  Loss: 1.326227 Validation Accuracy: 0.492000\n",
      "Epoch 16, CIFAR-10 Batch 2:  Loss: 1.270444 Validation Accuracy: 0.479800\n",
      "Epoch 16, CIFAR-10 Batch 3:  Loss: 1.109199 Validation Accuracy: 0.497800\n",
      "Epoch 16, CIFAR-10 Batch 4:  Loss: 1.346773 Validation Accuracy: 0.503800\n",
      "Epoch 16, CIFAR-10 Batch 5:  Loss: 1.468910 Validation Accuracy: 0.496400\n",
      "Epoch 17, CIFAR-10 Batch 1:  Loss: 1.308552 Validation Accuracy: 0.500200\n",
      "Epoch 17, CIFAR-10 Batch 2:  Loss: 1.229960 Validation Accuracy: 0.485400\n",
      "Epoch 17, CIFAR-10 Batch 3:  Loss: 1.074114 Validation Accuracy: 0.504200\n",
      "Epoch 17, CIFAR-10 Batch 4:  Loss: 1.334999 Validation Accuracy: 0.510000\n",
      "Epoch 17, CIFAR-10 Batch 5:  Loss: 1.449068 Validation Accuracy: 0.504000\n",
      "Epoch 18, CIFAR-10 Batch 1:  Loss: 1.279017 Validation Accuracy: 0.503400\n",
      "Epoch 18, CIFAR-10 Batch 2:  Loss: 1.189672 Validation Accuracy: 0.495600\n",
      "Epoch 18, CIFAR-10 Batch 3:  Loss: 1.046719 Validation Accuracy: 0.508800\n",
      "Epoch 18, CIFAR-10 Batch 4:  Loss: 1.331644 Validation Accuracy: 0.513800\n",
      "Epoch 18, CIFAR-10 Batch 5:  Loss: 1.423813 Validation Accuracy: 0.510400\n",
      "Epoch 19, CIFAR-10 Batch 1:  Loss: 1.242793 Validation Accuracy: 0.506200\n",
      "Epoch 19, CIFAR-10 Batch 2:  Loss: 1.129305 Validation Accuracy: 0.506000\n",
      "Epoch 19, CIFAR-10 Batch 3:  Loss: 1.015867 Validation Accuracy: 0.516600\n",
      "Epoch 19, CIFAR-10 Batch 4:  Loss: 1.308034 Validation Accuracy: 0.523400\n",
      "Epoch 19, CIFAR-10 Batch 5:  Loss: 1.395022 Validation Accuracy: 0.521000\n",
      "Epoch 20, CIFAR-10 Batch 1:  Loss: 1.217552 Validation Accuracy: 0.510400\n",
      "Epoch 20, CIFAR-10 Batch 2:  Loss: 1.100300 Validation Accuracy: 0.511400\n",
      "Epoch 20, CIFAR-10 Batch 3:  Loss: 0.985941 Validation Accuracy: 0.523200\n",
      "Epoch 20, CIFAR-10 Batch 4:  Loss: 1.280826 Validation Accuracy: 0.527600\n",
      "Epoch 20, CIFAR-10 Batch 5:  Loss: 1.363526 Validation Accuracy: 0.525000\n",
      "Epoch 21, CIFAR-10 Batch 1:  Loss: 1.189381 Validation Accuracy: 0.514800\n",
      "Epoch 21, CIFAR-10 Batch 2:  Loss: 1.078953 Validation Accuracy: 0.517000\n",
      "Epoch 21, CIFAR-10 Batch 3:  Loss: 0.958981 Validation Accuracy: 0.532800\n",
      "Epoch 21, CIFAR-10 Batch 4:  Loss: 1.260705 Validation Accuracy: 0.529800\n",
      "Epoch 21, CIFAR-10 Batch 5:  Loss: 1.347718 Validation Accuracy: 0.529400\n",
      "Epoch 22, CIFAR-10 Batch 1:  Loss: 1.162607 Validation Accuracy: 0.524600\n",
      "Epoch 22, CIFAR-10 Batch 2:  Loss: 1.051453 Validation Accuracy: 0.522400\n",
      "Epoch 22, CIFAR-10 Batch 3:  Loss: 0.936473 Validation Accuracy: 0.536600\n",
      "Epoch 22, CIFAR-10 Batch 4:  Loss: 1.210763 Validation Accuracy: 0.539000\n",
      "Epoch 22, CIFAR-10 Batch 5:  Loss: 1.321006 Validation Accuracy: 0.535000\n",
      "Epoch 23, CIFAR-10 Batch 1:  Loss: 1.138299 Validation Accuracy: 0.530800\n",
      "Epoch 23, CIFAR-10 Batch 2:  Loss: 1.020520 Validation Accuracy: 0.533000\n",
      "Epoch 23, CIFAR-10 Batch 3:  Loss: 0.921089 Validation Accuracy: 0.542200\n",
      "Epoch 23, CIFAR-10 Batch 4:  Loss: 1.180604 Validation Accuracy: 0.544400\n",
      "Epoch 23, CIFAR-10 Batch 5:  Loss: 1.294699 Validation Accuracy: 0.540800\n",
      "Epoch 24, CIFAR-10 Batch 1:  Loss: 1.108831 Validation Accuracy: 0.536200\n",
      "Epoch 24, CIFAR-10 Batch 2:  Loss: 0.995956 Validation Accuracy: 0.537200\n",
      "Epoch 24, CIFAR-10 Batch 3:  Loss: 0.905008 Validation Accuracy: 0.545400\n",
      "Epoch 24, CIFAR-10 Batch 4:  Loss: 1.150787 Validation Accuracy: 0.550200\n",
      "Epoch 24, CIFAR-10 Batch 5:  Loss: 1.269694 Validation Accuracy: 0.542400\n",
      "Epoch 25, CIFAR-10 Batch 1:  Loss: 1.095157 Validation Accuracy: 0.542200\n",
      "Epoch 25, CIFAR-10 Batch 2:  Loss: 0.973691 Validation Accuracy: 0.541400\n",
      "Epoch 25, CIFAR-10 Batch 3:  Loss: 0.888825 Validation Accuracy: 0.552000\n",
      "Epoch 25, CIFAR-10 Batch 4:  Loss: 1.112146 Validation Accuracy: 0.556200\n",
      "Epoch 25, CIFAR-10 Batch 5:  Loss: 1.256907 Validation Accuracy: 0.544800\n",
      "Epoch 26, CIFAR-10 Batch 1:  Loss: 1.081101 Validation Accuracy: 0.545800\n",
      "Epoch 26, CIFAR-10 Batch 2:  Loss: 0.963719 Validation Accuracy: 0.541600\n",
      "Epoch 26, CIFAR-10 Batch 3:  Loss: 0.872670 Validation Accuracy: 0.554400\n",
      "Epoch 26, CIFAR-10 Batch 4:  Loss: 1.086815 Validation Accuracy: 0.560600\n",
      "Epoch 26, CIFAR-10 Batch 5:  Loss: 1.243947 Validation Accuracy: 0.547400\n",
      "Epoch 27, CIFAR-10 Batch 1:  Loss: 1.064668 Validation Accuracy: 0.545600\n",
      "Epoch 27, CIFAR-10 Batch 2:  Loss: 0.950320 Validation Accuracy: 0.548800\n",
      "Epoch 27, CIFAR-10 Batch 3:  Loss: 0.855169 Validation Accuracy: 0.558200\n",
      "Epoch 27, CIFAR-10 Batch 4:  Loss: 1.057553 Validation Accuracy: 0.566000\n",
      "Epoch 27, CIFAR-10 Batch 5:  Loss: 1.220329 Validation Accuracy: 0.554600\n",
      "Epoch 28, CIFAR-10 Batch 1:  Loss: 1.044692 Validation Accuracy: 0.550600\n",
      "Epoch 28, CIFAR-10 Batch 2:  Loss: 0.938355 Validation Accuracy: 0.551600\n",
      "Epoch 28, CIFAR-10 Batch 3:  Loss: 0.838911 Validation Accuracy: 0.564200\n",
      "Epoch 28, CIFAR-10 Batch 4:  Loss: 1.031682 Validation Accuracy: 0.569400\n",
      "Epoch 28, CIFAR-10 Batch 5:  Loss: 1.202399 Validation Accuracy: 0.558400\n",
      "Epoch 29, CIFAR-10 Batch 1:  Loss: 1.033630 Validation Accuracy: 0.554400\n",
      "Epoch 29, CIFAR-10 Batch 2:  Loss: 0.925191 Validation Accuracy: 0.553800\n",
      "Epoch 29, CIFAR-10 Batch 3:  Loss: 0.819706 Validation Accuracy: 0.566800\n",
      "Epoch 29, CIFAR-10 Batch 4:  Loss: 1.019091 Validation Accuracy: 0.573800\n",
      "Epoch 29, CIFAR-10 Batch 5:  Loss: 1.191452 Validation Accuracy: 0.562600\n",
      "Epoch 30, CIFAR-10 Batch 1:  Loss: 1.021177 Validation Accuracy: 0.557200\n",
      "Epoch 30, CIFAR-10 Batch 2:  Loss: 0.916305 Validation Accuracy: 0.555400\n",
      "Epoch 30, CIFAR-10 Batch 3:  Loss: 0.803106 Validation Accuracy: 0.569200\n",
      "Epoch 30, CIFAR-10 Batch 4:  Loss: 0.998775 Validation Accuracy: 0.577600\n",
      "Epoch 30, CIFAR-10 Batch 5:  Loss: 1.177979 Validation Accuracy: 0.566600\n",
      "Epoch 31, CIFAR-10 Batch 1:  Loss: 1.006590 Validation Accuracy: 0.563000\n",
      "Epoch 31, CIFAR-10 Batch 2:  Loss: 0.897868 Validation Accuracy: 0.564000\n",
      "Epoch 31, CIFAR-10 Batch 3:  Loss: 0.785031 Validation Accuracy: 0.569800\n",
      "Epoch 31, CIFAR-10 Batch 4:  Loss: 0.983538 Validation Accuracy: 0.579200\n",
      "Epoch 31, CIFAR-10 Batch 5:  Loss: 1.161411 Validation Accuracy: 0.569200\n",
      "Epoch 32, CIFAR-10 Batch 1:  Loss: 0.997831 Validation Accuracy: 0.565600\n",
      "Epoch 32, CIFAR-10 Batch 2:  Loss: 0.884402 Validation Accuracy: 0.566400\n",
      "Epoch 32, CIFAR-10 Batch 3:  Loss: 0.773862 Validation Accuracy: 0.569800\n",
      "Epoch 32, CIFAR-10 Batch 4:  Loss: 0.962529 Validation Accuracy: 0.582800\n",
      "Epoch 32, CIFAR-10 Batch 5:  Loss: 1.142491 Validation Accuracy: 0.574200\n",
      "Epoch 33, CIFAR-10 Batch 1:  Loss: 0.982291 Validation Accuracy: 0.568800\n",
      "Epoch 33, CIFAR-10 Batch 2:  Loss: 0.873979 Validation Accuracy: 0.571800\n",
      "Epoch 33, CIFAR-10 Batch 3:  Loss: 0.764010 Validation Accuracy: 0.574600\n",
      "Epoch 33, CIFAR-10 Batch 4:  Loss: 0.950736 Validation Accuracy: 0.585600\n",
      "Epoch 33, CIFAR-10 Batch 5:  Loss: 1.120167 Validation Accuracy: 0.577200\n",
      "Epoch 34, CIFAR-10 Batch 1:  Loss: 0.978763 Validation Accuracy: 0.576400\n",
      "Epoch 34, CIFAR-10 Batch 2:  Loss: 0.865077 Validation Accuracy: 0.572000\n",
      "Epoch 34, CIFAR-10 Batch 3:  Loss: 0.753562 Validation Accuracy: 0.576000\n",
      "Epoch 34, CIFAR-10 Batch 4:  Loss: 0.931991 Validation Accuracy: 0.585600\n",
      "Epoch 34, CIFAR-10 Batch 5:  Loss: 1.101845 Validation Accuracy: 0.577600\n",
      "Epoch 35, CIFAR-10 Batch 1:  Loss: 0.967878 Validation Accuracy: 0.578600\n",
      "Epoch 35, CIFAR-10 Batch 2:  Loss: 0.857259 Validation Accuracy: 0.574200\n",
      "Epoch 35, CIFAR-10 Batch 3:  Loss: 0.728784 Validation Accuracy: 0.578600\n",
      "Epoch 35, CIFAR-10 Batch 4:  Loss: 0.923036 Validation Accuracy: 0.582800\n",
      "Epoch 35, CIFAR-10 Batch 5:  Loss: 1.085004 Validation Accuracy: 0.581200\n",
      "Epoch 36, CIFAR-10 Batch 1:  Loss: 0.957275 Validation Accuracy: 0.583000\n",
      "Epoch 36, CIFAR-10 Batch 2:  Loss: 0.852596 Validation Accuracy: 0.575800\n",
      "Epoch 36, CIFAR-10 Batch 3:  Loss: 0.714180 Validation Accuracy: 0.577600\n",
      "Epoch 36, CIFAR-10 Batch 4:  Loss: 0.910124 Validation Accuracy: 0.583800\n",
      "Epoch 36, CIFAR-10 Batch 5:  Loss: 1.059438 Validation Accuracy: 0.582800\n",
      "Epoch 37, CIFAR-10 Batch 1:  Loss: 0.946252 Validation Accuracy: 0.585600\n",
      "Epoch 37, CIFAR-10 Batch 2:  Loss: 0.846979 Validation Accuracy: 0.576600\n",
      "Epoch 37, CIFAR-10 Batch 3:  Loss: 0.705588 Validation Accuracy: 0.577600\n",
      "Epoch 37, CIFAR-10 Batch 4:  Loss: 0.899069 Validation Accuracy: 0.590400\n",
      "Epoch 37, CIFAR-10 Batch 5:  Loss: 1.042820 Validation Accuracy: 0.583200\n",
      "Epoch 38, CIFAR-10 Batch 1:  Loss: 0.941139 Validation Accuracy: 0.588000\n",
      "Epoch 38, CIFAR-10 Batch 2:  Loss: 0.843333 Validation Accuracy: 0.579000\n",
      "Epoch 38, CIFAR-10 Batch 3:  Loss: 0.693960 Validation Accuracy: 0.576800\n",
      "Epoch 38, CIFAR-10 Batch 4:  Loss: 0.892831 Validation Accuracy: 0.591200\n",
      "Epoch 38, CIFAR-10 Batch 5:  Loss: 1.011887 Validation Accuracy: 0.583800\n",
      "Epoch 39, CIFAR-10 Batch 1:  Loss: 0.927205 Validation Accuracy: 0.589400\n",
      "Epoch 39, CIFAR-10 Batch 2:  Loss: 0.834035 Validation Accuracy: 0.584000\n",
      "Epoch 39, CIFAR-10 Batch 3:  Loss: 0.677685 Validation Accuracy: 0.578800\n",
      "Epoch 39, CIFAR-10 Batch 4:  Loss: 0.880445 Validation Accuracy: 0.593600\n",
      "Epoch 39, CIFAR-10 Batch 5:  Loss: 0.998510 Validation Accuracy: 0.587600\n",
      "Epoch 40, CIFAR-10 Batch 1:  Loss: 0.922461 Validation Accuracy: 0.593600\n",
      "Epoch 40, CIFAR-10 Batch 2:  Loss: 0.834627 Validation Accuracy: 0.577600\n",
      "Epoch 40, CIFAR-10 Batch 3:  Loss: 0.668208 Validation Accuracy: 0.582800\n",
      "Epoch 40, CIFAR-10 Batch 4:  Loss: 0.868817 Validation Accuracy: 0.594200\n",
      "Epoch 40, CIFAR-10 Batch 5:  Loss: 0.980784 Validation Accuracy: 0.590200\n",
      "Epoch 41, CIFAR-10 Batch 1:  Loss: 0.903061 Validation Accuracy: 0.593000\n",
      "Epoch 41, CIFAR-10 Batch 2:  Loss: 0.833191 Validation Accuracy: 0.580800\n",
      "Epoch 41, CIFAR-10 Batch 3:  Loss: 0.657747 Validation Accuracy: 0.584400\n",
      "Epoch 41, CIFAR-10 Batch 4:  Loss: 0.857482 Validation Accuracy: 0.594400\n",
      "Epoch 41, CIFAR-10 Batch 5:  Loss: 0.965892 Validation Accuracy: 0.587800\n",
      "Epoch 42, CIFAR-10 Batch 1:  Loss: 0.892842 Validation Accuracy: 0.595600\n",
      "Epoch 42, CIFAR-10 Batch 2:  Loss: 0.836737 Validation Accuracy: 0.581600\n",
      "Epoch 42, CIFAR-10 Batch 3:  Loss: 0.644803 Validation Accuracy: 0.584800\n",
      "Epoch 42, CIFAR-10 Batch 4:  Loss: 0.844902 Validation Accuracy: 0.597000\n",
      "Epoch 42, CIFAR-10 Batch 5:  Loss: 0.949917 Validation Accuracy: 0.590800\n",
      "Epoch 43, CIFAR-10 Batch 1:  Loss: 0.888045 Validation Accuracy: 0.599200\n",
      "Epoch 43, CIFAR-10 Batch 2:  Loss: 0.835990 Validation Accuracy: 0.580200\n",
      "Epoch 43, CIFAR-10 Batch 3:  Loss: 0.630105 Validation Accuracy: 0.585400\n",
      "Epoch 43, CIFAR-10 Batch 4:  Loss: 0.839482 Validation Accuracy: 0.596400\n",
      "Epoch 43, CIFAR-10 Batch 5:  Loss: 0.937771 Validation Accuracy: 0.591200\n",
      "Epoch 44, CIFAR-10 Batch 1:  Loss: 0.884103 Validation Accuracy: 0.599600\n",
      "Epoch 44, CIFAR-10 Batch 2:  Loss: 0.838944 Validation Accuracy: 0.580800\n",
      "Epoch 44, CIFAR-10 Batch 3:  Loss: 0.617382 Validation Accuracy: 0.586800\n",
      "Epoch 44, CIFAR-10 Batch 4:  Loss: 0.828314 Validation Accuracy: 0.601400\n",
      "Epoch 44, CIFAR-10 Batch 5:  Loss: 0.927139 Validation Accuracy: 0.593600\n",
      "Epoch 45, CIFAR-10 Batch 1:  Loss: 0.867908 Validation Accuracy: 0.601400\n",
      "Epoch 45, CIFAR-10 Batch 2:  Loss: 0.829832 Validation Accuracy: 0.581600\n",
      "Epoch 45, CIFAR-10 Batch 3:  Loss: 0.610627 Validation Accuracy: 0.589600\n",
      "Epoch 45, CIFAR-10 Batch 4:  Loss: 0.823578 Validation Accuracy: 0.603000\n",
      "Epoch 45, CIFAR-10 Batch 5:  Loss: 0.917845 Validation Accuracy: 0.593400\n",
      "Epoch 46, CIFAR-10 Batch 1:  Loss: 0.852815 Validation Accuracy: 0.601600\n",
      "Epoch 46, CIFAR-10 Batch 2:  Loss: 0.824322 Validation Accuracy: 0.585400\n",
      "Epoch 46, CIFAR-10 Batch 3:  Loss: 0.604177 Validation Accuracy: 0.592200\n",
      "Epoch 46, CIFAR-10 Batch 4:  Loss: 0.817264 Validation Accuracy: 0.605600\n",
      "Epoch 46, CIFAR-10 Batch 5:  Loss: 0.907266 Validation Accuracy: 0.595800\n",
      "Epoch 47, CIFAR-10 Batch 1:  Loss: 0.842737 Validation Accuracy: 0.603200\n",
      "Epoch 47, CIFAR-10 Batch 2:  Loss: 0.821338 Validation Accuracy: 0.585800\n",
      "Epoch 47, CIFAR-10 Batch 3:  Loss: 0.593985 Validation Accuracy: 0.596600\n",
      "Epoch 47, CIFAR-10 Batch 4:  Loss: 0.805696 Validation Accuracy: 0.606400\n",
      "Epoch 47, CIFAR-10 Batch 5:  Loss: 0.897413 Validation Accuracy: 0.599600\n",
      "Epoch 48, CIFAR-10 Batch 1:  Loss: 0.835375 Validation Accuracy: 0.604600\n",
      "Epoch 48, CIFAR-10 Batch 2:  Loss: 0.813219 Validation Accuracy: 0.587800\n",
      "Epoch 48, CIFAR-10 Batch 3:  Loss: 0.584092 Validation Accuracy: 0.599000\n",
      "Epoch 48, CIFAR-10 Batch 4:  Loss: 0.800071 Validation Accuracy: 0.606800\n",
      "Epoch 48, CIFAR-10 Batch 5:  Loss: 0.891130 Validation Accuracy: 0.600200\n",
      "Epoch 49, CIFAR-10 Batch 1:  Loss: 0.830575 Validation Accuracy: 0.604400\n",
      "Epoch 49, CIFAR-10 Batch 2:  Loss: 0.813317 Validation Accuracy: 0.592000\n",
      "Epoch 49, CIFAR-10 Batch 3:  Loss: 0.577675 Validation Accuracy: 0.600800\n",
      "Epoch 49, CIFAR-10 Batch 4:  Loss: 0.788636 Validation Accuracy: 0.607200\n",
      "Epoch 49, CIFAR-10 Batch 5:  Loss: 0.877545 Validation Accuracy: 0.604400\n",
      "Epoch 50, CIFAR-10 Batch 1:  Loss: 0.818137 Validation Accuracy: 0.607600\n",
      "Epoch 50, CIFAR-10 Batch 2:  Loss: 0.810128 Validation Accuracy: 0.592400\n",
      "Epoch 50, CIFAR-10 Batch 3:  Loss: 0.562727 Validation Accuracy: 0.603800\n",
      "Epoch 50, CIFAR-10 Batch 4:  Loss: 0.781205 Validation Accuracy: 0.609400\n",
      "Epoch 50, CIFAR-10 Batch 5:  Loss: 0.866868 Validation Accuracy: 0.604000\n",
      "Epoch 51, CIFAR-10 Batch 1:  Loss: 0.804004 Validation Accuracy: 0.606600\n",
      "Epoch 51, CIFAR-10 Batch 2:  Loss: 0.804398 Validation Accuracy: 0.593000\n",
      "Epoch 51, CIFAR-10 Batch 3:  Loss: 0.557603 Validation Accuracy: 0.603800\n",
      "Epoch 51, CIFAR-10 Batch 4:  Loss: 0.779174 Validation Accuracy: 0.608400\n",
      "Epoch 51, CIFAR-10 Batch 5:  Loss: 0.855761 Validation Accuracy: 0.605600\n",
      "Epoch 52, CIFAR-10 Batch 1:  Loss: 0.799047 Validation Accuracy: 0.607600\n",
      "Epoch 52, CIFAR-10 Batch 2:  Loss: 0.802400 Validation Accuracy: 0.592600\n",
      "Epoch 52, CIFAR-10 Batch 3:  Loss: 0.555530 Validation Accuracy: 0.602200\n",
      "Epoch 52, CIFAR-10 Batch 4:  Loss: 0.770009 Validation Accuracy: 0.608800\n",
      "Epoch 52, CIFAR-10 Batch 5:  Loss: 0.840678 Validation Accuracy: 0.606000\n",
      "Epoch 53, CIFAR-10 Batch 1:  Loss: 0.784042 Validation Accuracy: 0.609200\n",
      "Epoch 53, CIFAR-10 Batch 2:  Loss: 0.791054 Validation Accuracy: 0.594800\n",
      "Epoch 53, CIFAR-10 Batch 3:  Loss: 0.542543 Validation Accuracy: 0.601600\n",
      "Epoch 53, CIFAR-10 Batch 4:  Loss: 0.758856 Validation Accuracy: 0.609000\n",
      "Epoch 53, CIFAR-10 Batch 5:  Loss: 0.831171 Validation Accuracy: 0.605800\n",
      "Epoch 54, CIFAR-10 Batch 1:  Loss: 0.775530 Validation Accuracy: 0.607400\n",
      "Epoch 54, CIFAR-10 Batch 2:  Loss: 0.797143 Validation Accuracy: 0.591600\n",
      "Epoch 54, CIFAR-10 Batch 3:  Loss: 0.532630 Validation Accuracy: 0.603400\n",
      "Epoch 54, CIFAR-10 Batch 4:  Loss: 0.757356 Validation Accuracy: 0.608200\n",
      "Epoch 54, CIFAR-10 Batch 5:  Loss: 0.819133 Validation Accuracy: 0.608400\n",
      "Epoch 55, CIFAR-10 Batch 1:  Loss: 0.768348 Validation Accuracy: 0.607600\n",
      "Epoch 55, CIFAR-10 Batch 2:  Loss: 0.791306 Validation Accuracy: 0.593600\n",
      "Epoch 55, CIFAR-10 Batch 3:  Loss: 0.533957 Validation Accuracy: 0.602600\n",
      "Epoch 55, CIFAR-10 Batch 4:  Loss: 0.747205 Validation Accuracy: 0.610200\n",
      "Epoch 55, CIFAR-10 Batch 5:  Loss: 0.808190 Validation Accuracy: 0.611000\n",
      "Epoch 56, CIFAR-10 Batch 1:  Loss: 0.762664 Validation Accuracy: 0.609400\n",
      "Epoch 56, CIFAR-10 Batch 2:  Loss: 0.790094 Validation Accuracy: 0.597400\n",
      "Epoch 56, CIFAR-10 Batch 3:  Loss: 0.529585 Validation Accuracy: 0.603800\n",
      "Epoch 56, CIFAR-10 Batch 4:  Loss: 0.742789 Validation Accuracy: 0.610400\n",
      "Epoch 56, CIFAR-10 Batch 5:  Loss: 0.797562 Validation Accuracy: 0.613200\n",
      "Epoch 57, CIFAR-10 Batch 1:  Loss: 0.753417 Validation Accuracy: 0.607800\n",
      "Epoch 57, CIFAR-10 Batch 2:  Loss: 0.784180 Validation Accuracy: 0.603200\n",
      "Epoch 57, CIFAR-10 Batch 3:  Loss: 0.528078 Validation Accuracy: 0.601400\n",
      "Epoch 57, CIFAR-10 Batch 4:  Loss: 0.740371 Validation Accuracy: 0.610000\n",
      "Epoch 57, CIFAR-10 Batch 5:  Loss: 0.792470 Validation Accuracy: 0.611400\n",
      "Epoch 58, CIFAR-10 Batch 1:  Loss: 0.745417 Validation Accuracy: 0.608800\n",
      "Epoch 58, CIFAR-10 Batch 2:  Loss: 0.782305 Validation Accuracy: 0.602800\n",
      "Epoch 58, CIFAR-10 Batch 3:  Loss: 0.523219 Validation Accuracy: 0.602400\n",
      "Epoch 58, CIFAR-10 Batch 4:  Loss: 0.734219 Validation Accuracy: 0.608600\n",
      "Epoch 58, CIFAR-10 Batch 5:  Loss: 0.786844 Validation Accuracy: 0.611800\n",
      "Epoch 59, CIFAR-10 Batch 1:  Loss: 0.740226 Validation Accuracy: 0.611200\n",
      "Epoch 59, CIFAR-10 Batch 2:  Loss: 0.774157 Validation Accuracy: 0.606000\n",
      "Epoch 59, CIFAR-10 Batch 3:  Loss: 0.522919 Validation Accuracy: 0.602800\n",
      "Epoch 59, CIFAR-10 Batch 4:  Loss: 0.730892 Validation Accuracy: 0.606800\n",
      "Epoch 59, CIFAR-10 Batch 5:  Loss: 0.781921 Validation Accuracy: 0.611600\n",
      "Epoch 60, CIFAR-10 Batch 1:  Loss: 0.735026 Validation Accuracy: 0.611600\n",
      "Epoch 60, CIFAR-10 Batch 2:  Loss: 0.771237 Validation Accuracy: 0.609400\n",
      "Epoch 60, CIFAR-10 Batch 3:  Loss: 0.522855 Validation Accuracy: 0.601600\n",
      "Epoch 60, CIFAR-10 Batch 4:  Loss: 0.728308 Validation Accuracy: 0.607600\n",
      "Epoch 60, CIFAR-10 Batch 5:  Loss: 0.775907 Validation Accuracy: 0.612400\n"
     ]
    }
   ],
   "source": [
    "\"\"\"\n",
    "DON'T MODIFY ANYTHING IN THIS CELL\n",
    "\"\"\"\n",
    "save_model_path = './image_classification'\n",
    "\n",
    "print('Training...')\n",
    "with tf.Session() as sess:\n",
    "    # Initializing the variables\n",
    "    sess.run(tf.global_variables_initializer())\n",
    "    \n",
    "    # Training cycle\n",
    "    for epoch in range(epochs):\n",
    "        # Loop over all batches\n",
    "        n_batches = 5\n",
    "        for batch_i in range(1, n_batches + 1):\n",
    "            for batch_features, batch_labels in helper.load_preprocess_training_batch(batch_i, batch_size):\n",
    "                train_neural_network(sess, optimizer, keep_probability, batch_features, batch_labels)\n",
    "            print('Epoch {:>2}, CIFAR-10 Batch {}:  '.format(epoch + 1, batch_i), end='')\n",
    "            print_stats(sess, batch_features, batch_labels, cost, accuracy)\n",
    "            \n",
    "    # Save Model\n",
    "    saver = tf.train.Saver()\n",
    "    save_path = saver.save(sess, save_model_path)"
   ]
  },
  {
   "cell_type": "markdown",
   "metadata": {
    "deletable": true,
    "editable": true
   },
   "source": [
    "# Checkpoint\n",
    "The model has been saved to disk.\n",
    "## Test Model\n",
    "Test your model against the test dataset.  This will be your final accuracy. You should have an accuracy greater than 50%. If you don't, keep tweaking the model architecture and parameters."
   ]
  },
  {
   "cell_type": "code",
   "execution_count": 18,
   "metadata": {
    "collapsed": false,
    "deletable": true,
    "editable": true
   },
   "outputs": [
    {
     "name": "stdout",
     "output_type": "stream",
     "text": [
      "Testing Accuracy: 0.6146484375\n",
      "\n"
     ]
    },
    {
     "data": {
      "image/png": "[encoded data removed]",
      "text/plain": [
       "<matplotlib.figure.Figure at 0x7f9a945f1be0>"
      ]
     },
     "metadata": {
      "image/png": {
       "height": 319,
       "width": 355
      }
     },
     "output_type": "display_data"
    }
   ],
   "source": [
    "\"\"\"\n",
    "DON'T MODIFY ANYTHING IN THIS CELL\n",
    "\"\"\"\n",
    "%matplotlib inline\n",
    "%config InlineBackend.figure_format = 'retina'\n",
    "\n",
    "import tensorflow as tf\n",
    "import pickle\n",
    "import helper\n",
    "import random\n",
    "\n",
    "# Set batch size if not already set\n",
    "try:\n",
    "    if batch_size:\n",
    "        pass\n",
    "except NameError:\n",
    "    batch_size = 64\n",
    "\n",
    "save_model_path = './image_classification'\n",
    "n_samples = 4\n",
    "top_n_predictions = 3\n",
    "\n",
    "def test_model():\n",
    "    \"\"\"\n",
    "    Test the saved model against the test dataset\n",
    "    \"\"\"\n",
    "\n",
    "    test_features, test_labels = pickle.load(open('preprocess_test.p', mode='rb'))\n",
    "    loaded_graph = tf.Graph()\n",
    "\n",
    "    with tf.Session(graph=loaded_graph) as sess:\n",
    "        # Load model\n",
    "        loader = tf.train.import_meta_graph(save_model_path + '.meta')\n",
    "        loader.restore(sess, save_model_path)\n",
    "\n",
    "        # Get Tensors from loaded model\n",
    "        loaded_x = loaded_graph.get_tensor_by_name('x:0')\n",
    "        loaded_y = loaded_graph.get_tensor_by_name('y:0')\n",
    "        loaded_keep_prob = loaded_graph.get_tensor_by_name('keep_prob:0')\n",
    "        loaded_logits = loaded_graph.get_tensor_by_name('logits:0')\n",
    "        loaded_acc = loaded_graph.get_tensor_by_name('accuracy:0')\n",
    "        \n",
    "        # Get accuracy in batches for memory limitations\n",
    "        test_batch_acc_total = 0\n",
    "        test_batch_count = 0\n",
    "        \n",
    "        for test_feature_batch, test_label_batch in helper.batch_features_labels(test_features, test_labels, batch_size):\n",
    "            test_batch_acc_total += sess.run(\n",
    "                loaded_acc,\n",
    "                feed_dict={loaded_x: test_feature_batch, loaded_y: test_label_batch, loaded_keep_prob: 1.0})\n",
    "            test_batch_count += 1\n",
    "\n",
    "        print('Testing Accuracy: {}\\n'.format(test_batch_acc_total/test_batch_count))\n",
    "\n",
    "        # Print Random Samples\n",
    "        random_test_features, random_test_labels = tuple(zip(*random.sample(list(zip(test_features, test_labels)), n_samples)))\n",
    "        random_test_predictions = sess.run(\n",
    "            tf.nn.top_k(tf.nn.softmax(loaded_logits), top_n_predictions),\n",
    "            feed_dict={loaded_x: random_test_features, loaded_y: random_test_labels, loaded_keep_prob: 1.0})\n",
    "        helper.display_image_predictions(random_test_features, random_test_labels, random_test_predictions)\n",
    "\n",
    "\n",
    "test_model()"
   ]
  },
  {
   "cell_type": "markdown",
   "metadata": {
    "deletable": true,
    "editable": true
   },
   "source": [
    "## Why 50-80% Accuracy?\n",
    "You might be wondering why you can't get an accuracy any higher. First things first, 50% isn't bad for a simple CNN.  Pure guessing would get you 10% accuracy. However, you might notice people are getting scores [well above 80%](http://rodrigob.github.io/are_we_there_yet/build/classification_datasets_results.html#43494641522d3130).  That's because we haven't taught you all there is to know about neural networks. We still need to cover a few more techniques.\n",
    "## Submitting This Project\n",
    "When submitting this project, make sure to run all the cells before saving the notebook.  Save the notebook file as \"dlnd_image_classification.ipynb\" and save it as a HTML file under \"File\" -> \"Download as\".  Include the \"helper.py\" and \"problem_unittests.py\" files in your submission."
   ]
  }
 ],
 "metadata": {
  "kernelspec": {
   "display_name": "Python 3",
   "language": "python",
   "name": "python3"
  },
  "language_info": {
   "codemirror_mode": {
    "name": "ipython",
    "version": 3
   },
   "file_extension": ".py",
   "mimetype": "text/x-python",
   "name": "python",
   "nbconvert_exporter": "python",
   "pygments_lexer": "ipython3",
   "version": "3.5.2"
  },
  "widgets": {
   "state": {},
   "version": "1.1.2"
  }
 },
 "nbformat": 4,
 "nbformat_minor": 1
}
