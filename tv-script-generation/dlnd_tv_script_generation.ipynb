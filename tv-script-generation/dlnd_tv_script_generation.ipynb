{
 "cells": [
  {
   "cell_type": "markdown",
   "metadata": {},
   "source": [
    "# TV Script Generation\n",
    "In this project, you'll generate your own [Simpsons](https://en.wikipedia.org/wiki/The_Simpsons) TV scripts using RNNs.  You'll be using part of the [Simpsons dataset](https://www.kaggle.com/wcukierski/the-simpsons-by-the-data) of scripts from 27 seasons.  The Neural Network you'll build will generate a new TV script for a scene at [Moe's Tavern](https://simpsonswiki.com/wiki/Moe's_Tavern).\n",
    "## Get the Data\n",
    "The data is already provided for you.  You'll be using a subset of the original dataset.  It consists of only the scenes in Moe's Tavern.  This doesn't include other versions of the tavern, like \"Moe's Cavern\", \"Flaming Moe's\", \"Uncle Moe's Family Feed-Bag\", etc.."
   ]
  },
  {
   "cell_type": "code",
   "execution_count": 1,
   "metadata": {
    "collapsed": true
   },
   "outputs": [],
   "source": [
    "\"\"\"\n",
    "DON'T MODIFY ANYTHING IN THIS CELL\n",
    "\"\"\"\n",
    "import helper\n",
    "\n",
    "data_dir = './data/simpsons/moes_tavern_lines.txt'\n",
    "text = helper.load_data(data_dir)\n",
    "# Ignore notice, since we don't use it for analysing the data\n",
    "text = text[81:]"
   ]
  },
  {
   "cell_type": "markdown",
   "metadata": {},
   "source": [
    "## Explore the Data\n",
    "Play around with `view_sentence_range` to view different parts of the data."
   ]
  },
  {
   "cell_type": "code",
   "execution_count": 2,
   "metadata": {},
   "outputs": [
    {
     "name": "stdout",
     "output_type": "stream",
     "text": [
      "Dataset Stats\n",
      "Roughly the number of unique words: 11492\n",
      "Number of scenes: 262\n",
      "Average number of sentences in each scene: 15.248091603053435\n",
      "Number of lines: 4257\n",
      "Average number of words in each line: 11.50434578341555\n",
      "\n",
      "The sentences 0 to 10:\n",
      "Moe_Szyslak: (INTO PHONE) Moe's Tavern. Where the elite meet to drink.\n",
      "Bart_Simpson: Eh, yeah, hello, is Mike there? Last name, Rotch.\n",
      "Moe_Szyslak: (INTO PHONE) Hold on, I'll check. (TO BARFLIES) Mike Rotch. Mike Rotch. Hey, has anybody seen Mike Rotch, lately?\n",
      "Moe_Szyslak: (INTO PHONE) Listen you little puke. One of these days I'm gonna catch you, and I'm gonna carve my name on your back with an ice pick.\n",
      "Moe_Szyslak: What's the matter Homer? You're not your normal effervescent self.\n",
      "Homer_Simpson: I got my problems, Moe. Give me another one.\n",
      "Moe_Szyslak: Homer, hey, you should not drink to forget your problems.\n",
      "Barney_Gumble: Yeah, you should only drink to enhance your social skills.\n",
      "\n",
      "\n"
     ]
    }
   ],
   "source": [
    "view_sentence_range = (0, 10)\n",
    "\n",
    "\"\"\"\n",
    "DON'T MODIFY ANYTHING IN THIS CELL\n",
    "\"\"\"\n",
    "import numpy as np\n",
    "\n",
    "print('Dataset Stats')\n",
    "print('Roughly the number of unique words: {}'.format(len({word: None for word in text.split()})))\n",
    "scenes = text.split('\\n\\n')\n",
    "print('Number of scenes: {}'.format(len(scenes)))\n",
    "sentence_count_scene = [scene.count('\\n') for scene in scenes]\n",
    "print('Average number of sentences in each scene: {}'.format(np.average(sentence_count_scene)))\n",
    "\n",
    "sentences = [sentence for scene in scenes for sentence in scene.split('\\n')]\n",
    "print('Number of lines: {}'.format(len(sentences)))\n",
    "word_count_sentence = [len(sentence.split()) for sentence in sentences]\n",
    "print('Average number of words in each line: {}'.format(np.average(word_count_sentence)))\n",
    "\n",
    "print()\n",
    "print('The sentences {} to {}:'.format(*view_sentence_range))\n",
    "print('\\n'.join(text.split('\\n')[view_sentence_range[0]:view_sentence_range[1]]))"
   ]
  },
  {
   "cell_type": "markdown",
   "metadata": {},
   "source": [
    "## Implement Preprocessing Functions\n",
    "The first thing to do to any dataset is preprocessing.  Implement the following preprocessing functions below:\n",
    "- Lookup Table\n",
    "- Tokenize Punctuation\n",
    "\n",
    "### Lookup Table\n",
    "To create a word embedding, you first need to transform the words to ids.  In this function, create two dictionaries:\n",
    "- Dictionary to go from the words to an id, we'll call `vocab_to_int`\n",
    "- Dictionary to go from the id to word, we'll call `int_to_vocab`\n",
    "\n",
    "Return these dictionaries in the following tuple `(vocab_to_int, int_to_vocab)`"
   ]
  },
  {
   "cell_type": "code",
   "execution_count": 3,
   "metadata": {},
   "outputs": [
    {
     "name": "stdout",
     "output_type": "stream",
     "text": [
      "Tests Passed\n"
     ]
    }
   ],
   "source": [
    "import numpy as np\n",
    "import problem_unittests as tests\n",
    "\n",
    "def create_lookup_tables(text):\n",
    "    \"\"\"\n",
    "    Create lookup tables for vocabulary\n",
    "    :param text: The text of tv scripts split into words\n",
    "    :return: A tuple of dicts (vocab_to_int, int_to_vocab)\n",
    "    \"\"\"\n",
    "    vocab_to_int = {}\n",
    "    int_to_vocab = {}\n",
    "    for i, w in enumerate(set(text)):\n",
    "        vocab_to_int[w] = i\n",
    "        int_to_vocab[i] = w\n",
    "    \n",
    "    return vocab_to_int, int_to_vocab\n",
    "\n",
    "\n",
    "\"\"\"\n",
    "DON'T MODIFY ANYTHING IN THIS CELL THAT IS BELOW THIS LINE\n",
    "\"\"\"\n",
    "tests.test_create_lookup_tables(create_lookup_tables)"
   ]
  },
  {
   "cell_type": "markdown",
   "metadata": {},
   "source": [
    "### Tokenize Punctuation\n",
    "We'll be splitting the script into a word array using spaces as delimiters.  However, punctuations like periods and exclamation marks make it hard for the neural network to distinguish between the word \"bye\" and \"bye!\".\n",
    "\n",
    "Implement the function `token_lookup` to return a dict that will be used to tokenize symbols like \"!\" into \"||Exclamation_Mark||\".  Create a dictionary for the following symbols where the symbol is the key and value is the token:\n",
    "- Period ( . )\n",
    "- Comma ( , )\n",
    "- Quotation Mark ( \" )\n",
    "- Semicolon ( ; )\n",
    "- Exclamation mark ( ! )\n",
    "- Question mark ( ? )\n",
    "- Left Parentheses ( ( )\n",
    "- Right Parentheses ( ) )\n",
    "- Dash ( -- )\n",
    "- Return ( \\n )\n",
    "\n",
    "This dictionary will be used to token the symbols and add the delimiter (space) around it.  This separates the symbols as it's own word, making it easier for the neural network to predict on the next word. Make sure you don't use a token that could be confused as a word. Instead of using the token \"dash\", try using something like \"||dash||\"."
   ]
  },
  {
   "cell_type": "code",
   "execution_count": 4,
   "metadata": {},
   "outputs": [
    {
     "name": "stdout",
     "output_type": "stream",
     "text": [
      "Tests Passed\n"
     ]
    }
   ],
   "source": [
    "def token_lookup():\n",
    "    \"\"\"\n",
    "    Generate a dict to turn punctuation into a token.\n",
    "    :return: Tokenize dictionary where the key is the punctuation and the value is the token\n",
    "    \"\"\"\n",
    "    token_dict = {}\n",
    "    token_dict['.'] = '||PERIOD||'\n",
    "    token_dict[','] = '||COMMA||'\n",
    "    token_dict['\"'] = '||QUOTATION_MARK||'\n",
    "    token_dict[';'] = '||SEMICOLON||'\n",
    "    token_dict['!'] = '||EXCLAMATION_MARK||'\n",
    "    token_dict['?'] = '||QUESTION_MARK||'\n",
    "    token_dict['('] = '||LEFT_PAREN||'\n",
    "    token_dict[')'] = '||RIGHT_PAREN||'\n",
    "    token_dict['--'] = '||HYPHENS||'\n",
    "    token_dict['?'] = '||QUESTION_MARK||'\n",
    "    token_dict['\\n'] = '||NEW_LINE||'\n",
    "    \n",
    "    return token_dict\n",
    "\n",
    "\"\"\"\n",
    "DON'T MODIFY ANYTHING IN THIS CELL THAT IS BELOW THIS LINE\n",
    "\"\"\"\n",
    "tests.test_tokenize(token_lookup)"
   ]
  },
  {
   "cell_type": "markdown",
   "metadata": {},
   "source": [
    "## Preprocess all the data and save it\n",
    "Running the code cell below will preprocess all the data and save it to file."
   ]
  },
  {
   "cell_type": "code",
   "execution_count": 5,
   "metadata": {
    "collapsed": true
   },
   "outputs": [],
   "source": [
    "\"\"\"\n",
    "DON'T MODIFY ANYTHING IN THIS CELL\n",
    "\"\"\"\n",
    "# Preprocess Training, Validation, and Testing Data\n",
    "helper.preprocess_and_save_data(data_dir, token_lookup, create_lookup_tables)"
   ]
  },
  {
   "cell_type": "markdown",
   "metadata": {},
   "source": [
    "# Check Point\n",
    "This is your first checkpoint. If you ever decide to come back to this notebook or have to restart the notebook, you can start from here. The preprocessed data has been saved to disk."
   ]
  },
  {
   "cell_type": "code",
   "execution_count": 6,
   "metadata": {
    "collapsed": true
   },
   "outputs": [],
   "source": [
    "\"\"\"\n",
    "DON'T MODIFY ANYTHING IN THIS CELL\n",
    "\"\"\"\n",
    "import helper\n",
    "import numpy as np\n",
    "import problem_unittests as tests\n",
    "\n",
    "int_text, vocab_to_int, int_to_vocab, token_dict = helper.load_preprocess()"
   ]
  },
  {
   "cell_type": "code",
   "execution_count": 7,
   "metadata": {},
   "outputs": [
    {
     "name": "stdout",
     "output_type": "stream",
     "text": [
      "[('e', 23342), ('o', 18614), ('a', 15055), ('t', 14037), ('n', 13220), ('s', 11556), ('r', 11511), ('i', 10922), ('h', 9096), ('l', 8889)]\n"
     ]
    }
   ],
   "source": [
    "from collections import Counter\n",
    "\n",
    "wc = Counter(' '.join(text).split()[:-10])\n",
    "\n",
    "print(wc.most_common(10))"
   ]
  },
  {
   "cell_type": "markdown",
   "metadata": {},
   "source": [
    "## Build the Neural Network\n",
    "You'll build the components necessary to build a RNN by implementing the following functions below:\n",
    "- get_inputs\n",
    "- get_init_cell\n",
    "- get_embed\n",
    "- build_rnn\n",
    "- build_nn\n",
    "- get_batches\n",
    "\n",
    "### Check the Version of TensorFlow and Access to GPU"
   ]
  },
  {
   "cell_type": "code",
   "execution_count": 8,
   "metadata": {},
   "outputs": [
    {
     "name": "stdout",
     "output_type": "stream",
     "text": [
      "TensorFlow Version: 1.0.1\n",
      "Default GPU Device: /gpu:0\n"
     ]
    }
   ],
   "source": [
    "\"\"\"\n",
    "DON'T MODIFY ANYTHING IN THIS CELL\n",
    "\"\"\"\n",
    "from distutils.version import LooseVersion\n",
    "import warnings\n",
    "import tensorflow as tf\n",
    "\n",
    "# Check TensorFlow Version\n",
    "assert LooseVersion(tf.__version__) >= LooseVersion('1.0'), 'Please use TensorFlow version 1.0 or newer'\n",
    "print('TensorFlow Version: {}'.format(tf.__version__))\n",
    "\n",
    "# Check for a GPU\n",
    "if not tf.test.gpu_device_name():\n",
    "    warnings.warn('No GPU found. Please use a GPU to train your neural network.')\n",
    "else:\n",
    "    print('Default GPU Device: {}'.format(tf.test.gpu_device_name()))"
   ]
  },
  {
   "cell_type": "markdown",
   "metadata": {},
   "source": [
    "### Input\n",
    "Implement the `get_inputs()` function to create TF Placeholders for the Neural Network.  It should create the following placeholders:\n",
    "- Input text placeholder named \"input\" using the [TF Placeholder](https://www.tensorflow.org/api_docs/python/tf/placeholder) `name` parameter.\n",
    "- Targets placeholder\n",
    "- Learning Rate placeholder\n",
    "\n",
    "Return the placeholders in the following tuple `(Input, Targets, LearningRate)`"
   ]
  },
  {
   "cell_type": "code",
   "execution_count": 9,
   "metadata": {},
   "outputs": [
    {
     "name": "stdout",
     "output_type": "stream",
     "text": [
      "Tests Passed\n"
     ]
    }
   ],
   "source": [
    "def get_inputs():\n",
    "    \"\"\"\n",
    "    Create TF Placeholders for input, targets, and learning rate.\n",
    "    :return: Tuple (input, targets, learning rate)\n",
    "    \"\"\"\n",
    "    inputs_ = tf.placeholder(tf.int32, [None, None], name='input')\n",
    "    targets_ = tf.placeholder(tf.int32, [None, None], name='targets')\n",
    "    lr_ = tf.placeholder(tf.float32, None, name='learn_rate')\n",
    "    # TODO: Implement Function\n",
    "    return inputs_, targets_, lr_\n",
    "\n",
    "\n",
    "\"\"\"\n",
    "DON'T MODIFY ANYTHING IN THIS CELL THAT IS BELOW THIS LINE\n",
    "\"\"\"\n",
    "tests.test_get_inputs(get_inputs)"
   ]
  },
  {
   "cell_type": "markdown",
   "metadata": {},
   "source": [
    "### Build RNN Cell and Initialize\n",
    "Stack one or more [`BasicLSTMCells`](https://www.tensorflow.org/api_docs/python/tf/contrib/rnn/BasicLSTMCell) in a [`MultiRNNCell`](https://www.tensorflow.org/api_docs/python/tf/contrib/rnn/MultiRNNCell).\n",
    "- The Rnn size should be set using `rnn_size`\n",
    "- Initalize Cell State using the MultiRNNCell's [`zero_state()`](https://www.tensorflow.org/api_docs/python/tf/contrib/rnn/MultiRNNCell#zero_state) function\n",
    "    - Apply the name \"initial_state\" to the initial state using [`tf.identity()`](https://www.tensorflow.org/api_docs/python/tf/identity)\n",
    "\n",
    "Return the cell and initial state in the following tuple `(Cell, InitialState)`"
   ]
  },
  {
   "cell_type": "code",
   "execution_count": 10,
   "metadata": {},
   "outputs": [
    {
     "name": "stdout",
     "output_type": "stream",
     "text": [
      "Tests Passed\n"
     ]
    }
   ],
   "source": [
    "def create_cell(lstm_size, keep_prob):\n",
    "     # Your basic LSTM cell\n",
    "    lstm = tf.contrib.rnn.BasicLSTMCell(lstm_size)\n",
    "    \n",
    "    return lstm\n",
    "    \n",
    "    if keep_prob >= 1.0:\n",
    "        return lstm\n",
    "    \n",
    "    # Add dropout to the cell\n",
    "    return tf.contrib.rnn.DropoutWrapper(lstm, output_keep_prob=keep_prob)\n",
    "\n",
    "\n",
    "def get_init_cell(batch_size, rnn_size, lstm_layers = 2, keep_prob=0.98):\n",
    "    \"\"\"\n",
    "    Create an RNN Cell and initialize it.\n",
    "    :param batch_size: Size of batches\n",
    "    :param rnn_size: Size of RNNs\n",
    "    :param lstm_layers: Number of layers of LSTM Cells\n",
    "    :param keep_prob: Keep Probality for dropouts\n",
    "    :return: Tuple (cell, initialize state)\n",
    "    \"\"\"\n",
    "    # Stack up multiple LSTM layers, for deep learning\n",
    "    cell = tf.contrib.rnn.MultiRNNCell([create_cell(rnn_size, keep_prob) for c in range(lstm_layers)])\n",
    "    \n",
    "    # Getting an initial state of all zeros\n",
    "    initial_state = cell.zero_state(batch_size, tf.float32)\n",
    "    \n",
    "    # Name our initial state\n",
    "    initial_state = tf.identity(initial_state, name='initial_state')\n",
    "    \n",
    "    \n",
    "    return cell, initial_state\n",
    "\n",
    "\n",
    "\"\"\"\n",
    "DON'T MODIFY ANYTHING IN THIS CELL THAT IS BELOW THIS LINE\n",
    "\"\"\"\n",
    "tests.test_get_init_cell(get_init_cell)"
   ]
  },
  {
   "cell_type": "markdown",
   "metadata": {},
   "source": [
    "### Word Embedding\n",
    "Apply embedding to `input_data` using TensorFlow.  Return the embedded sequence."
   ]
  },
  {
   "cell_type": "code",
   "execution_count": 11,
   "metadata": {},
   "outputs": [
    {
     "name": "stdout",
     "output_type": "stream",
     "text": [
      "Tests Passed\n"
     ]
    }
   ],
   "source": [
    "def get_embed(input_data, vocab_size, embed_dim):\n",
    "    \"\"\"\n",
    "    Create embedding for <input_data>.\n",
    "    :param input_data: TF placeholder for text input.\n",
    "    :param vocab_size: Number of words in vocabulary.\n",
    "    :param embed_dim: Number of embedding dimensions\n",
    "    :return: Embedded input.\n",
    "    \"\"\"    \n",
    "    embedding = tf.Variable(tf.random_uniform((vocab_size, embed_dim), -1, 1))\n",
    "    return tf.nn.embedding_lookup(embedding, input_data)\n",
    "    \n",
    "\n",
    "\n",
    "\"\"\"\n",
    "DON'T MODIFY ANYTHING IN THIS CELL THAT IS BELOW THIS LINE\n",
    "\"\"\"\n",
    "tests.test_get_embed(get_embed)"
   ]
  },
  {
   "cell_type": "markdown",
   "metadata": {},
   "source": [
    "### Build RNN\n",
    "You created a RNN Cell in the `get_init_cell()` function.  Time to use the cell to create a RNN.\n",
    "- Build the RNN using the [`tf.nn.dynamic_rnn()`](https://www.tensorflow.org/api_docs/python/tf/nn/dynamic_rnn)\n",
    " - Apply the name \"final_state\" to the final state using [`tf.identity()`](https://www.tensorflow.org/api_docs/python/tf/identity)\n",
    "\n",
    "Return the outputs and final_state state in the following tuple `(Outputs, FinalState)` "
   ]
  },
  {
   "cell_type": "code",
   "execution_count": 12,
   "metadata": {},
   "outputs": [
    {
     "name": "stdout",
     "output_type": "stream",
     "text": [
      "Tests Passed\n"
     ]
    }
   ],
   "source": [
    "def build_rnn(cell, inputs):\n",
    "    \"\"\"\n",
    "    Create a RNN using a RNN Cell\n",
    "    :param cell: RNN Cell\n",
    "    :param inputs: Input text data\n",
    "    :return: Tuple (Outputs, Final State)\n",
    "    \"\"\"\n",
    "    out, state = tf.nn.dynamic_rnn(cell, inputs, None, dtype=tf.float32)\n",
    "    return out, tf.identity(state, name='final_state')\n",
    "\n",
    "\n",
    "\"\"\"\n",
    "DON'T MODIFY ANYTHING IN THIS CELL THAT IS BELOW THIS LINE\n",
    "\"\"\"\n",
    "tests.test_build_rnn(build_rnn)"
   ]
  },
  {
   "cell_type": "markdown",
   "metadata": {},
   "source": [
    "### Build the Neural Network\n",
    "Apply the functions you implemented above to:\n",
    "- Apply embedding to `input_data` using your `get_embed(input_data, vocab_size, embed_dim)` function.\n",
    "- Build RNN using `cell` and your `build_rnn(cell, inputs)` function.\n",
    "- Apply a fully connected layer with a linear activation and `vocab_size` as the number of outputs.\n",
    "\n",
    "Return the logits and final state in the following tuple (Logits, FinalState) "
   ]
  },
  {
   "cell_type": "code",
   "execution_count": 13,
   "metadata": {},
   "outputs": [
    {
     "name": "stdout",
     "output_type": "stream",
     "text": [
      "Tests Passed\n"
     ]
    }
   ],
   "source": [
    "def build_nn(cell, rnn_size, input_data, vocab_size, embed_dim):\n",
    "    \"\"\"\n",
    "    Build part of the neural network\n",
    "    :param cell: RNN cell\n",
    "    :param rnn_size: Size of rnns\n",
    "    :param input_data: Input data\n",
    "    :param vocab_size: Vocabulary size\n",
    "    :param embed_dim: Number of embedding dimensions\n",
    "    :return: Tuple (Logits, FinalState)\n",
    "    \"\"\"\n",
    "    embedding = get_embed(input_data, vocab_size, embed_dim)\n",
    "    outputs, final_state = build_rnn(cell, embedding)\n",
    "    \n",
    "    w_init = tf.truncated_normal_initializer(stddev=0.1)\n",
    "    \n",
    "    logits = tf.contrib.layers.fully_connected(inputs=outputs, \n",
    "                                               num_outputs=vocab_size, \n",
    "                                               activation_fn=None,\n",
    "                                               weights_initializer=w_init\n",
    "                                              )\n",
    "    return logits, final_state\n",
    "\n",
    "\n",
    "\"\"\"\n",
    "DON'T MODIFY ANYTHING IN THIS CELL THAT IS BELOW THIS LINE\n",
    "\"\"\"\n",
    "tests.test_build_nn(build_nn)"
   ]
  },
  {
   "cell_type": "markdown",
   "metadata": {},
   "source": [
    "### Batches\n",
    "Implement `get_batches` to create batches of input and targets using `int_text`.  The batches should be a Numpy array with the shape `(number of batches, 2, batch size, sequence length)`. Each batch contains two elements:\n",
    "- The first element is a single batch of **input** with the shape `[batch size, sequence length]`\n",
    "- The second element is a single batch of **targets** with the shape `[batch size, sequence length]`\n",
    "\n",
    "If you can't fill the last batch with enough data, drop the last batch.\n",
    "\n",
    "For exmple, `get_batches([1, 2, 3, 4, 5, 6, 7, 8, 9, 10, 11, 12, 13, 14, 15, 16, 17, 18, 19, 20], 3, 2)` would return a Numpy array of the following:\n",
    "```\n",
    "[\n",
    "  # First Batch\n",
    "  [\n",
    "    # Batch of Input\n",
    "    [[ 1  2], [ 7  8], [13 14]]\n",
    "    # Batch of targets\n",
    "    [[ 2  3], [ 8  9], [14 15]]\n",
    "  ]\n",
    "\n",
    "  # Second Batch\n",
    "  [\n",
    "    # Batch of Input\n",
    "    [[ 3  4], [ 9 10], [15 16]]\n",
    "    # Batch of targets\n",
    "    [[ 4  5], [10 11], [16 17]]\n",
    "  ]\n",
    "\n",
    "  # Third Batch\n",
    "  [\n",
    "    # Batch of Input\n",
    "    [[ 5  6], [11 12], [17 18]]\n",
    "    # Batch of targets\n",
    "    [[ 6  7], [12 13], [18  1]]\n",
    "  ]\n",
    "]\n",
    "```\n",
    "\n",
    "Notice that the last target value in the last batch is the first input value of the first batch. In this case, `1`. This is a common technique used when creating sequence batches, although it is rather unintuitive."
   ]
  },
  {
   "cell_type": "code",
   "execution_count": 14,
   "metadata": {},
   "outputs": [
    {
     "name": "stdout",
     "output_type": "stream",
     "text": [
      "Tests Passed\n"
     ]
    }
   ],
   "source": [
    "def get_batches(int_text, batch_size, seq_length):\n",
    "    \"\"\"\n",
    "    Return batches of input and target\n",
    "    :param int_text: Text with the words replaced by their ids\n",
    "    :param batch_size: The size of batch\n",
    "    :param seq_length: The length of sequence\n",
    "    :return: Batches as a Numpy array\n",
    "    \"\"\"\n",
    "    word_per_batch = batch_size * seq_length\n",
    "    n_batches = len(int_text) // (word_per_batch)\n",
    "    \n",
    "    # Cut our data to our maximum numbers of full batches\n",
    "    int_text = int_text[:n_batches * word_per_batch]\n",
    "    \n",
    "    # Make a copy to make it easier to work ahead\n",
    "    x = np.array(int_text)\n",
    "    \n",
    "    # Shift our input and make the first of input, the last of output\n",
    "    y = np.array(int_text[1:] + int_text[:1])\n",
    "\n",
    "    # Split our rows of X into n_batches parts\n",
    "    x_batches = np.split(x.reshape(batch_size, -1), n_batches, 1)\n",
    "    # Split our rows of Y into n_batches parts\n",
    "    y_batches = np.split(y.reshape(batch_size, -1), n_batches, 1)\n",
    "\n",
    "    # Put it all together\n",
    "    return np.array(list(zip(x_batches, y_batches)))\n",
    "\n",
    "\"\"\"\n",
    "DON'T MODIFY ANYTHING IN THIS CELL THAT IS BELOW THIS LINE\n",
    "\"\"\"\n",
    "\n",
    "tests.test_get_batches(get_batches)"
   ]
  },
  {
   "cell_type": "markdown",
   "metadata": {},
   "source": [
    "## Neural Network Training\n",
    "### Hyperparameters\n",
    "Tune the following parameters:\n",
    "\n",
    "- Set `num_epochs` to the number of epochs.\n",
    "- Set `batch_size` to the batch size.\n",
    "- Set `rnn_size` to the size of the RNNs.\n",
    "- Set `embed_dim` to the size of the embedding.\n",
    "- Set `seq_length` to the length of sequence.\n",
    "- Set `learning_rate` to the learning rate.\n",
    "- Set `show_every_n_batches` to the number of batches the neural network should print progress."
   ]
  },
  {
   "cell_type": "code",
   "execution_count": 21,
   "metadata": {
    "collapsed": true
   },
   "outputs": [],
   "source": [
    "# Number of Epochs\n",
    "num_epochs = 128\n",
    "# Batch Size\n",
    "batch_size = 128\n",
    "# RNN Size\n",
    "rnn_size = 128\n",
    "# Embedding Dimension Size\n",
    "embed_dim = 128\n",
    "# Sequence Length\n",
    "seq_length = 6\n",
    "# Learning Rate\n",
    "learning_rate = 0.01\n",
    "# Show stats for every n number of batches\n",
    "show_every_n_batches = 32\n",
    "\n",
    "# Custom param to try getting the accuraccy up.\n",
    "lstm_layers = 2\n",
    "keep_prob = 1.0\n",
    "\n",
    "\"\"\"\n",
    "DON'T MODIFY ANYTHING IN THIS CELL THAT IS BELOW THIS LINE\n",
    "\"\"\"\n",
    "save_dir = './save'"
   ]
  },
  {
   "cell_type": "markdown",
   "metadata": {},
   "source": [
    "### Build the Graph\n",
    "Build the graph using the neural network you implemented."
   ]
  },
  {
   "cell_type": "code",
   "execution_count": 22,
   "metadata": {
    "collapsed": true
   },
   "outputs": [],
   "source": [
    "\"\"\"\n",
    "DON'T MODIFY ANYTHING IN THIS CELL\n",
    "\"\"\"\n",
    "from tensorflow.contrib import seq2seq\n",
    "\n",
    "train_graph = tf.Graph()\n",
    "with train_graph.as_default():\n",
    "    vocab_size = len(int_to_vocab)\n",
    "    input_text, targets, lr = get_inputs()\n",
    "    input_data_shape = tf.shape(input_text)\n",
    "    cell, initial_state = get_init_cell(input_data_shape[0], rnn_size, lstm_layers=lstm_layers, keep_prob=keep_prob)\n",
    "    logits, final_state = build_nn(cell, rnn_size, input_text, vocab_size, embed_dim)\n",
    "\n",
    "    # Probabilities for generating words\n",
    "    probs = tf.nn.softmax(logits, name='probs')\n",
    "\n",
    "    # Loss function\n",
    "    cost = seq2seq.sequence_loss(\n",
    "        logits,\n",
    "        targets,\n",
    "        tf.ones([input_data_shape[0], input_data_shape[1]]))\n",
    "\n",
    "    # Optimizer\n",
    "    optimizer = tf.train.AdamOptimizer(lr)\n",
    "\n",
    "    # Gradient Clipping\n",
    "    gradients = optimizer.compute_gradients(cost)\n",
    "    capped_gradients = [(tf.clip_by_value(grad, -1., 1.), var) for grad, var in gradients if grad is not None]\n",
    "    train_op = optimizer.apply_gradients(capped_gradients)"
   ]
  },
  {
   "cell_type": "markdown",
   "metadata": {},
   "source": [
    "## Train\n",
    "Train the neural network on the preprocessed data.  If you have a hard time getting a good loss, check the [forms](https://discussions.udacity.com/) to see if anyone is having the same problem."
   ]
  },
  {
   "cell_type": "code",
   "execution_count": 23,
   "metadata": {},
   "outputs": [
    {
     "name": "stdout",
     "output_type": "stream",
     "text": [
      "Epoch   0 Batch    0/89   train_loss = 8.825\n",
      "Epoch   0 Batch   32/89   train_loss = 6.050\n",
      "Epoch   0 Batch   64/89   train_loss = 5.591\n",
      "Epoch   1 Batch    7/89   train_loss = 5.147\n",
      "Epoch   1 Batch   39/89   train_loss = 5.037\n",
      "Epoch   1 Batch   71/89   train_loss = 5.119\n",
      "Epoch   2 Batch   14/89   train_loss = 4.821\n",
      "Epoch   2 Batch   46/89   train_loss = 4.865\n",
      "Epoch   2 Batch   78/89   train_loss = 4.420\n",
      "Epoch   3 Batch   21/89   train_loss = 4.589\n",
      "Epoch   3 Batch   53/89   train_loss = 4.592\n",
      "Epoch   3 Batch   85/89   train_loss = 4.400\n",
      "Epoch   4 Batch   28/89   train_loss = 4.143\n",
      "Epoch   4 Batch   60/89   train_loss = 4.319\n",
      "Epoch   5 Batch    3/89   train_loss = 4.143\n",
      "Epoch   5 Batch   35/89   train_loss = 4.202\n",
      "Epoch   5 Batch   67/89   train_loss = 4.129\n",
      "Epoch   6 Batch   10/89   train_loss = 3.901\n",
      "Epoch   6 Batch   42/89   train_loss = 3.977\n",
      "Epoch   6 Batch   74/89   train_loss = 3.905\n",
      "Epoch   7 Batch   17/89   train_loss = 3.899\n",
      "Epoch   7 Batch   49/89   train_loss = 3.779\n",
      "Epoch   7 Batch   81/89   train_loss = 3.806\n",
      "Epoch   8 Batch   24/89   train_loss = 3.601\n",
      "Epoch   8 Batch   56/89   train_loss = 3.674\n",
      "Epoch   8 Batch   88/89   train_loss = 3.703\n",
      "Epoch   9 Batch   31/89   train_loss = 3.300\n",
      "Epoch   9 Batch   63/89   train_loss = 3.525\n",
      "Epoch  10 Batch    6/89   train_loss = 3.477\n",
      "Epoch  10 Batch   38/89   train_loss = 3.311\n",
      "Epoch  10 Batch   70/89   train_loss = 3.244\n",
      "Epoch  11 Batch   13/89   train_loss = 3.178\n",
      "Epoch  11 Batch   45/89   train_loss = 3.170\n",
      "Epoch  11 Batch   77/89   train_loss = 3.247\n",
      "Epoch  12 Batch   20/89   train_loss = 3.119\n",
      "Epoch  12 Batch   52/89   train_loss = 3.046\n",
      "Epoch  12 Batch   84/89   train_loss = 3.021\n",
      "Epoch  13 Batch   27/89   train_loss = 2.946\n",
      "Epoch  13 Batch   59/89   train_loss = 2.949\n",
      "Epoch  14 Batch    2/89   train_loss = 2.862\n",
      "Epoch  14 Batch   34/89   train_loss = 2.836\n",
      "Epoch  14 Batch   66/89   train_loss = 2.846\n",
      "Epoch  15 Batch    9/89   train_loss = 2.676\n",
      "Epoch  15 Batch   41/89   train_loss = 2.681\n",
      "Epoch  15 Batch   73/89   train_loss = 2.557\n",
      "Epoch  16 Batch   16/89   train_loss = 2.613\n",
      "Epoch  16 Batch   48/89   train_loss = 2.606\n",
      "Epoch  16 Batch   80/89   train_loss = 2.592\n",
      "Epoch  17 Batch   23/89   train_loss = 2.459\n",
      "Epoch  17 Batch   55/89   train_loss = 2.466\n",
      "Epoch  17 Batch   87/89   train_loss = 2.518\n",
      "Epoch  18 Batch   30/89   train_loss = 2.282\n",
      "Epoch  18 Batch   62/89   train_loss = 2.675\n",
      "Epoch  19 Batch    5/89   train_loss = 2.361\n",
      "Epoch  19 Batch   37/89   train_loss = 2.203\n",
      "Epoch  19 Batch   69/89   train_loss = 2.221\n",
      "Epoch  20 Batch   12/89   train_loss = 2.384\n",
      "Epoch  20 Batch   44/89   train_loss = 2.178\n",
      "Epoch  20 Batch   76/89   train_loss = 2.138\n",
      "Epoch  21 Batch   19/89   train_loss = 2.168\n",
      "Epoch  21 Batch   51/89   train_loss = 2.297\n",
      "Epoch  21 Batch   83/89   train_loss = 2.082\n",
      "Epoch  22 Batch   26/89   train_loss = 2.055\n",
      "Epoch  22 Batch   58/89   train_loss = 2.034\n",
      "Epoch  23 Batch    1/89   train_loss = 2.200\n",
      "Epoch  23 Batch   33/89   train_loss = 2.022\n",
      "Epoch  23 Batch   65/89   train_loss = 1.893\n",
      "Epoch  24 Batch    8/89   train_loss = 2.043\n",
      "Epoch  24 Batch   40/89   train_loss = 1.968\n",
      "Epoch  24 Batch   72/89   train_loss = 1.861\n",
      "Epoch  25 Batch   15/89   train_loss = 2.075\n",
      "Epoch  25 Batch   47/89   train_loss = 1.895\n",
      "Epoch  25 Batch   79/89   train_loss = 1.970\n",
      "Epoch  26 Batch   22/89   train_loss = 1.814\n",
      "Epoch  26 Batch   54/89   train_loss = 1.885\n",
      "Epoch  26 Batch   86/89   train_loss = 1.845\n",
      "Epoch  27 Batch   29/89   train_loss = 1.790\n",
      "Epoch  27 Batch   61/89   train_loss = 1.884\n",
      "Epoch  28 Batch    4/89   train_loss = 1.839\n",
      "Epoch  28 Batch   36/89   train_loss = 1.661\n",
      "Epoch  28 Batch   68/89   train_loss = 1.700\n",
      "Epoch  29 Batch   11/89   train_loss = 1.839\n",
      "Epoch  29 Batch   43/89   train_loss = 1.656\n",
      "Epoch  29 Batch   75/89   train_loss = 1.841\n",
      "Epoch  30 Batch   18/89   train_loss = 1.560\n",
      "Epoch  30 Batch   50/89   train_loss = 1.670\n",
      "Epoch  30 Batch   82/89   train_loss = 1.660\n",
      "Epoch  31 Batch   25/89   train_loss = 1.680\n",
      "Epoch  31 Batch   57/89   train_loss = 1.591\n",
      "Epoch  32 Batch    0/89   train_loss = 1.624\n",
      "Epoch  32 Batch   32/89   train_loss = 1.497\n",
      "Epoch  32 Batch   64/89   train_loss = 1.681\n",
      "Epoch  33 Batch    7/89   train_loss = 1.627\n",
      "Epoch  33 Batch   39/89   train_loss = 1.529\n",
      "Epoch  33 Batch   71/89   train_loss = 1.544\n",
      "Epoch  34 Batch   14/89   train_loss = 1.487\n",
      "Epoch  34 Batch   46/89   train_loss = 1.529\n",
      "Epoch  34 Batch   78/89   train_loss = 1.378\n",
      "Epoch  35 Batch   21/89   train_loss = 1.610\n",
      "Epoch  35 Batch   53/89   train_loss = 1.456\n",
      "Epoch  35 Batch   85/89   train_loss = 1.513\n",
      "Epoch  36 Batch   28/89   train_loss = 1.416\n",
      "Epoch  36 Batch   60/89   train_loss = 1.445\n",
      "Epoch  37 Batch    3/89   train_loss = 1.488\n",
      "Epoch  37 Batch   35/89   train_loss = 1.467\n",
      "Epoch  37 Batch   67/89   train_loss = 1.433\n",
      "Epoch  38 Batch   10/89   train_loss = 1.423\n",
      "Epoch  38 Batch   42/89   train_loss = 1.449\n",
      "Epoch  38 Batch   74/89   train_loss = 1.481\n",
      "Epoch  39 Batch   17/89   train_loss = 1.425\n",
      "Epoch  39 Batch   49/89   train_loss = 1.320\n",
      "Epoch  39 Batch   81/89   train_loss = 1.502\n",
      "Epoch  40 Batch   24/89   train_loss = 1.397\n",
      "Epoch  40 Batch   56/89   train_loss = 1.351\n",
      "Epoch  40 Batch   88/89   train_loss = 1.348\n",
      "Epoch  41 Batch   31/89   train_loss = 1.395\n",
      "Epoch  41 Batch   63/89   train_loss = 1.320\n",
      "Epoch  42 Batch    6/89   train_loss = 1.440\n",
      "Epoch  42 Batch   38/89   train_loss = 1.418\n",
      "Epoch  42 Batch   70/89   train_loss = 1.344\n",
      "Epoch  43 Batch   13/89   train_loss = 1.327\n",
      "Epoch  43 Batch   45/89   train_loss = 1.478\n",
      "Epoch  43 Batch   77/89   train_loss = 1.355\n",
      "Epoch  44 Batch   20/89   train_loss = 1.420\n",
      "Epoch  44 Batch   52/89   train_loss = 1.400\n",
      "Epoch  44 Batch   84/89   train_loss = 1.330\n",
      "Epoch  45 Batch   27/89   train_loss = 1.339\n",
      "Epoch  45 Batch   59/89   train_loss = 1.262\n",
      "Epoch  46 Batch    2/89   train_loss = 1.325\n",
      "Epoch  46 Batch   34/89   train_loss = 1.278\n",
      "Epoch  46 Batch   66/89   train_loss = 1.335\n",
      "Epoch  47 Batch    9/89   train_loss = 1.187\n",
      "Epoch  47 Batch   41/89   train_loss = 1.264\n",
      "Epoch  47 Batch   73/89   train_loss = 1.217\n",
      "Epoch  48 Batch   16/89   train_loss = 1.297\n",
      "Epoch  48 Batch   48/89   train_loss = 1.230\n",
      "Epoch  48 Batch   80/89   train_loss = 1.360\n",
      "Epoch  49 Batch   23/89   train_loss = 1.173\n",
      "Epoch  49 Batch   55/89   train_loss = 1.240\n",
      "Epoch  49 Batch   87/89   train_loss = 1.176\n",
      "Epoch  50 Batch   30/89   train_loss = 1.179\n",
      "Epoch  50 Batch   62/89   train_loss = 1.343\n",
      "Epoch  51 Batch    5/89   train_loss = 1.218\n",
      "Epoch  51 Batch   37/89   train_loss = 1.178\n",
      "Epoch  51 Batch   69/89   train_loss = 1.089\n",
      "Epoch  52 Batch   12/89   train_loss = 1.282\n",
      "Epoch  52 Batch   44/89   train_loss = 1.183\n",
      "Epoch  52 Batch   76/89   train_loss = 1.106\n",
      "Epoch  53 Batch   19/89   train_loss = 1.159\n",
      "Epoch  53 Batch   51/89   train_loss = 1.271\n",
      "Epoch  53 Batch   83/89   train_loss = 1.156\n",
      "Epoch  54 Batch   26/89   train_loss = 1.294\n",
      "Epoch  54 Batch   58/89   train_loss = 1.203\n",
      "Epoch  55 Batch    1/89   train_loss = 1.353\n",
      "Epoch  55 Batch   33/89   train_loss = 1.169\n",
      "Epoch  55 Batch   65/89   train_loss = 1.145\n",
      "Epoch  56 Batch    8/89   train_loss = 1.240\n",
      "Epoch  56 Batch   40/89   train_loss = 1.273\n",
      "Epoch  56 Batch   72/89   train_loss = 1.126\n",
      "Epoch  57 Batch   15/89   train_loss = 1.287\n",
      "Epoch  57 Batch   47/89   train_loss = 1.185\n",
      "Epoch  57 Batch   79/89   train_loss = 1.273\n",
      "Epoch  58 Batch   22/89   train_loss = 1.169\n",
      "Epoch  58 Batch   54/89   train_loss = 1.232\n",
      "Epoch  58 Batch   86/89   train_loss = 1.202\n",
      "Epoch  59 Batch   29/89   train_loss = 1.218\n",
      "Epoch  59 Batch   61/89   train_loss = 1.252\n",
      "Epoch  60 Batch    4/89   train_loss = 1.164\n",
      "Epoch  60 Batch   36/89   train_loss = 1.115\n",
      "Epoch  60 Batch   68/89   train_loss = 1.149\n",
      "Epoch  61 Batch   11/89   train_loss = 1.261\n",
      "Epoch  61 Batch   43/89   train_loss = 1.190\n",
      "Epoch  61 Batch   75/89   train_loss = 1.212\n",
      "Epoch  62 Batch   18/89   train_loss = 1.119\n",
      "Epoch  62 Batch   50/89   train_loss = 1.205\n",
      "Epoch  62 Batch   82/89   train_loss = 1.165\n",
      "Epoch  63 Batch   25/89   train_loss = 1.252\n",
      "Epoch  63 Batch   57/89   train_loss = 1.066\n",
      "Epoch  64 Batch    0/89   train_loss = 1.208\n",
      "Epoch  64 Batch   32/89   train_loss = 1.101\n",
      "Epoch  64 Batch   64/89   train_loss = 1.205\n",
      "Epoch  65 Batch    7/89   train_loss = 1.242\n",
      "Epoch  65 Batch   39/89   train_loss = 1.114\n"
     ]
    },
    {
     "name": "stdout",
     "output_type": "stream",
     "text": [
      "Epoch  65 Batch   71/89   train_loss = 1.126\n",
      "Epoch  66 Batch   14/89   train_loss = 1.141\n",
      "Epoch  66 Batch   46/89   train_loss = 1.134\n",
      "Epoch  66 Batch   78/89   train_loss = 1.002\n",
      "Epoch  67 Batch   21/89   train_loss = 1.177\n",
      "Epoch  67 Batch   53/89   train_loss = 1.093\n",
      "Epoch  67 Batch   85/89   train_loss = 1.068\n",
      "Epoch  68 Batch   28/89   train_loss = 1.039\n",
      "Epoch  68 Batch   60/89   train_loss = 1.095\n",
      "Epoch  69 Batch    3/89   train_loss = 1.090\n",
      "Epoch  69 Batch   35/89   train_loss = 1.089\n",
      "Epoch  69 Batch   67/89   train_loss = 0.976\n",
      "Epoch  70 Batch   10/89   train_loss = 1.077\n",
      "Epoch  70 Batch   42/89   train_loss = 1.107\n",
      "Epoch  70 Batch   74/89   train_loss = 1.084\n",
      "Epoch  71 Batch   17/89   train_loss = 1.047\n",
      "Epoch  71 Batch   49/89   train_loss = 1.012\n",
      "Epoch  71 Batch   81/89   train_loss = 1.106\n",
      "Epoch  72 Batch   24/89   train_loss = 1.161\n",
      "Epoch  72 Batch   56/89   train_loss = 1.035\n",
      "Epoch  72 Batch   88/89   train_loss = 1.051\n",
      "Epoch  73 Batch   31/89   train_loss = 1.120\n",
      "Epoch  73 Batch   63/89   train_loss = 1.056\n",
      "Epoch  74 Batch    6/89   train_loss = 1.157\n",
      "Epoch  74 Batch   38/89   train_loss = 1.082\n",
      "Epoch  74 Batch   70/89   train_loss = 1.057\n",
      "Epoch  75 Batch   13/89   train_loss = 1.029\n",
      "Epoch  75 Batch   45/89   train_loss = 1.157\n",
      "Epoch  75 Batch   77/89   train_loss = 1.088\n",
      "Epoch  76 Batch   20/89   train_loss = 1.105\n",
      "Epoch  76 Batch   52/89   train_loss = 1.094\n",
      "Epoch  76 Batch   84/89   train_loss = 1.110\n",
      "Epoch  77 Batch   27/89   train_loss = 1.116\n",
      "Epoch  77 Batch   59/89   train_loss = 1.095\n",
      "Epoch  78 Batch    2/89   train_loss = 1.146\n",
      "Epoch  78 Batch   34/89   train_loss = 1.118\n",
      "Epoch  78 Batch   66/89   train_loss = 1.218\n",
      "Epoch  79 Batch    9/89   train_loss = 1.095\n",
      "Epoch  79 Batch   41/89   train_loss = 1.200\n",
      "Epoch  79 Batch   73/89   train_loss = 1.102\n",
      "Epoch  80 Batch   16/89   train_loss = 1.163\n",
      "Epoch  80 Batch   48/89   train_loss = 1.214\n",
      "Epoch  80 Batch   80/89   train_loss = 1.233\n",
      "Epoch  81 Batch   23/89   train_loss = 1.183\n",
      "Epoch  81 Batch   55/89   train_loss = 1.230\n",
      "Epoch  81 Batch   87/89   train_loss = 1.186\n",
      "Epoch  82 Batch   30/89   train_loss = 1.192\n",
      "Epoch  82 Batch   62/89   train_loss = 1.300\n",
      "Epoch  83 Batch    5/89   train_loss = 1.100\n",
      "Epoch  83 Batch   37/89   train_loss = 1.124\n",
      "Epoch  83 Batch   69/89   train_loss = 1.075\n",
      "Epoch  84 Batch   12/89   train_loss = 1.160\n",
      "Epoch  84 Batch   44/89   train_loss = 1.142\n",
      "Epoch  84 Batch   76/89   train_loss = 1.021\n",
      "Epoch  85 Batch   19/89   train_loss = 1.044\n",
      "Epoch  85 Batch   51/89   train_loss = 1.153\n",
      "Epoch  85 Batch   83/89   train_loss = 1.081\n",
      "Epoch  86 Batch   26/89   train_loss = 1.153\n",
      "Epoch  86 Batch   58/89   train_loss = 1.144\n",
      "Epoch  87 Batch    1/89   train_loss = 1.199\n",
      "Epoch  87 Batch   33/89   train_loss = 1.076\n",
      "Epoch  87 Batch   65/89   train_loss = 1.084\n",
      "Epoch  88 Batch    8/89   train_loss = 1.084\n",
      "Epoch  88 Batch   40/89   train_loss = 1.076\n",
      "Epoch  88 Batch   72/89   train_loss = 0.931\n",
      "Epoch  89 Batch   15/89   train_loss = 1.152\n",
      "Epoch  89 Batch   47/89   train_loss = 0.947\n",
      "Epoch  89 Batch   79/89   train_loss = 1.041\n",
      "Epoch  90 Batch   22/89   train_loss = 0.957\n",
      "Epoch  90 Batch   54/89   train_loss = 0.960\n",
      "Epoch  90 Batch   86/89   train_loss = 0.921\n",
      "Epoch  91 Batch   29/89   train_loss = 1.039\n",
      "Epoch  91 Batch   61/89   train_loss = 1.002\n",
      "Epoch  92 Batch    4/89   train_loss = 0.928\n",
      "Epoch  92 Batch   36/89   train_loss = 0.881\n",
      "Epoch  92 Batch   68/89   train_loss = 0.891\n",
      "Epoch  93 Batch   11/89   train_loss = 0.995\n",
      "Epoch  93 Batch   43/89   train_loss = 0.940\n",
      "Epoch  93 Batch   75/89   train_loss = 0.946\n",
      "Epoch  94 Batch   18/89   train_loss = 0.869\n",
      "Epoch  94 Batch   50/89   train_loss = 0.919\n",
      "Epoch  94 Batch   82/89   train_loss = 0.910\n",
      "Epoch  95 Batch   25/89   train_loss = 0.944\n",
      "Epoch  95 Batch   57/89   train_loss = 0.814\n",
      "Epoch  96 Batch    0/89   train_loss = 0.957\n",
      "Epoch  96 Batch   32/89   train_loss = 0.906\n",
      "Epoch  96 Batch   64/89   train_loss = 0.941\n",
      "Epoch  97 Batch    7/89   train_loss = 0.941\n",
      "Epoch  97 Batch   39/89   train_loss = 0.921\n",
      "Epoch  97 Batch   71/89   train_loss = 0.945\n",
      "Epoch  98 Batch   14/89   train_loss = 0.953\n",
      "Epoch  98 Batch   46/89   train_loss = 0.970\n",
      "Epoch  98 Batch   78/89   train_loss = 0.883\n",
      "Epoch  99 Batch   21/89   train_loss = 1.017\n",
      "Epoch  99 Batch   53/89   train_loss = 0.994\n",
      "Epoch  99 Batch   85/89   train_loss = 0.949\n",
      "Epoch 100 Batch   28/89   train_loss = 0.998\n",
      "Epoch 100 Batch   60/89   train_loss = 1.032\n",
      "Epoch 101 Batch    3/89   train_loss = 1.028\n",
      "Epoch 101 Batch   35/89   train_loss = 1.156\n",
      "Epoch 101 Batch   67/89   train_loss = 1.145\n",
      "Epoch 102 Batch   10/89   train_loss = 1.159\n",
      "Epoch 102 Batch   42/89   train_loss = 1.326\n",
      "Epoch 102 Batch   74/89   train_loss = 1.269\n",
      "Epoch 103 Batch   17/89   train_loss = 1.318\n",
      "Epoch 103 Batch   49/89   train_loss = 1.330\n",
      "Epoch 103 Batch   81/89   train_loss = 1.392\n",
      "Epoch 104 Batch   24/89   train_loss = 1.397\n",
      "Epoch 104 Batch   56/89   train_loss = 1.313\n",
      "Epoch 104 Batch   88/89   train_loss = 1.388\n",
      "Epoch 105 Batch   31/89   train_loss = 1.392\n",
      "Epoch 105 Batch   63/89   train_loss = 1.301\n",
      "Epoch 106 Batch    6/89   train_loss = 1.378\n",
      "Epoch 106 Batch   38/89   train_loss = 1.378\n",
      "Epoch 106 Batch   70/89   train_loss = 1.358\n",
      "Epoch 107 Batch   13/89   train_loss = 1.248\n",
      "Epoch 107 Batch   45/89   train_loss = 1.295\n",
      "Epoch 107 Batch   77/89   train_loss = 1.285\n",
      "Epoch 108 Batch   20/89   train_loss = 1.325\n",
      "Epoch 108 Batch   52/89   train_loss = 1.218\n",
      "Epoch 108 Batch   84/89   train_loss = 1.236\n",
      "Epoch 109 Batch   27/89   train_loss = 1.118\n",
      "Epoch 109 Batch   59/89   train_loss = 1.177\n",
      "Epoch 110 Batch    2/89   train_loss = 1.127\n",
      "Epoch 110 Batch   34/89   train_loss = 1.135\n",
      "Epoch 110 Batch   66/89   train_loss = 1.146\n",
      "Epoch 111 Batch    9/89   train_loss = 0.999\n",
      "Epoch 111 Batch   41/89   train_loss = 1.035\n",
      "Epoch 111 Batch   73/89   train_loss = 0.993\n",
      "Epoch 112 Batch   16/89   train_loss = 0.967\n",
      "Epoch 112 Batch   48/89   train_loss = 1.030\n",
      "Epoch 112 Batch   80/89   train_loss = 1.018\n",
      "Epoch 113 Batch   23/89   train_loss = 0.928\n",
      "Epoch 113 Batch   55/89   train_loss = 0.968\n",
      "Epoch 113 Batch   87/89   train_loss = 0.947\n",
      "Epoch 114 Batch   30/89   train_loss = 0.919\n",
      "Epoch 114 Batch   62/89   train_loss = 0.989\n",
      "Epoch 115 Batch    5/89   train_loss = 0.874\n",
      "Epoch 115 Batch   37/89   train_loss = 0.814\n",
      "Epoch 115 Batch   69/89   train_loss = 0.790\n",
      "Epoch 116 Batch   12/89   train_loss = 0.884\n",
      "Epoch 116 Batch   44/89   train_loss = 0.854\n",
      "Epoch 116 Batch   76/89   train_loss = 0.778\n",
      "Epoch 117 Batch   19/89   train_loss = 0.798\n",
      "Epoch 117 Batch   51/89   train_loss = 0.894\n",
      "Epoch 117 Batch   83/89   train_loss = 0.834\n",
      "Epoch 118 Batch   26/89   train_loss = 0.876\n",
      "Epoch 118 Batch   58/89   train_loss = 0.867\n",
      "Epoch 119 Batch    1/89   train_loss = 0.929\n",
      "Epoch 119 Batch   33/89   train_loss = 0.779\n",
      "Epoch 119 Batch   65/89   train_loss = 0.775\n",
      "Epoch 120 Batch    8/89   train_loss = 0.796\n",
      "Epoch 120 Batch   40/89   train_loss = 0.809\n",
      "Epoch 120 Batch   72/89   train_loss = 0.745\n",
      "Epoch 121 Batch   15/89   train_loss = 0.843\n",
      "Epoch 121 Batch   47/89   train_loss = 0.775\n",
      "Epoch 121 Batch   79/89   train_loss = 0.828\n",
      "Epoch 122 Batch   22/89   train_loss = 0.783\n",
      "Epoch 122 Batch   54/89   train_loss = 0.746\n",
      "Epoch 122 Batch   86/89   train_loss = 0.749\n",
      "Epoch 123 Batch   29/89   train_loss = 0.802\n",
      "Epoch 123 Batch   61/89   train_loss = 0.807\n",
      "Epoch 124 Batch    4/89   train_loss = 0.763\n",
      "Epoch 124 Batch   36/89   train_loss = 0.716\n",
      "Epoch 124 Batch   68/89   train_loss = 0.758\n",
      "Epoch 125 Batch   11/89   train_loss = 0.791\n",
      "Epoch 125 Batch   43/89   train_loss = 0.809\n",
      "Epoch 125 Batch   75/89   train_loss = 0.818\n",
      "Epoch 126 Batch   18/89   train_loss = 0.728\n",
      "Epoch 126 Batch   50/89   train_loss = 0.782\n",
      "Epoch 126 Batch   82/89   train_loss = 0.802\n",
      "Epoch 127 Batch   25/89   train_loss = 0.820\n",
      "Epoch 127 Batch   57/89   train_loss = 0.771\n",
      "Model Trained and Saved\n"
     ]
    }
   ],
   "source": [
    "\"\"\"\n",
    "DON'T MODIFY ANYTHING IN THIS CELL\n",
    "\"\"\"\n",
    "batches = get_batches(int_text, batch_size, seq_length)\n",
    "\n",
    "\n",
    "with tf.Session(graph=train_graph) as sess:\n",
    "    sess.run(tf.global_variables_initializer())\n",
    "\n",
    "    for epoch_i in range(num_epochs):\n",
    "        state = sess.run(initial_state, {input_text: batches[0][0]})\n",
    "\n",
    "        for batch_i, (x, y) in enumerate(batches):\n",
    "            feed = {\n",
    "                input_text: x,\n",
    "                targets: y,\n",
    "                initial_state: state,\n",
    "                lr: learning_rate}\n",
    "            train_loss, state, _ = sess.run([cost, final_state, train_op], feed)\n",
    "\n",
    "            # Show every <show_every_n_batches> batches\n",
    "            if (epoch_i * len(batches) + batch_i) % show_every_n_batches == 0:\n",
    "                print('Epoch {:>3} Batch {:>4}/{}   train_loss = {:.3f}'.format(\n",
    "                    epoch_i,\n",
    "                    batch_i,\n",
    "                    len(batches),\n",
    "                    train_loss))\n",
    "\n",
    "    # Save Model\n",
    "    saver = tf.train.Saver()\n",
    "    saver.save(sess, save_dir)\n",
    "    print('Model Trained and Saved')"
   ]
  },
  {
   "cell_type": "markdown",
   "metadata": {},
   "source": [
    "## Save Parameters\n",
    "Save `seq_length` and `save_dir` for generating a new TV script."
   ]
  },
  {
   "cell_type": "code",
   "execution_count": 24,
   "metadata": {
    "collapsed": true
   },
   "outputs": [],
   "source": [
    "\"\"\"\n",
    "DON'T MODIFY ANYTHING IN THIS CELL\n",
    "\"\"\"\n",
    "# Save parameters for checkpoint\n",
    "helper.save_params((seq_length, save_dir))"
   ]
  },
  {
   "cell_type": "markdown",
   "metadata": {},
   "source": [
    "# Checkpoint"
   ]
  },
  {
   "cell_type": "code",
   "execution_count": 25,
   "metadata": {
    "collapsed": true
   },
   "outputs": [],
   "source": [
    "\"\"\"\n",
    "DON'T MODIFY ANYTHING IN THIS CELL\n",
    "\"\"\"\n",
    "import tensorflow as tf\n",
    "import numpy as np\n",
    "import helper\n",
    "import problem_unittests as tests\n",
    "\n",
    "_, vocab_to_int, int_to_vocab, token_dict = helper.load_preprocess()\n",
    "seq_length, load_dir = helper.load_params()"
   ]
  },
  {
   "cell_type": "markdown",
   "metadata": {},
   "source": [
    "## Implement Generate Functions\n",
    "### Get Tensors\n",
    "Get tensors from `loaded_graph` using the function [`get_tensor_by_name()`](https://www.tensorflow.org/api_docs/python/tf/Graph#get_tensor_by_name).  Get the tensors using the following names:\n",
    "- \"input:0\"\n",
    "- \"initial_state:0\"\n",
    "- \"final_state:0\"\n",
    "- \"probs:0\"\n",
    "\n",
    "Return the tensors in the following tuple `(InputTensor, InitialStateTensor, FinalStateTensor, ProbsTensor)` "
   ]
  },
  {
   "cell_type": "code",
   "execution_count": 26,
   "metadata": {},
   "outputs": [
    {
     "name": "stdout",
     "output_type": "stream",
     "text": [
      "Tests Passed\n"
     ]
    }
   ],
   "source": [
    "def get_tensors(loaded_graph):\n",
    "    \"\"\"\n",
    "    Get input, initial state, final state, and probabilities tensor from <loaded_graph>\n",
    "    :param loaded_graph: TensorFlow graph loaded from file\n",
    "    :return: Tuple (InputTensor, InitialStateTensor, FinalStateTensor, ProbsTensor)\n",
    "    \"\"\"\n",
    "    input_tensor = loaded_graph.get_tensor_by_name('input:0')\n",
    "    \n",
    "    initial_state_tensor = loaded_graph.get_tensor_by_name('initial_state:0')\n",
    "    final_state_tensor = loaded_graph.get_tensor_by_name('final_state:0')\n",
    "    \n",
    "    probs_tensor = loaded_graph.get_tensor_by_name('probs:0')\n",
    "    \n",
    "    return input_tensor, initial_state_tensor, final_state_tensor, probs_tensor\n",
    "\n",
    "\"\"\"\n",
    "DON'T MODIFY ANYTHING IN THIS CELL THAT IS BELOW THIS LINE\n",
    "\"\"\"\n",
    "tests.test_get_tensors(get_tensors)"
   ]
  },
  {
   "cell_type": "markdown",
   "metadata": {},
   "source": [
    "### Choose Word\n",
    "Implement the `pick_word()` function to select the next word using `probabilities`."
   ]
  },
  {
   "cell_type": "code",
   "execution_count": 27,
   "metadata": {},
   "outputs": [
    {
     "name": "stdout",
     "output_type": "stream",
     "text": [
      "Tests Passed\n"
     ]
    }
   ],
   "source": [
    "def pick_word(probabilities, int_to_vocab):\n",
    "    \"\"\"\n",
    "    Pick the next word in the generated text\n",
    "    :param probabilities: Probabilites of the next word\n",
    "    :param int_to_vocab: Dictionary of word ids as the keys and words as the values\n",
    "    :return: String of the predicted word\n",
    "    \"\"\"\n",
    "    \n",
    "    return int_to_vocab[probabilities.argmax()]\n",
    "\n",
    "\n",
    "\"\"\"\n",
    "DON'T MODIFY ANYTHING IN THIS CELL THAT IS BELOW THIS LINE\n",
    "\"\"\"\n",
    "tests.test_pick_word(pick_word)"
   ]
  },
  {
   "cell_type": "markdown",
   "metadata": {},
   "source": [
    "## Generate TV Script\n",
    "This will generate the TV script for you.  Set `gen_length` to the length of TV script you want to generate."
   ]
  },
  {
   "cell_type": "code",
   "execution_count": 29,
   "metadata": {},
   "outputs": [
    {
     "name": "stdout",
     "output_type": "stream",
     "text": [
      "homer_simpson:(upset) marge, you're looking at me.\n",
      "homer_simpson: moe, i could want to declare your back all... the canyonero unsafe for your family therapy center.\n",
      "barney_gumble: yeah. but, so there's only one. a hundred?\n",
      "carl_carlson: uh, yeah. the greatest entertainer will ever had a little more sensitivity in fritz left off)\n",
      "marge_simpson: what am i should see the... what about pouring of the(raises glass in his bar now.\n",
      "moe_szyslak:(sings) just a book has used to hang a man to be a mean, like they go?\n",
      "lenny_leonard:(friendly) nope, wait, how never i'm gonna use you to no.\n",
      "homer_simpson:(drunk) yeah, you did. but if you can't ride where he really do it.\n",
      "homer_simpson:(sings) just, moe, he was the soul?\n",
      "lisa_simpson: let's-- my lot of the two who know.\n",
      "homer_simpson:(singing) blue in my picture, moe.\n",
      "moe_szyslak: yeah, i wish you\"-- i'll say like here, kiss my dishrag!\n",
      "moe_szyslak: uh, hello? uh, that's the perfect, you play?\n",
      "seymour_skinner: can i mean he's a bad ever made item.\n",
      "moe_szyslak: after your peanuts is, stop on! i'm the brassiest how would stop that ugly from the bad guy date.\n",
      "moe_szyslak: just a kid who know what you get the food-- i gotta know, i need a girl?\n",
      "homer_simpson:(drunk) okay. okay, ah, what are you doing all the keys. / lemme nuclear bart?\n",
      "homer_simpson: my lady's glass, homer. and they were in the bartender to meet this place for it!\n",
      "homer_simpson: moe, i don't care about that the new kisser.\n",
      "homer_simpson: i don't know nothin' about this. smell our kind the number!\n",
      "carl_carlson: yes, but it is insured.. i mostly never would follow my drunk?\n",
      "homer_simpson: yeah.\n",
      "jacques: well, yeah. i was two hundred?\n",
      "\n",
      "\n",
      "lenny_leonard: whatcha-- homer_simpson: hey, homer\n"
     ]
    }
   ],
   "source": [
    "gen_length = 400\n",
    "# homer_simpson, moe_szyslak, or barney_gumble\n",
    "prime_word = 'homer_simpson'\n",
    "\n",
    "\"\"\"\n",
    "DON'T MODIFY ANYTHING IN THIS CELL THAT IS BELOW THIS LINE\n",
    "\"\"\"\n",
    "loaded_graph = tf.Graph()\n",
    "with tf.Session(graph=loaded_graph) as sess:\n",
    "    # Load saved model\n",
    "    loader = tf.train.import_meta_graph(load_dir + '.meta')\n",
    "    loader.restore(sess, load_dir)\n",
    "\n",
    "    # Get Tensors from loaded model\n",
    "    input_text, initial_state, final_state, probs = get_tensors(loaded_graph)\n",
    "\n",
    "    # Sentences generation setup\n",
    "    gen_sentences = [prime_word + ':']\n",
    "    prev_state = sess.run(initial_state, {input_text: np.array([[1]])})\n",
    "\n",
    "    # Generate sentences\n",
    "    for n in range(gen_length):\n",
    "        # Dynamic Input\n",
    "        dyn_input = [[vocab_to_int[word] for word in gen_sentences[-seq_length:]]]\n",
    "        dyn_seq_length = len(dyn_input[0])\n",
    "\n",
    "        # Get Prediction\n",
    "        probabilities, prev_state = sess.run(\n",
    "            [probs, final_state],\n",
    "            {input_text: dyn_input, initial_state: prev_state})\n",
    "        \n",
    "        pred_word = pick_word(probabilities[dyn_seq_length-1], int_to_vocab)\n",
    "\n",
    "        gen_sentences.append(pred_word)\n",
    "    \n",
    "    # Remove tokens\n",
    "    tv_script = ' '.join(gen_sentences)\n",
    "    for key, token in token_dict.items():\n",
    "        ending = ' ' if key in ['\\n', '(', '\"'] else ''\n",
    "        tv_script = tv_script.replace(' ' + token.lower(), key)\n",
    "    tv_script = tv_script.replace('\\n ', '\\n')\n",
    "    tv_script = tv_script.replace('( ', '(')\n",
    "        \n",
    "    print(tv_script)"
   ]
  },
  {
   "cell_type": "markdown",
   "metadata": {},
   "source": [
    "# The TV Script is Nonsensical\n",
    "It's ok if the TV script doesn't make any sense.  We trained on less than a megabyte of text.  In order to get good results, you'll have to use a smaller vocabulary or get more data.  Luckly there's more data!  As we mentioned in the begging of this project, this is a subset of [another dataset](https://www.kaggle.com/wcukierski/the-simpsons-by-the-data).  We didn't have you train on all the data, because that would take too long.  However, you are free to train your neural network on all the data.  After you complete the project, of course.\n",
    "# Submitting This Project\n",
    "When submitting this project, make sure to run all the cells before saving the notebook. Save the notebook file as \"dlnd_tv_script_generation.ipynb\" and save it as a HTML file under \"File\" -> \"Download as\". Include the \"helper.py\" and \"problem_unittests.py\" files in your submission."
   ]
  }
 ],
 "metadata": {
  "kernelspec": {
   "display_name": "Python 3",
   "language": "python",
   "name": "python3"
  },
  "language_info": {
   "codemirror_mode": {
    "name": "ipython",
    "version": 3
   },
   "file_extension": ".py",
   "mimetype": "text/x-python",
   "name": "python",
   "nbconvert_exporter": "python",
   "pygments_lexer": "ipython3",
   "version": "3.6.2"
  }
 },
 "nbformat": 4,
 "nbformat_minor": 1
}
